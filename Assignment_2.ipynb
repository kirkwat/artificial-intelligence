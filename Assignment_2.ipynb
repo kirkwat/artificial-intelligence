{
  "cells": [
    {
      "cell_type": "markdown",
      "metadata": {
        "id": "F10idGLOaKUC"
      },
      "source": [
        "# Intelligent Agents: Reflex-Based Agents for the Vacuum-cleaner World\n",
        "\n",
        "Kirk Watson - 47876885\n",
        "\n",
        "\n",
        "## Instructions\n",
        "\n",
        "Total Points: Undergrads 100 / Graduate students 110\n",
        "\n",
        "Complete this notebook. Use the provided notebook cells and insert additional code and markdown cells as needed. Submit the completely rendered notebook as a PDF file. \n",
        "\n",
        "## Introduction\n",
        "\n",
        "In this assignment you will implement a simulator environment for an automatic vacuum cleaner robot, a set of different reflex-based agent programs, and perform a comparison study for cleaning a single room. Focus on the __cleaning phase__ which starts when the robot is activated and ends when the last dirty square in the room has been cleaned. Someone else will take care of the agent program needed to navigate back to the charging station after the room is clean.\n",
        "\n",
        "## PEAS description of the cleaning phase\n",
        "\n",
        "__Performance Measure:__ Each action costs 1 energy unit. The performance is measured as the sum of the energy units used to clean the whole room.\n",
        "\n",
        "__Environment:__ A room with $n \\times n$ squares where $n = 5$. Dirt is randomly placed on each square with probability $p = 0.2$. For simplicity, you can assume that the agent knows the size and the layout of the room (i.e., it knows $n$). To start, the agent is placed on a random square.\n",
        "\n",
        "__Actuators:__ The agent can clean the current square (action `suck`) or move to an adjacent square by going `north`, `east`, `south`, or `west`.\n",
        "\n",
        "__Sensors:__ Four bumper sensors, one for north, east, south, and west; a dirt sensor reporting dirt in the current square.  \n",
        "\n",
        "\n",
        "## The agent program for a simple randomized agent\n",
        "\n",
        "The agent program is a function that gets sensor information (the current percepts) as the arguments. The arguments are:\n",
        "\n",
        "* A dictionary with boolean entries for the for bumper sensors `north`, `east`, `west`, `south`. E.g., if the agent is on the north-west corner, `bumpers` will be `{\"north\" : True, \"east\" : False, \"south\" : False, \"west\" : True}`.\n",
        "* The dirt sensor produces a boolean.\n",
        "\n",
        "The agent returns the chosen action as a string.\n",
        "\n",
        "Here is an example implementation for the agent program of a simple randomized agent:  "
      ]
    },
    {
      "cell_type": "code",
      "execution_count": 2,
      "metadata": {
        "id": "63Hjm_hgaKUG"
      },
      "outputs": [],
      "source": [
        "import numpy as np\n",
        "\n",
        "actions = [\"north\", \"east\", \"west\", \"south\", \"suck\"]\n",
        "\n",
        "def simple_randomized_agent(bumpers, dirty, verbose):\n",
        "    return np.random.choice(actions)"
      ]
    },
    {
      "cell_type": "code",
      "execution_count": 3,
      "metadata": {
        "id": "92BvvODHaKUH",
        "outputId": "b24c00e3-8e44-4694-8293-32286c054c57",
        "colab": {
          "base_uri": "https://localhost:8080/",
          "height": 35
        }
      },
      "outputs": [
        {
          "output_type": "execute_result",
          "data": {
            "text/plain": [
              "'north'"
            ],
            "application/vnd.google.colaboratory.intrinsic+json": {
              "type": "string"
            }
          },
          "metadata": {},
          "execution_count": 3
        }
      ],
      "source": [
        "# define percepts (current location is NW corner and it is dirty)\n",
        "bumpers = {\"north\" : True, \"east\" : False, \"south\" : False, \"west\" : True}\n",
        "dirty = True\n",
        "\n",
        "# call agent program function with percepts and it returns an action\n",
        "simple_randomized_agent(bumpers, dirty, verbose=False)"
      ]
    },
    {
      "cell_type": "markdown",
      "metadata": {
        "id": "1t5g7mVTaKUI"
      },
      "source": [
        "__Note:__ This is not a rational intelligent agent. It ignores its sensors and may bump into a wall repeatedly or not clean a dirty square. You will be asked to implement rational agents below."
      ]
    },
    {
      "cell_type": "markdown",
      "metadata": {
        "id": "X5Hmhk0_aKUJ"
      },
      "source": [
        "## Simple environment example\n",
        "\n",
        "We implement a simple simulation environment that supplies the agent with its percepts.\n",
        "The simple environment is infinite in size (bumpers are always `False`) and every square is always dirty, even if the agent cleans it. The environment function returns a performance measure which is here the number of cleaned squares (since the room is infinite and all squares are constantly dirty, the agent can never clean the whole room as required in the PEAS description above). The energy budget of the agent is specified as `max_steps`. "
      ]
    },
    {
      "cell_type": "code",
      "execution_count": 4,
      "metadata": {
        "id": "sG0Nxgy_aKUJ"
      },
      "outputs": [],
      "source": [
        "def simple_environment(agent, max_steps, verbose = True):\n",
        "    num_cleaned = 0\n",
        "    \n",
        "    for i in range(max_steps):\n",
        "        dirty = True\n",
        "        bumpers = {\"north\" : False, \"south\" : False, \"west\" : False, \"east\" : False}\n",
        "\n",
        "        action = agent(bumpers, dirty, verbose)\n",
        "        if (verbose): print(\"step\", i , \"- action:\", action) \n",
        "        \n",
        "        if (action == \"suck\"): \n",
        "            num_cleaned = num_cleaned + 1\n",
        "        \n",
        "    return num_cleaned"
      ]
    },
    {
      "cell_type": "markdown",
      "metadata": {
        "id": "Ovd-W9InaKUK"
      },
      "source": [
        "Do one simulation run with a simple randomized agent that has enough energy for 20 steps."
      ]
    },
    {
      "cell_type": "code",
      "execution_count": 5,
      "metadata": {
        "id": "3Bt_YmiuaKUL",
        "outputId": "3a2adccf-abb2-491d-c64b-11aa8c152dc0",
        "colab": {
          "base_uri": "https://localhost:8080/",
          "height": 0
        }
      },
      "outputs": [
        {
          "output_type": "stream",
          "name": "stdout",
          "text": [
            "step 0 - action: west\n",
            "step 1 - action: west\n",
            "step 2 - action: east\n",
            "step 3 - action: east\n",
            "step 4 - action: south\n",
            "step 5 - action: north\n",
            "step 6 - action: suck\n",
            "step 7 - action: north\n",
            "step 8 - action: west\n",
            "step 9 - action: south\n",
            "step 10 - action: south\n",
            "step 11 - action: west\n",
            "step 12 - action: west\n",
            "step 13 - action: east\n",
            "step 14 - action: suck\n",
            "step 15 - action: suck\n",
            "step 16 - action: south\n",
            "step 17 - action: south\n",
            "step 18 - action: east\n",
            "step 19 - action: east\n"
          ]
        },
        {
          "output_type": "execute_result",
          "data": {
            "text/plain": [
              "3"
            ]
          },
          "metadata": {},
          "execution_count": 5
        }
      ],
      "source": [
        "simple_environment(simple_randomized_agent, max_steps = 20)"
      ]
    },
    {
      "cell_type": "markdown",
      "metadata": {
        "id": "sLhCWwxOaKUL"
      },
      "source": [
        "# Tasks\n",
        "\n",
        "## General [10 Points]\n",
        "\n",
        "1. Make sure that you use the latest version of this notebook. Sync your forked repository and pull the latest revision. \n",
        "2. Your implementation can use libraries like math, numpy, scipy, but not libraries that implement inteligent agents or complete search algorithms. Try to keep the code simple! In this course, we want to learn about the algorithms and we often do not need to use object-oriented design.\n",
        "3. You notebook needs to be formated professionally. \n",
        "    - Add additional markdown blocks for your description, comments in the code, add tables and use mathplotlib to produce charts where appropriate\n",
        "    - Do not show debugging output or include an excessive amount of output.\n",
        "    - Check that your PDF file is readable. For example, long lines are cut off in the PDF file. You don't have control over page breaks, so do not worry about these.\n",
        "4. Document your code. Add a short discussion of how your implementation works and your design choices.\n",
        "\n",
        "\n",
        "## Task 1: Implement a simulation environment [20 Points]\n",
        "\n",
        "The simple environment above is not very realistic. Your environment simulator needs to follow the PEAS description from above. It needs to:\n",
        "\n",
        "* Initialize the environment by storing the state of each square (clean/dirty) and making some dirty. ([Help with random numbers and arrays in Python](https://github.com/mhahsler/CS7320-AI/blob/master/Python_Code_Examples/random_numbers_and_arrays.ipynb))\n",
        "* Keep track of the agent's position.\n",
        "* Call the agent function repeatedly and provide the agent function with the sensor inputs.  \n",
        "* React to the agent's actions. E.g, by removing dirt from a square or moving the agent around unless there is a wall in the way.\n",
        "* Keep track of the performance measure. That is, track the agent's actions until all dirty squares are clean and count the number of actions it takes the agent to complete the task.\n",
        "\n",
        "The easiest implementation for the environment is to hold an 2-dimensional array to represent if squares are clean or dirty and to call the agent function in a loop until all squares are clean or a predefined number of steps have been reached (i.e., the robot runs out of energy).\n",
        "\n",
        "The simulation environment should be a function like the `simple_environment()` and needs to work with the simple randomized agent program from above. **Use the same environmnt for all your agent implementations in the tasks below.**\n",
        "\n",
        "*Note on debugging:* Debugging is difficult. Make sure your environment prints enough information when you use `verbose = True`. Also, implementing a function that the environment can use to displays the room with dirt and the current position of the robot at every step is very useful.  "
      ]
    },
    {
      "cell_type": "code",
      "execution_count": 6,
      "metadata": {
        "id": "rX6W4C0_aKUM"
      },
      "outputs": [],
      "source": [
        "def simulation_environment(agent, max_steps, room_size, verbose):\n",
        "    num_cleaned = 0\n",
        "    action_count = 0\n",
        "    #create a 5 by 5 room with squares having a 20% chance of being dirty (true)\n",
        "    room = np.random.choice([True, False], size = (room_size, room_size), p = [.2, .8])\n",
        "    #generate random position in room for agent to start at\n",
        "    row_pos, col_pos = np.random.randint(room_size), np.random.randint(room_size)\n",
        "    if (verbose): \n",
        "        print(\"room:\")\n",
        "        print(room)\n",
        "        print(\"starting position: ( row:\", row_pos, \", col:\", col_pos,\")\\n\")\n",
        "    \n",
        "    for action_count in range(max_steps): \n",
        "        #have bumpers check for wall\n",
        "        bumpers = {\"north\" : False, \"south\" : False, \"west\" : False, \"east\" : False}\n",
        "        #check for west or east wall\n",
        "        if (col_pos==0):\n",
        "            bumpers[\"west\"]=True\n",
        "        elif (col_pos==(room_size-1)):\n",
        "            bumpers[\"east\"]=True\n",
        "        #check for north or south wall\n",
        "        if (row_pos==0):\n",
        "            bumpers[\"north\"]=True\n",
        "        elif (row_pos==(room_size-1)):\n",
        "            bumpers[\"south\"]=True\n",
        "        #get action from agent using bumper and dirty sensors\n",
        "        if (verbose): \n",
        "            print(\"step\", action_count , \"- position before action ( row:\",\n",
        "                  row_pos, \", col:\", col_pos,\")\")\n",
        "        action = agent(bumpers, dirty=room[row_pos][col_pos], verbose=verbose)\n",
        "        #clean square\n",
        "        if (action == \"suck\"): \n",
        "            num_cleaned = num_cleaned + 1\n",
        "            room[row_pos][col_pos]=False\n",
        "        #move north\n",
        "        elif (action == \"north\" and not bumpers[\"north\"]): row_pos = row_pos - 1\n",
        "        #move south\n",
        "        elif (action == \"south\" and not bumpers[\"south\"]): row_pos = row_pos + 1\n",
        "        #move east\n",
        "        elif (action == \"east\" and not bumpers[\"east\"]): col_pos = col_pos + 1\n",
        "        #move west\n",
        "        elif (action == \"west\" and not bumpers[\"west\"]): col_pos = col_pos - 1\n",
        "        #check if agent is done cleaning\n",
        "        elif (action == \"complete\"): break\n",
        "        if (verbose):\n",
        "            print(\"step\", action_count , \"- action:\",action\n",
        "                  , \"- position after action ( row:\", row_pos, \", col:\", col_pos,\")\") \n",
        "\n",
        "    if (verbose): \n",
        "        print(\"\\nroom:\")\n",
        "        print(room)\n",
        "        print(\"ending position: ( row:\", row_pos, \", col:\", col_pos,\")\")\n",
        "        print(\"number of actions:\", action_count)\n",
        "        print(\"number of cleaned tiles:\", num_cleaned)\n",
        "\n",
        "    return action_count"
      ]
    },
    {
      "cell_type": "markdown",
      "metadata": {
        "id": "0G_JqyxPaKUN"
      },
      "source": [
        "## Task 2:  Implement a simple reflex agent [10 Points] \n",
        "\n",
        "The simple reflex agent randomly walks around but reacts to the bumper sensor by not bumping into the wall and to dirt with sucking. Implement the agent program as a function.\n",
        "\n",
        "_Note:_ Agents cannot directly use variable in the environment. They only gets the percepts as the arguments to the agent function."
      ]
    },
    {
      "cell_type": "code",
      "execution_count": 7,
      "metadata": {
        "id": "7U-03ybgaKUN"
      },
      "outputs": [],
      "source": [
        "def simple_reflex_agent(bumpers, dirty, verbose):\n",
        "    #clean square if dirty\n",
        "    if dirty:\n",
        "        if (verbose): print(\"\\tagent is cleaning square\")\n",
        "        return \"suck\"\n",
        "    #get available movement directions based on bumpers\n",
        "    valid_directions = [k for k, v in bumpers.items() if v == False]\n",
        "    #pick random direction\n",
        "    return np.random.choice(valid_directions)"
      ]
    },
    {
      "cell_type": "markdown",
      "metadata": {
        "id": "imo2vDzoaKUO"
      },
      "source": [
        "## Task 3: Implement a model-based reflex agent [20 Points]\n",
        "\n",
        "Model-based agents use a state to keep track of what they have done and perceived so far. Your agent needs to find out where it is located and then keep track of its current location. You also need a set of rules based on the state and the percepts to make sure that the agent will clean the whole room. For example, the agent can move to a corner to determine its location and then it can navigate through the whole room and clean dirty squares.\n",
        "\n",
        "Describe how you define the __agent state__ and how your agent works before implementing it. ([Help with implementing state information on Python](https://github.com/mhahsler/CS7320-AI/blob/master/Python_Code_Examples/store_agent_state_information.ipynb))"
      ]
    },
    {
      "cell_type": "markdown",
      "source": [
        "####__Agent States__\n",
        "Agent state information is stored as member variables of a class.\n",
        "\n",
        "This model-based reflex agent stores 2 states:\n",
        "\n",
        "\n",
        "1.   Tracking whether the agent is finding a corner or cleaning the room.\n",
        "2.   Tracking the direction of the agent while it is cleaning the room.\n",
        "\n",
        "####__Agent Implementation__\n",
        "When starting, the agent must find the north-west corner of the room before starting to clean the room.\n",
        "\n",
        "Stage 1: Finding corner\n",
        "\n",
        "*   The agent will move west until it senses that it is near the west wall.\n",
        "*   Then it will do the same with the north wall thus becoming in the north-west corner.\n",
        "*   After, the agent will switch it's locator state to false meaning that it is time to clean the room.\n",
        "\n",
        "Stage 2: Cleaning the room\n",
        "*    The agent will begin to go towards the east wall.\n",
        "*    If the agent senses that it is close to the wall it is moving towards, it will move south and turn around (west).\n",
        "*    After completing each row (east or west), the agent will check if it is near the south wall.\n",
        "*    If near the south wall, the agent will be finished from cleaning the room."
      ],
      "metadata": {
        "id": "lnMslBjIgSO3"
      }
    },
    {
      "cell_type": "code",
      "execution_count": 8,
      "metadata": {
        "id": "ps-KWdmLaKUO"
      },
      "outputs": [],
      "source": [
        "class Model_Based_Reflex_Agent:\n",
        "    def __init__(self):\n",
        "        #if locator is true, agent is trying to locate top left corner of room\n",
        "        #if false, agent is cleaning room\n",
        "        self.locator = True\n",
        "        self.direction = \"null\"\n",
        "    \n",
        "    def act(self, bumpers, dirty, verbose):\n",
        "        if (verbose):\n",
        "            print(\"\\tagent is finding corner\") if self.locator else print(\"\\tagent is cleaning room\")\n",
        "        #clean square if dirty\n",
        "        if dirty:\n",
        "          return \"suck\";\n",
        "        #find corner or clean based on locator state\n",
        "        if self.locator:\n",
        "            #if corner is found, change to cleaning mode\n",
        "            if bumpers[\"west\"] and bumpers[\"north\"]:\n",
        "                self.locator=False\n",
        "                self.direction=\"east\"\n",
        "                if (verbose): print(\"AGENT IS NOW CLEANING ROOM\")\n",
        "            #go west until at wall\n",
        "            elif not bumpers[\"west\"]:\n",
        "                return \"west\"\n",
        "            #go north until at wall\n",
        "            elif not bumpers[\"north\"]:\n",
        "                return \"north\"\n",
        "        #clean room row by row\n",
        "        if not self.locator:\n",
        "            if (verbose):\n",
        "                print(\"\\tagent is going east\") if self.direction==\"east\" else print(\"\\tagent is going west\")\n",
        "            #if near wall of direction, move south and change direction\n",
        "            if bumpers[self.direction]:\n",
        "                #switch directions\n",
        "                if self.direction==\"east\":\n",
        "                    self.direction=\"west\"\n",
        "                else:\n",
        "                    self.direction=\"east\"\n",
        "                #if south bumper is near wall, room has been completely cleaned\n",
        "                if bumpers[\"south\"]:\n",
        "                    if (verbose): print(\"\\tagent has finished cleaning room\")\n",
        "                    #reset agent states\n",
        "                    self.locator = True\n",
        "                    self.direction = \"null\"\n",
        "                    return \"complete\"\n",
        "                else:\n",
        "                    return \"south\"\n",
        "            #if not near wall of direction, continue moving in same direction\n",
        "            else:\n",
        "                return self.direction"
      ]
    },
    {
      "cell_type": "markdown",
      "metadata": {
        "id": "vvf-BSbuaKUP"
      },
      "source": [
        "## Task 4: Simulation study [30 Points]\n",
        "\n",
        "Compare the performance (the performance measure is defined in the PEAS description above) of the agents using  environments of different size. E.g., $5 \\times 5$, $10 \\times 10$ and\n",
        "$100 \\times 100$. Use 100 random runs for each. Present the results using tables and graphs. Discuss the differences between the agents. \n",
        "([Help with charts and tables in Python](https://github.com/mhahsler/CS7320-AI/blob/master/Python_Code_Examples/charts_and_tables.ipynb))"
      ]
    },
    {
      "cell_type": "code",
      "execution_count": 9,
      "metadata": {
        "id": "0-Y0teStaKUP"
      },
      "outputs": [],
      "source": [
        "agent1 = Model_Based_Reflex_Agent()\n",
        "#Run 100 tests for each agent in a 5x5 sized room with 50 max steps.\n",
        "room_5x5 = {\n",
        "    \"randomized agent\" : list(simulation_environment(agent=simple_randomized_agent,\n",
        "                      max_steps=50, room_size=5, verbose = False) for _ in range(100)),\n",
        "    \"simple reflex agent\" : list(simulation_environment(agent=simple_reflex_agent,\n",
        "                      max_steps=50, room_size=5, verbose = False) for _ in range(100)),\n",
        "    \"model-based reflex agent\" : list(simulation_environment(agent=agent1.act,\n",
        "                      max_steps=50, room_size=5, verbose = False) for _ in range(100))\n",
        "}\n",
        "#Run 100 tests for each agent in a 10x10 sized room with 150 max steps.\n",
        "room_10x10 = {\n",
        "    \"randomized agent\" : list(simulation_environment(agent=simple_randomized_agent,\n",
        "                      max_steps=150, room_size=10, verbose = False) for _ in range(100)),\n",
        "    \"simple reflex agent\" : list(simulation_environment(agent=simple_reflex_agent,\n",
        "                      max_steps=150, room_size=10, verbose = False) for _ in range(100)),\n",
        "    \"model-based reflex agent\" : list(simulation_environment(agent=agent1.act,\n",
        "                      max_steps=150, room_size=10, verbose = False) for _ in range(100))\n",
        "}\n",
        "#Run 100 tests for each agent in a 100x100 sized room with 15000 max steps.\n",
        "room_100x100 = {\n",
        "    \"randomized agent\" : list(simulation_environment(agent=simple_randomized_agent,\n",
        "                      max_steps=15000, room_size=100, verbose = False) for _ in range(100)),\n",
        "    \"simple reflex agent\" : list(simulation_environment(agent=simple_reflex_agent,\n",
        "                      max_steps=15000, room_size=100, verbose = False) for _ in range(100)),\n",
        "    \"model-based reflex agent\" : list(simulation_environment(agent=agent1.act,\n",
        "                      max_steps=15000, room_size=100, verbose = False) for _ in range(100))\n",
        "}"
      ]
    },
    {
      "cell_type": "code",
      "source": [
        "mean_5x5 = np.mean(list(room_5x5.values()), axis = 1)\n",
        "print(f\"5x5 room mean performance: {mean_5x5}\")\n",
        "mean_10x10 = np.mean(list(room_10x10.values()), axis = 1)\n",
        "print(f\"10x10 room mean performance: {mean_10x10}\")\n",
        "mean_100x100 = np.mean(list(room_100x100.values()), axis = 1)\n",
        "print(f\"100x100 room mean performance: {mean_100x100}\")"
      ],
      "metadata": {
        "colab": {
          "base_uri": "https://localhost:8080/",
          "height": 0
        },
        "id": "DgzPRw_Eb-_E",
        "outputId": "6e20f697-51e1-4665-f5be-75241d39a21e"
      },
      "execution_count": 10,
      "outputs": [
        {
          "output_type": "stream",
          "name": "stdout",
          "text": [
            "5x5 room mean performance: [49.   49.   32.93]\n",
            "10x10 room mean performance: [149.   149.   127.78]\n",
            "100x100 room mean performance: [14999.   14999.   12095.75]\n"
          ]
        }
      ]
    },
    {
      "cell_type": "markdown",
      "metadata": {
        "id": "QBYJNFZtaKUP"
      },
      "source": [
        "Fill out the following table with the average performance measure for 100 random runs (you may also create this table with code):\n",
        "\n",
        "| Size     | Randomized Agent | Simple Reflex Agent | Model-based Reflex Agent |\n",
        "|----------|------------------|---------------------|--------------------------|\n",
        "| 5x5     | 49| 49| 32.93|\n",
        "| 10x10   | 149| 149| 127.78|\n",
        "| 100x100 | 14999| 14999| 12095.75|\n",
        "\n",
        "**It's important to note that max steps for each room are 50, 150, and 15000 respectively.\n",
        "\n",
        "Add charts to compare the performance of the different agents."
      ]
    },
    {
      "cell_type": "code",
      "source": [
        "import matplotlib.pyplot as plt\n",
        "\n",
        "# add a grid to the plots\n",
        "import seaborn as sns \n",
        "sns.set(style=\"whitegrid\")\n",
        "\n",
        "#display average performance of each agent in 10x10 room\n",
        "plt.title(\"Average performance of each agent in 10x10 room\")\n",
        "agents=[\"random\",\"simple\",\"model-based\"]\n",
        "plt.bar(agents, mean_10x10)\n",
        "plt.ylabel(\"Mean number of actions used\")\n",
        "plt.show()"
      ],
      "metadata": {
        "colab": {
          "base_uri": "https://localhost:8080/",
          "height": 284
        },
        "id": "iXWYejDmFyNV",
        "outputId": "3255f8ab-5d55-4abe-fc0a-9e8ead1ffe54"
      },
      "execution_count": 11,
      "outputs": [
        {
          "output_type": "display_data",
          "data": {
            "text/plain": [
              "<Figure size 432x288 with 1 Axes>"
            ],
            "image/png": "[encoded data removed]"
          },
          "metadata": {}
        }
      ]
    },
    {
      "cell_type": "code",
      "source": [
        "#display distribution of performance of model-based reflex agent\n",
        "plt.title(\"Performance of model-based reflex agent in 10x10 room\")\n",
        "plt.hist(room_10x10[\"model-based reflex agent\"], bins = 20)\n",
        "plt.xlabel(\"Number of actions used to clean room\")\n",
        "plt.ylabel(\"Frequency\")\n",
        "plt.show()"
      ],
      "metadata": {
        "colab": {
          "base_uri": "https://localhost:8080/",
          "height": 301
        },
        "id": "fM9mLQ0uQot4",
        "outputId": "6cd70722-2f7d-4183-d967-5056aa3513f9"
      },
      "execution_count": 12,
      "outputs": [
        {
          "output_type": "display_data",
          "data": {
            "text/plain": [
              "<Figure size 432x288 with 1 Axes>"
            ],
            "image/png": "[encoded data removed]"
          },
          "metadata": {}
        }
      ]
    },
    {
      "cell_type": "markdown",
      "source": [
        "####__Agent Performance and Analysis__\n",
        "From the data gathered by the test runs, the simple randomized agent and simple reflex agent both hit the max number of actions on every run they attempted. These agents never completed cleaning the room, because they were not capable of tracking the state of their position or the cleanliness of the room to determine if the room was finished being cleaned.\n",
        "\n",
        "While testing the implementation of the simple reflex agent, I observed that the agent would almost finish cleaning the room in the number of actions that it was permitted. I found this interesting given that it was moving around the room randomly.\n",
        "\n",
        "__Model-based Reflex Agent Performance__\n",
        "\n",
        "Out of the other agents, this was the only agent that was able to consistently complete cleaning the room. This agent would not waste time moving around randomly as it would find the north-west corner and sweep between the east and west wall until it reached the south wall.\n",
        "\n",
        "The number of actions used by this agent was consistent in a somewhat tight range as shown in the second plot above. The variances in each run can mainly be accounted for by the location that the agent began its test run. While the \"spawn\" location was random every run which led to a different amount of actions needed to find the room corner, the number of actions to sweep through the room was the same throughout every run (for each given size)."
      ],
      "metadata": {
        "id": "pwJT2I5OjzhU"
      }
    },
    {
      "cell_type": "markdown",
      "metadata": {
        "id": "jUvIYwkgaKUQ"
      },
      "source": [
        "## Task 5: Robustness of the agent implementations [10 Points] \n",
        "\n",
        "Describe how **your agent implementations** will perform \n",
        "\n",
        "* if it is put into a rectangular room with unknown size, \n",
        "* if the cleaning area can have an iregular shape (e.g., a hallway connecting two rooms), or \n",
        "* if the room contains obstacles (i.e., squares that it cannot pass through and trigger the bumper sensors)."
      ]
    },
    {
      "cell_type": "markdown",
      "source": [
        "####__Rectangular room with unknown size__\n",
        "Simple randomized agent: The agent will struggle to clean the entire room as it moves around randomly, cleans the floor randomly, and bumps into walls similar to predetermined room sizes.\n",
        "\n",
        "Simple reflex agent: The agent will struggle to clean the entire room as it moves around randomly similar to predetermined room sizes but will clean every dirty floor tile it comes across.\n",
        "\n",
        "Model-based reflex agent: The agent will be able to clean the room of any size as long as it is a rectangle or can find a corner of the room. The agent finds a corner and sweeps row by row until it has covered the room.\n",
        "\n",
        "####__Irregular shaped cleaning area__\n",
        "Simple randomized agent: The agent will struggle to clean the entire room as it moves around randomly, cleans the floor randomly, and bumps into walls. For example, if there were two connected rooms, the agent wouldn't know how to intentionally move to the other room as it doesn't know its current location.\n",
        "\n",
        "Simple reflex agent: The agent will struggle to clean the entire room as it moves around randomly. For example, if there were two connected rooms, the agent wouldn't know how to intentionally move to the other room as it doesn't know its current location.\n",
        "\n",
        "Model-based reflex agent: The agent can clean irregular room as long as it finds a corner to get its location. But, if there were rooms connected by hallways, the agent may lose its location and only partially clean connected rooms as it cleans in a sweeping movement pattern.\n",
        "\n",
        "\n",
        "####__Room Containing Obstacles__\n",
        "Simple randomized agent: The agent will struggle to clean the entire room as it moves around randomly. The agent will not be aware of the obstacle and may bump into it.\n",
        "\n",
        "Simple reflex agent: The agent will struggle to clean the entire room as it moves around randomly. The agent will be aware of the obstacle and can avoid bumping into it.\n",
        "\n",
        "Model-based reflex agent: The agent will be aware of the obstacle and can avoid bumping into it, but it may affect its sweeping movement pattern and result in not fully cleaning the room.\n"
      ],
      "metadata": {
        "id": "sALPdICmkdmp"
      }
    },
    {
      "cell_type": "markdown",
      "metadata": {
        "id": "yUe1n-JuaKUQ"
      },
      "source": [
        "## Graduate student advanced task: Obstacles [10 Points]\n",
        "\n",
        "__Undergraduate students:__ This is a bonus task you can attempt if you like [+5 Bonus Points].\n",
        "\n",
        "1. Change your simulation environment tor run experiments for the following problem: Add random obstacle squares that also trigger the bumper sensor. The agent does not know where the obstacles are. Observe how this changes the performance of the three implementations.\n",
        "\n",
        "2. Describe what would need to be done to perform better with obstacles. Add code if you can. "
      ]
    },
    {
      "cell_type": "code",
      "execution_count": null,
      "metadata": {
        "id": "CnAY_Im3aKUQ"
      },
      "outputs": [],
      "source": [
        "# Your code and discussion goes here"
      ]
    },
    {
      "cell_type": "markdown",
      "metadata": {
        "id": "V_ZjRpfRaKUR"
      },
      "source": [
        "## More advanced implementation tasks\n",
        "\n",
        "* __Agent for and environment with obstacles:__ Implement an agent for an environment where the agent does not know how large the environment is (we assume it is rectangular), where it starts or where the obstacles are. An option would be to always move to the closest unchecked/uncleaned square (note that this is actualy depth-first search).\n",
        "\n",
        "* __Utility-based agent:__ Change the environment for a $5 \\times 5$ room, so each square has a fixed probability of getting dirty again. For the implementation, we give the environment a 2-dimensional array of probabilities. The utility of a state is defined as the number of currebntly clean squares in the room. Implement a utility-based agent that maximizes the expected utility over one full charge which lasts for 100000 time steps. To do this, the agent needs to learn the probabilities with which different squares get dirty again. This is very tricky!"
      ]
    },
    {
      "cell_type": "code",
      "execution_count": null,
      "metadata": {
        "id": "_dhFgq6KaKUR"
      },
      "outputs": [],
      "source": [
        "# Your ideas/code"
      ]
    }
  ],
  "metadata": {
    "kernelspec": {
      "display_name": "Python 3 (ipykernel)",
      "language": "python",
      "name": "python3"
    },
    "language_info": {
      "codemirror_mode": {
        "name": "ipython",
        "version": 3
      },
      "file_extension": ".py",
      "mimetype": "text/x-python",
      "name": "python",
      "nbconvert_exporter": "python",
      "pygments_lexer": "ipython3",
      "version": "3.9.5"
    },
    "toc-autonumbering": false,
    "colab": {
      "provenance": []
    }
  },
  "nbformat": 4,
  "nbformat_minor": 0
}
