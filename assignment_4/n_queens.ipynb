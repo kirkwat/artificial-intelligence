{
 "cells": [
  {
   "cell_type": "markdown",
   "metadata": {},
   "source": [
    "# Solving the n-Queens Problem using Local Search\n",
    "\n",
    "## Instructions\n",
    "\n",
    "Total Points: Undergrads 100 / Graduate students 110\n",
    "\n",
    "Complete this notebook. Use the provided notebook cells and insert additional code and markdown cells as needed. Submit the completely rendered notebook as a PDF file. \n"
   ]
  },
  {
   "cell_type": "markdown",
   "metadata": {},
   "source": [
    "## The n-Queens Problem\n",
    "\n",
    "* __Goal:__ Find an arrangement of $n$ queens on a $n \\times n$ chess board so that no queen is on the same row, column or diagonal as any other queen.\n",
    "\n",
    "* __State space:__ An arrangement of the queens on the board. We restrict the state space to arrangements where there is only a single queen per column. We represent a state as an integer vector $\\mathbf{q} = \\{q_1, q_2, \\dots, q_n\\}$, each number representing the row positions of the queens from left to right. We will call a state a \"board.\"\n",
    "\n",
    "* __Objective function:__ The number of pairwise conflicts (i.e., two queens in the same row/column/diagonal).\n",
    "The optimization problem is to find the optimal arrangement $\\mathbf{q}^*$ of $n$ queens on the board can be written as:\n",
    "\n",
    "  > minimize: $\\mathrm{conflicts}(\\mathbf{q})$\n",
    "  >\n",
    "  > subject to: $\\mathbf{q} \\ \\text{contains only one queen per column}$\n",
    "\n",
    "  Note: the constraint (subject to) is enforced by the definition of the state space.\n",
    "\n",
    "* __Local improvement move:__ Move one queen to a different row in its column.\n",
    "\n",
    "* __Termination:__ For this problem there is always an arrangement $\\mathbf{q}^*$ with $\\mathrm{conflicts}(\\mathbf{q}^*) = 0$, however, the local improvement moves might end up in a local minimum. "
   ]
  },
  {
   "cell_type": "markdown",
   "metadata": {},
   "source": [
    "## Helper functions"
   ]
  },
  {
   "cell_type": "code",
   "execution_count": 1,
   "metadata": {},
   "outputs": [],
   "source": [
    "import numpy as np\n",
    "import matplotlib.pyplot as plt\n",
    "from matplotlib import colors\n",
    "\n",
    "np.random.seed(1234)\n",
    "\n",
    "\n",
    "def random_board(n):\n",
    "    \"\"\"Creates a random board of size n x n. Note that only a single queen is placed in each column!\"\"\"\n",
    "    \n",
    "    return(np.random.randint(0,n, size = n))\n",
    "\n",
    "def comb2(n): return n*(n-1)//2 # this is n choose 2 equivalent to math.comb(n, 2); // is int division\n",
    "\n",
    "def conflicts(board):\n",
    "    \"\"\"Caclulate the number of conflicts, i.e., the objective function.\"\"\"\n",
    "\n",
    "    n = len(board)\n",
    "    \n",
    "    horizontal_cnt = [0] * n\n",
    "    diagonal1_cnt = [0] * 2 * n\n",
    "    diagonal2_cnt = [0] * 2 * n\n",
    "    \n",
    "    for i in range(n):\n",
    "        horizontal_cnt[board[i]] += 1\n",
    "        diagonal1_cnt[i + board[i]] += 1\n",
    "        diagonal2_cnt[i - board[i] + n] += 1\n",
    "    \n",
    "    return sum(map(comb2, horizontal_cnt + diagonal1_cnt + diagonal2_cnt))\n",
    "\n",
    "\n",
    "def show_board(board, cols = ['white', 'gray'], fontsize = 48):  \n",
    "    \"\"\"display the board\"\"\"\n",
    "    \n",
    "    n = len(board)\n",
    "    \n",
    "    # create chess board display\n",
    "    display = np.zeros([n,n])\n",
    "    for i in range(n):\n",
    "        for j in range(n):\n",
    "            if (((i+j) % 2) != 0): \n",
    "                display[i,j] = 1\n",
    "    \n",
    "    cmap = colors.ListedColormap(cols)\n",
    "    fig, ax = plt.subplots()\n",
    "    ax.imshow(display, cmap = cmap, \n",
    "              norm = colors.BoundaryNorm(range(len(cols)+1), cmap.N))\n",
    "    ax.set_xticks([])\n",
    "    ax.set_yticks([])\n",
    "    \n",
    "    # place queens. Note: Unicode u265B is a black queen\n",
    "    for j in range(n):\n",
    "        plt.text(j, board[j], u\"\\u265B\", fontsize = fontsize, \n",
    "                 horizontalalignment = 'center',\n",
    "                 verticalalignment = 'center')\n",
    "    \n",
    "    print(f\"Board with {conflicts(board)} conflicts.\")\n",
    "    plt.show()"
   ]
  },
  {
   "cell_type": "markdown",
   "metadata": {},
   "source": [
    "## Create a board"
   ]
  },
  {
   "cell_type": "code",
   "execution_count": 2,
   "metadata": {},
   "outputs": [
    {
     "name": "stdout",
     "output_type": "stream",
     "text": [
      "Board with 4 conflicts.\n"
     ]
    },
    {
     "data": {
      "image/png": "[encoded data removed]",
      "text/plain": [
       "<Figure size 432x288 with 1 Axes>"
      ]
     },
     "metadata": {},
     "output_type": "display_data"
    },
    {
     "name": "stdout",
     "output_type": "stream",
     "text": [
      "Queens (left to right) are at rows: [3 3 2 1]\n",
      "Number of conflicts: 4\n"
     ]
    }
   ],
   "source": [
    "board = random_board(4)\n",
    "\n",
    "show_board(board)\n",
    "print(f\"Queens (left to right) are at rows: {board}\")\n",
    "print(f\"Number of conflicts: {conflicts(board)}\")"
   ]
  },
  {
   "cell_type": "markdown",
   "metadata": {},
   "source": [
    "A board $4 \\times 4$ with no conflicts:"
   ]
  },
  {
   "cell_type": "code",
   "execution_count": 3,
   "metadata": {},
   "outputs": [
    {
     "name": "stdout",
     "output_type": "stream",
     "text": [
      "Board with 0 conflicts.\n"
     ]
    },
    {
     "data": {
      "image/png": "[encoded data removed]",
      "text/plain": [
       "<Figure size 432x288 with 1 Axes>"
      ]
     },
     "metadata": {},
     "output_type": "display_data"
    }
   ],
   "source": [
    "board = [1,3,0,2]\n",
    "show_board(board)"
   ]
  },
  {
   "cell_type": "markdown",
   "metadata": {},
   "source": [
    "# Tasks\n",
    "\n",
    "## General [10 Points]\n",
    "\n",
    "1. Make sure that you use the latest version of this notebook. Sync your forked repository and pull the latest revision. \n",
    "2. Your implementation can use libraries like math, numpy, scipy, but not libraries that implement inteligent agents or complete search algorithms. Try to keep the code simple! In this course, we want to learn about the algorithms and we often do not need to use object-oriented design.\n",
    "3. You notebook needs to be formated professionally. \n",
    "    - Add additional markdown blocks for your description, comments in the code, add tables and use mathplotlib to produce charts where appropriate\n",
    "    - Do not show debugging output or include an excessive amount of output.\n",
    "    - Check that your PDF file is readable. For example, long lines are cut off in the PDF file. You don't have control over page breaks, so do not worry about these.\n",
    "4. Document your code. Add a short discussion of how your implementation works and your design choices."
   ]
  },
  {
   "cell_type": "markdown",
   "metadata": {},
   "source": [
    "## Task 1: Steepest-ascend Hill Climbing Search [30 Points]\n",
    "\n",
    "Calculate the objective function for all local moves (see definition of local moves above) and always choose the best among all local moves. If there are no local moves that improve the objective, then you have reached a local optimum. "
   ]
  },
  {
   "cell_type": "code",
   "execution_count": 4,
   "metadata": {},
   "outputs": [],
   "source": [
    "#Implementation\n",
    "    #hill_climb\n",
    "        #hill climbing function that uses a method parameter to determine its next local move\n",
    "    #steepest_ascent\n",
    "        #method to determine next local move using steepest ascent\n",
    "        #loops through each column and moves queen to each row \n",
    "        #saves and returns the local move with the least conflicts"
   ]
  },
  {
   "cell_type": "code",
   "execution_count": 5,
   "metadata": {},
   "outputs": [],
   "source": [
    "def hill_climb(current_board, n, method, verbose=False):\n",
    "    while True:\n",
    "        if verbose: print(\"NEW LOOP\")\n",
    "        neighbor=method(current_board, n, verbose)\n",
    "        if conflicts(neighbor)>=conflicts(current_board):\n",
    "            return current_board\n",
    "        current_board=neighbor\n",
    "    \n",
    "def steepest_ascent(current_board, n, verbose=False):\n",
    "    best_board=np.copy(current_board)\n",
    "    #loop through each column\n",
    "    for i in range(n):\n",
    "        if verbose: print(\"  COL\",i)\n",
    "        #find best move for queen\n",
    "        for j in range(n):\n",
    "            #move queen\n",
    "            local_move=np.copy(current_board)\n",
    "            local_move[i]=j\n",
    "            #set move to best board if move has less conflicts\n",
    "            if conflicts(best_board)>conflicts(local_move):\n",
    "                if verbose: print(\"    NEW BEST\",i,j)\n",
    "                best_board=np.copy(local_move)\n",
    "    #return best local move\n",
    "    return best_board"
   ]
  },
  {
   "cell_type": "code",
   "execution_count": 6,
   "metadata": {
    "scrolled": false
   },
   "outputs": [
    {
     "name": "stdout",
     "output_type": "stream",
     "text": [
      "Board with 8 conflicts.\n"
     ]
    },
    {
     "data": {
      "image/png": "[encoded data removed]",
      "text/plain": [
       "<Figure size 432x288 with 1 Axes>"
      ]
     },
     "metadata": {},
     "output_type": "display_data"
    },
    {
     "name": "stdout",
     "output_type": "stream",
     "text": [
      "Board with 0 conflicts.\n"
     ]
    },
    {
     "data": {
      "image/png": "[encoded data removed]",
      "text/plain": [
       "<Figure size 432x288 with 1 Axes>"
      ]
     },
     "metadata": {},
     "output_type": "display_data"
    }
   ],
   "source": [
    "n=8\n",
    "board = random_board(n)\n",
    "show_board(board)\n",
    "show_board(hill_climb(board, n, steepest_ascent))"
   ]
  },
  {
   "cell_type": "markdown",
   "metadata": {},
   "source": [
    "## Task 2: Stochastic Hill Climbing 1 [10 Points]\n",
    "\n",
    "Chooses randomly from among all uphill moves till you have reached a local optimum."
   ]
  },
  {
   "cell_type": "code",
   "execution_count": 7,
   "metadata": {},
   "outputs": [],
   "source": [
    "#Implementation\n",
    "    #stochastic1\n",
    "        #method to determine next local move using a stochastic approach\n",
    "        #loops through each column and moves queen to each row \n",
    "        #saves every move that has less conflicts than the current board\n",
    "        #returns a random move from the list of uphill moves\n",
    "        #if unable to find a better move, it returns the current board"
   ]
  },
  {
   "cell_type": "code",
   "execution_count": 8,
   "metadata": {},
   "outputs": [],
   "source": [
    "import random\n",
    "\n",
    "def stochastic1(current_board, n, verbose=False):\n",
    "    current_conflicts=conflicts(current_board)\n",
    "    uphill_moves = []\n",
    "    #loop through each column\n",
    "    for i in range(n):\n",
    "        if verbose: print(\"  COL\",i)\n",
    "        #find each uphill move for queen\n",
    "        for j in range(n):\n",
    "            #move queen\n",
    "            local_move=np.copy(current_board)\n",
    "            local_move[i]=j\n",
    "            #add move to possible moves if uphill\n",
    "            if current_conflicts>conflicts(local_move):\n",
    "                if verbose: print(\"    ADD MOVE\",current_conflicts,conflicts(local_move))\n",
    "                uphill_moves.append(np.copy(local_move))\n",
    "    #return random uphill move if there are any\n",
    "    if len(uphill_moves) == 0:\n",
    "        return current_board\n",
    "    else:\n",
    "        return random.choice(uphill_moves)"
   ]
  },
  {
   "cell_type": "code",
   "execution_count": 9,
   "metadata": {
    "scrolled": false
   },
   "outputs": [
    {
     "name": "stdout",
     "output_type": "stream",
     "text": [
      "Board with 8 conflicts.\n"
     ]
    },
    {
     "data": {
      "image/png": "[encoded data removed]",
      "text/plain": [
       "<Figure size 432x288 with 1 Axes>"
      ]
     },
     "metadata": {},
     "output_type": "display_data"
    },
    {
     "name": "stdout",
     "output_type": "stream",
     "text": [
      "Board with 1 conflicts.\n"
     ]
    },
    {
     "data": {
      "image/png": "[encoded data removed]",
      "text/plain": [
       "<Figure size 432x288 with 1 Axes>"
      ]
     },
     "metadata": {},
     "output_type": "display_data"
    }
   ],
   "source": [
    "n=8\n",
    "board = random_board(n)\n",
    "show_board(board)\n",
    "show_board(hill_climb(board, n, stochastic1))"
   ]
  },
  {
   "cell_type": "markdown",
   "metadata": {},
   "source": [
    "## Task 3: Stochastic Hill Climbing 2 [20 Points]\n",
    "\n",
    "A popular version of stochastic hill climbing generates only a single random local neighbor at a time and accept it if it has a better objective function value than the current state. This is very efficient if each state has many possible successor states. This method is called \"First-choice hill climbing\" in the textbook.\n",
    "\n",
    "__Notes:__ \n",
    "\n",
    "* Detecting local optima is tricky! You can, for example, stop if you were not able to improve the objective function during the last $x$ tries."
   ]
  },
  {
   "cell_type": "code",
   "execution_count": 10,
   "metadata": {},
   "outputs": [],
   "source": [
    "#Implementation\n",
    "    #stochastic2 (first-choice)\n",
    "        #method to determine next local move using a different stochastic approach\n",
    "        #loops a number of times based on board size\n",
    "            #creates a random move with a queen within its column\n",
    "            #if the random move has less conflicts, it returns the move\n",
    "            #otherwise, it continues to create another random move\n",
    "        #if unable to find a better move, it returns the current board"
   ]
  },
  {
   "cell_type": "code",
   "execution_count": 11,
   "metadata": {},
   "outputs": [],
   "source": [
    "def stochastic2(current_board, n, verbose=False):\n",
    "    #loop until x tries if stuck on local optima\n",
    "    for x in range(comb2(n)):\n",
    "        if verbose: print(\"  \",x)\n",
    "        local_move=np.copy(current_board)\n",
    "        #make a random move\n",
    "        local_move[np.random.randint(n)]=np.random.randint(n)\n",
    "        #return move if less conflicts than current board\n",
    "        if conflicts(current_board)>conflicts(local_move):\n",
    "            if verbose: print(\"  NEW MOVE\",conflicts(current_board),conflicts(local_move))\n",
    "            if verbose: print(\"  MOVE:\",local_move)\n",
    "            return local_move\n",
    "    if verbose: print(\"  NO MOVE FOUND\")\n",
    "    #return current board if unable to find better move\n",
    "    return current_board"
   ]
  },
  {
   "cell_type": "code",
   "execution_count": 12,
   "metadata": {},
   "outputs": [
    {
     "name": "stdout",
     "output_type": "stream",
     "text": [
      "Board with 7 conflicts.\n"
     ]
    },
    {
     "data": {
      "image/png": "[encoded data removed]",
      "text/plain": [
       "<Figure size 432x288 with 1 Axes>"
      ]
     },
     "metadata": {},
     "output_type": "display_data"
    },
    {
     "name": "stdout",
     "output_type": "stream",
     "text": [
      "Board with 3 conflicts.\n"
     ]
    },
    {
     "data": {
      "image/png": "[encoded data removed]",
      "text/plain": [
       "<Figure size 432x288 with 1 Axes>"
      ]
     },
     "metadata": {},
     "output_type": "display_data"
    }
   ],
   "source": [
    "n=8\n",
    "board = random_board(n)\n",
    "show_board(board)\n",
    "show_board(hill_climb(board, n, stochastic2))"
   ]
  },
  {
   "cell_type": "markdown",
   "metadata": {},
   "source": [
    "## Task 4: Hill Climbing Search with Random Restarts [10 Points]\n",
    "\n",
    "Hill climbing will often end up in local optima. Restart the each of the three hill climbing algorithm up to 100 times with a random board to find a better (hopefully optimal) solution. Note that restart just means to run the algoithm several times starting with a new random board."
   ]
  },
  {
   "cell_type": "code",
   "execution_count": 13,
   "metadata": {},
   "outputs": [],
   "source": [
    "#Implementation\n",
    "    #random_restarts\n",
    "        #2 possible approaches: \n",
    "            #loop each method 100 times with a random board\n",
    "            #loop 100 times and ran each method\n",
    "        #went with first approach\n",
    "        #if board is completed with 0 conflicts, the board is returned"
   ]
  },
  {
   "cell_type": "code",
   "execution_count": 14,
   "metadata": {},
   "outputs": [],
   "source": [
    "def random_restarts(n, verbose=False):\n",
    "    #attempt each method 100 times with random boards\n",
    "    methods = [steepest_ascent, stochastic1, stochastic2]\n",
    "    for method in methods:\n",
    "        #attempt method 100 times with random boards\n",
    "        for i in range(100):\n",
    "            starting_board = random_board(n)\n",
    "            result_board = hill_climb(starting_board, n, method)\n",
    "            #return board if optimal solution\n",
    "            if conflicts(result_board) == 0:\n",
    "                if verbose: return method, i, starting_board, result_board\n",
    "                return result_board\n",
    "    #if no solution was found\n",
    "    if verbose: return \"no solution\",0,0,0  \n",
    "    return random_board(n)"
   ]
  },
  {
   "cell_type": "code",
   "execution_count": 15,
   "metadata": {},
   "outputs": [
    {
     "name": "stdout",
     "output_type": "stream",
     "text": [
      "Solution Method: <function steepest_ascent at 0x0000016CC5555F70>\n",
      "18 Restart Attempts\n",
      "Starting Board\n",
      "Board with 22 conflicts.\n"
     ]
    },
    {
     "data": {
      "image/png": "[encoded data removed]",
      "text/plain": [
       "<Figure size 432x288 with 1 Axes>"
      ]
     },
     "metadata": {},
     "output_type": "display_data"
    },
    {
     "name": "stdout",
     "output_type": "stream",
     "text": [
      "Result Board\n",
      "Board with 0 conflicts.\n"
     ]
    },
    {
     "data": {
      "image/png": "[encoded data removed]",
      "text/plain": [
       "<Figure size 432x288 with 1 Axes>"
      ]
     },
     "metadata": {},
     "output_type": "display_data"
    }
   ],
   "source": [
    "method, attempts, starting_board, result_board=random_restarts(20, verbose=True)\n",
    "print(\"Solution Method:\", method)\n",
    "print(attempts,\"Restart Attempts\")\n",
    "print(\"Starting Board\")\n",
    "show_board(starting_board)\n",
    "print(\"Result Board\")\n",
    "show_board(result_board)"
   ]
  },
  {
   "cell_type": "markdown",
   "metadata": {},
   "source": [
    "## Task 5: Compare Performance [20 Points]\n",
    "\n",
    "Use runtime and objective function value to compare the algorithms. \n",
    "\n",
    "* Use boards of different sizes to explore how the different algorithms perform. Make sure that you run the algorithms for each board size several times (at least 10 times) with different starting boards and report averages.\n",
    "\n",
    "* How do the algorithms scale with problem size? Use tables and charts.\n",
    "\n",
    "* What is the largest board each algorithm can solve in a reasonable amount time?\n",
    "\n",
    "See [Profiling Python Code](../Python_Code_Examples/profiling_code.ipynb) for help about how to measure runtime in Python."
   ]
  },
  {
   "cell_type": "code",
   "execution_count": 16,
   "metadata": {},
   "outputs": [
    {
     "name": "stdout",
     "output_type": "stream",
     "text": [
      "Avg # of conflicts for increasing grid sizes with 15 runs per size\n"
     ]
    },
    {
     "data": {
      "text/html": [
       "<div>\n",
       "<style scoped>\n",
       "    .dataframe tbody tr th:only-of-type {\n",
       "        vertical-align: middle;\n",
       "    }\n",
       "\n",
       "    .dataframe tbody tr th {\n",
       "        vertical-align: top;\n",
       "    }\n",
       "\n",
       "    .dataframe thead th {\n",
       "        text-align: right;\n",
       "    }\n",
       "</style>\n",
       "<table border=\"1\" class=\"dataframe\">\n",
       "  <thead>\n",
       "    <tr style=\"text-align: right;\">\n",
       "      <th></th>\n",
       "      <th>4</th>\n",
       "      <th>8</th>\n",
       "      <th>12</th>\n",
       "      <th>16</th>\n",
       "      <th>20</th>\n",
       "      <th>24</th>\n",
       "    </tr>\n",
       "  </thead>\n",
       "  <tbody>\n",
       "    <tr>\n",
       "      <th>Steepest Ascent</th>\n",
       "      <td>0.733333</td>\n",
       "      <td>1.200000</td>\n",
       "      <td>1.800000</td>\n",
       "      <td>2.266667</td>\n",
       "      <td>2.466667</td>\n",
       "      <td>2.200000</td>\n",
       "    </tr>\n",
       "    <tr>\n",
       "      <th>Stochastic 1</th>\n",
       "      <td>0.666667</td>\n",
       "      <td>1.200000</td>\n",
       "      <td>1.733333</td>\n",
       "      <td>2.266667</td>\n",
       "      <td>2.133333</td>\n",
       "      <td>2.400000</td>\n",
       "    </tr>\n",
       "    <tr>\n",
       "      <th>Stochastic 2</th>\n",
       "      <td>1.466667</td>\n",
       "      <td>2.466667</td>\n",
       "      <td>3.800000</td>\n",
       "      <td>3.333333</td>\n",
       "      <td>4.266667</td>\n",
       "      <td>3.600000</td>\n",
       "    </tr>\n",
       "    <tr>\n",
       "      <th>Random Restart</th>\n",
       "      <td>0.000000</td>\n",
       "      <td>0.000000</td>\n",
       "      <td>0.000000</td>\n",
       "      <td>0.000000</td>\n",
       "      <td>0.000000</td>\n",
       "      <td>1.266667</td>\n",
       "    </tr>\n",
       "  </tbody>\n",
       "</table>\n",
       "</div>"
      ],
      "text/plain": [
       "                        4         8        12        16        20        24\n",
       "Steepest Ascent  0.733333  1.200000  1.800000  2.266667  2.466667  2.200000\n",
       "Stochastic 1     0.666667  1.200000  1.733333  2.266667  2.133333  2.400000\n",
       "Stochastic 2     1.466667  2.466667  3.800000  3.333333  4.266667  3.600000\n",
       "Random Restart   0.000000  0.000000  0.000000  0.000000  0.000000  1.266667"
      ]
     },
     "metadata": {},
     "output_type": "display_data"
    }
   ],
   "source": [
    "import pandas as pd\n",
    "\n",
    "data=[]\n",
    "#run methods for grid sizes of 4, 8, 12, 16, 20, 24\n",
    "for i in range(4,25,4):\n",
    "    data.append({\n",
    "        #get average of 15 runs for each method with random boards\n",
    "        \"Steepest Ascent\": sum([conflicts(hill_climb(random_board(i), i, steepest_ascent)) for _ in range(15)])/15,\n",
    "        \"Stochastic 1\": sum([conflicts(hill_climb(random_board(i), i, stochastic1)) for _ in range(15)])/15,\n",
    "        \"Stochastic 2\": sum([conflicts(hill_climb(random_board(i), i, stochastic2)) for _ in range(15)])/15,\n",
    "        \"Random Restart\" : sum([conflicts(random_restarts(i)) for _ in range(15)])/15\n",
    "    })\n",
    "    \n",
    "#combine data for charts and tables\n",
    "combined_data = {}\n",
    "for k in data[0].keys():\n",
    "  combined_data[k] = tuple(combined_data[k] for combined_data in data)\n",
    "\n",
    "#display average conflicts per grid size chart\n",
    "df=pd.DataFrame(combined_data, index=[\"4\",\"8\",\"12\",\"16\",\"20\",\"24\"])\n",
    "print(\"Avg # of conflicts for increasing grid sizes with 15 runs per size\")\n",
    "display(df.transpose())"
   ]
  },
  {
   "cell_type": "code",
   "execution_count": 17,
   "metadata": {},
   "outputs": [
    {
     "data": {
      "image/png": "[encoded data removed]",
      "text/plain": [
       "<Figure size 432x288 with 1 Axes>"
      ]
     },
     "metadata": {},
     "output_type": "display_data"
    }
   ],
   "source": [
    "import matplotlib.pyplot as plt\n",
    "\n",
    "# add a grid to the plots\n",
    "import seaborn as sns \n",
    "sns.set(style=\"whitegrid\")\n",
    "\n",
    "#plot results\n",
    "x = range(4,25,4)\n",
    "plt.plot(x, combined_data[\"Steepest Ascent\"], label = \"Steepest Ascent\") \n",
    "plt.plot(x, combined_data[\"Stochastic 1\"], label = \"Stochastic 1\") \n",
    "plt.plot(x, combined_data[\"Stochastic 2\"], label = \"Stochastic 2\")\n",
    "plt.plot(x, combined_data[\"Random Restart\"], label = \"Random Restart\") \n",
    "plt.title(\"Avg # of conflicts with 15 runs per size\")\n",
    "plt.xlabel(\"Problem size\")\n",
    "plt.ylabel(\"Avg # of conflicts\")\n",
    "plt.legend()\n",
    "plt.show()"
   ]
  },
  {
   "cell_type": "markdown",
   "metadata": {},
   "source": [
    "From the results shown in the chart above, we can see how each hill-climbing method performs with boards of increasing sizes. The steepest ascent and first stochastic implementations share similar performance. \n",
    "\n",
    "We can also see that the first stochastic implementation outperforms the second stochastic (first-choice) implementation. This could be a result of how the random uphill moves are determined for each implementation.\n",
    "\n",
    "We can observe that the random-restarts implementation was able to solve every board at all sizes up until the board size reached 24. This could be a result of the number times each hill-climbing implementation is restarted (100x). As the board size increases, it might be worthwhile to increase the number restarts for each hill-climbing implementation to ensure the board can be solved."
   ]
  },
  {
   "cell_type": "code",
   "execution_count": 23,
   "metadata": {},
   "outputs": [
    {
     "name": "stdout",
     "output_type": "stream",
     "text": [
      "Method: <function steepest_ascent at 0x0000016CC5555F70>\n",
      "  Size: 4 , Solved: True , Solve time: 1.0 milliseconds, Attempts: 1\n",
      "  Size: 5 , Solved: True , Solve time: 1.001 milliseconds, Attempts: 1\n",
      "  Size: 6 , Solved: True , Solve time: 4.003 milliseconds, Attempts: 3\n",
      "  Size: 7 , Solved: True , Solve time: 26.023 milliseconds, Attempts: 9\n",
      "  Size: 8 , Solved: True , Solve time: 5.004 milliseconds, Attempts: 1\n",
      "  Size: 9 , Solved: True , Solve time: 18.017 milliseconds, Attempts: 2\n",
      "  Size: 10 , Solved: True , Solve time: 497.452 milliseconds, Attempts: 47\n",
      "  Size: 11 , Solved: True , Solve time: 275.25 milliseconds, Attempts: 17\n",
      "  Size: 12 , Solved: True , Solve time: 377.347 milliseconds, Attempts: 17\n",
      "  Size: 13 , Solved: True , Solve time: 750.689 milliseconds, Attempts: 25\n",
      "  Size: 14 , Solved: True , Solve time: 739.677 milliseconds, Attempts: 19\n",
      "  Size: 15 , Solved: True , Solve time: 1165.062 milliseconds, Attempts: 24\n",
      "  Size: 16 , Solved: True , Solve time: 1048.385 milliseconds, Attempts: 17\n",
      "  Size: 17 , Solved: True , Solve time: 314.285 milliseconds, Attempts: 4\n",
      "  Size: 18 , Solved: True , Solve time: 1693.034 milliseconds, Attempts: 18\n",
      "  Size: 19 , Solved: True , Solve time: 2665.262 milliseconds, Attempts: 23\n",
      "  Size: 20 , Solved: True , Solve time: 1132.452 milliseconds, Attempts: 8\n",
      "  Size: 21 , Solved: False , Solve time: 17657.272 milliseconds, Attempts: 100\n",
      "Method: <function stochastic1 at 0x0000016CC560C9D0>\n",
      "  Size: 4 , Solved: True , Solve time: 3.002 milliseconds, Attempts: 10\n",
      "  Size: 5 , Solved: True , Solve time: 2.002 milliseconds, Attempts: 2\n",
      "  Size: 6 , Solved: True , Solve time: 2.002 milliseconds, Attempts: 2\n",
      "  Size: 7 , Solved: True , Solve time: 6.006 milliseconds, Attempts: 2\n",
      "  Size: 8 , Solved: True , Solve time: 20.018 milliseconds, Attempts: 5\n",
      "  Size: 9 , Solved: True , Solve time: 104.379 milliseconds, Attempts: 16\n",
      "  Size: 10 , Solved: True , Solve time: 11.01 milliseconds, Attempts: 1\n",
      "  Size: 11 , Solved: True , Solve time: 171.155 milliseconds, Attempts: 13\n",
      "  Size: 12 , Solved: True , Solve time: 201.187 milliseconds, Attempts: 11\n",
      "  Size: 13 , Solved: True , Solve time: 2037.86 milliseconds, Attempts: 78\n",
      "  Size: 14 , Solved: True , Solve time: 306.284 milliseconds, Attempts: 8\n",
      "  Size: 15 , Solved: True , Solve time: 920.836 milliseconds, Attempts: 21\n",
      "  Size: 16 , Solved: True , Solve time: 3357.2 milliseconds, Attempts: 62\n",
      "  Size: 17 , Solved: True , Solve time: 5880.373 milliseconds, Attempts: 85\n",
      "  Size: 18 , Solved: False , Solve time: 8176.435 milliseconds, Attempts: 100\n",
      "  Size: 19 , Solved: False , Solve time: 9962.66 milliseconds, Attempts: 100\n",
      "  Size: 20 , Solved: True , Solve time: 9666.855 milliseconds, Attempts: 79\n",
      "  Size: 21 , Solved: False , Solve time: 15267.78 milliseconds, Attempts: 100\n",
      "Method: <function stochastic2 at 0x0000016CC56B8790>\n",
      "  Size: 4 , Solved: True , Solve time: 5.005 milliseconds, Attempts: 33\n",
      "  Size: 5 , Solved: True , Solve time: 5.005 milliseconds, Attempts: 16\n",
      "  Size: 6 , Solved: False , Solve time: 51.046 milliseconds, Attempts: 100\n",
      "  Size: 7 , Solved: True , Solve time: 14.013 milliseconds, Attempts: 14\n",
      "  Size: 8 , Solved: True , Solve time: 46.042 milliseconds, Attempts: 36\n",
      "  Size: 9 , Solved: True , Solve time: 43.039 milliseconds, Attempts: 25\n",
      "  Size: 10 , Solved: False , Solve time: 226.205 milliseconds, Attempts: 100\n",
      "  Size: 11 , Solved: False , Solve time: 333.71 milliseconds, Attempts: 100\n",
      "  Size: 12 , Solved: False , Solve time: 409.372 milliseconds, Attempts: 100\n",
      "  Size: 13 , Solved: False , Solve time: 523.48 milliseconds, Attempts: 100\n",
      "  Size: 14 , Solved: True , Solve time: 55.055 milliseconds, Attempts: 7\n",
      "  Size: 15 , Solved: False , Solve time: 807.734 milliseconds, Attempts: 100\n",
      "  Size: 16 , Solved: True , Solve time: 567.523 milliseconds, Attempts: 61\n",
      "  Size: 17 , Solved: False , Solve time: 1241.131 milliseconds, Attempts: 100\n",
      "  Size: 18 , Solved: False , Solve time: 1349.473 milliseconds, Attempts: 100\n",
      "  Size: 19 , Solved: False , Solve time: 1639.493 milliseconds, Attempts: 100\n",
      "  Size: 20 , Solved: True , Solve time: 206.187 milliseconds, Attempts: 11\n",
      "  Size: 21 , Solved: True , Solve time: 2023.95 milliseconds, Attempts: 89\n",
      "  Size: 22 , Solved: False , Solve time: 2566.763 milliseconds, Attempts: 100\n",
      "  Size: 23 , Solved: True , Solve time: 356.323 milliseconds, Attempts: 11\n",
      "  Size: 24 , Solved: False , Solve time: 3281.979 milliseconds, Attempts: 100\n",
      "  Size: 25 , Solved: False , Solve time: 3657.327 milliseconds, Attempts: 100\n",
      "  Size: 26 , Solved: False , Solve time: 4194.461 milliseconds, Attempts: 100\n",
      "  Size: 27 , Solved: False , Solve time: 4793.367 milliseconds, Attempts: 100\n",
      "  Size: 28 , Solved: False , Solve time: 5135.916 milliseconds, Attempts: 100\n",
      "  Size: 29 , Solved: False , Solve time: 6161.263 milliseconds, Attempts: 100\n",
      "  Size: 30 , Solved: False , Solve time: 6467.154 milliseconds, Attempts: 100\n",
      "  Size: 31 , Solved: False , Solve time: 7293.897 milliseconds, Attempts: 100\n",
      "  Size: 32 , Solved: False , Solve time: 7968.008 milliseconds, Attempts: 100\n",
      "  Size: 33 , Solved: False , Solve time: 8647.313 milliseconds, Attempts: 100\n",
      "  Size: 34 , Solved: False , Solve time: 9490.048 milliseconds, Attempts: 100\n",
      "  Size: 35 , Solved: False , Solve time: 10004.002 milliseconds, Attempts: 100\n",
      "Method: <function random_restarts at 0x0000016CC575FDC0>\n",
      "  Size: 4 , Solved: True , Solve time: 1.001 milliseconds, Attempts: 1\n",
      "  Size: 5 , Solved: True , Solve time: 2.002 milliseconds, Attempts: 1\n",
      "  Size: 6 , Solved: True , Solve time: 14.012 milliseconds, Attempts: 1\n",
      "  Size: 7 , Solved: True , Solve time: 12.011 milliseconds, Attempts: 1\n",
      "  Size: 8 , Solved: True , Solve time: 5.004 milliseconds, Attempts: 1\n",
      "  Size: 9 , Solved: True , Solve time: 17.016 milliseconds, Attempts: 1\n",
      "  Size: 10 , Solved: True , Solve time: 84.077 milliseconds, Attempts: 1\n",
      "  Size: 11 , Solved: True , Solve time: 1421.835 milliseconds, Attempts: 1\n",
      "  Size: 12 , Solved: True , Solve time: 548.502 milliseconds, Attempts: 1\n",
      "  Size: 13 , Solved: True , Solve time: 86.078 milliseconds, Attempts: 1\n",
      "  Size: 14 , Solved: True , Solve time: 336.306 milliseconds, Attempts: 1\n",
      "  Size: 15 , Solved: True , Solve time: 894.815 milliseconds, Attempts: 1\n",
      "  Size: 16 , Solved: True , Solve time: 7273.74 milliseconds, Attempts: 1\n",
      "  Size: 17 , Solved: True , Solve time: 4002.654 milliseconds, Attempts: 1\n",
      "  Size: 18 , Solved: True , Solve time: 4386.983 milliseconds, Attempts: 1\n",
      "  Size: 19 , Solved: True , Solve time: 11020.383 milliseconds, Attempts: 1\n"
     ]
    }
   ],
   "source": [
    "import time\n",
    "#find largest board size solution that can be found in a reasonable amount of time (10s)\n",
    "methods = [steepest_ascent,stochastic1, stochastic2]\n",
    "for method in methods:\n",
    "    print(\"Method:\",method)\n",
    "    t1=0\n",
    "    t0=0\n",
    "    solved=False\n",
    "    n=4\n",
    "    #loop until a solve takes longer than 10 second\n",
    "    while t1-t0<10:\n",
    "        solved=False\n",
    "        t0 = time.time()\n",
    "        #set number of attempts incase method can't solve board\n",
    "        for i in range(100):\n",
    "            starting_board = random_board(n)\n",
    "            #solve board\n",
    "            if conflicts(hill_climb(starting_board, n, method)) == 0:\n",
    "                #if board is solved, display results\n",
    "                solved=True\n",
    "                t1 = time.time()\n",
    "                print(\"  Size:\",n,\", Solved:\",solved,\", Solve time:\",round((t1-t0) * 1e3, 3),\"milliseconds, Attempts:\",i+1)\n",
    "                break\n",
    "        if not solved:\n",
    "            t1 = time.time()\n",
    "            print(\"  Size:\",n,\", Solved:\",solved,\", Solve time:\",round((t1-t0) * 1e3, 3),\"milliseconds, Attempts:\",i+1)\n",
    "        n+=1\n",
    "#find largest board size solution for random restarts\n",
    "print(\"Method:\",random_restarts)\n",
    "t1=0\n",
    "t0=0\n",
    "solved=False\n",
    "n=4\n",
    "#loop until a solve takes longer than 10 second\n",
    "while t1-t0<10:\n",
    "    solved=False\n",
    "    t0 = time.time()\n",
    "    #set number of attempts incase method can't solve board\n",
    "    for i in range(100):\n",
    "        starting_board = random_board(n)\n",
    "        #solve board\n",
    "        if conflicts(random_restarts(n)) == 0:\n",
    "            #if board is solved, display results\n",
    "            solved=True\n",
    "            t1 = time.time()\n",
    "            print(\"  Size:\",n,\", Solved:\",solved,\", Solve time:\",round((t1-t0) * 1e3, 3),\"milliseconds, Attempts:\",i+1)\n",
    "            break\n",
    "    if not solved:\n",
    "        t1 = time.time()\n",
    "        print(\"  Size:\",n,\", Solved:\",solved,\", Solve time:\",round((t1-t0) * 1e3, 3),\"milliseconds, Attempts:\",i+1)\n",
    "    n+=1"
   ]
  },
  {
   "cell_type": "markdown",
   "metadata": {},
   "source": [
    "The output above shows how each hill-climbing method performed when completely solving boards of increasing size. I believe a reasonable amount of time for a board to be solved would be 10 seconds, so each method was ran with 100 attempts until it took longer than 10 seconds to solve a board.\n",
    "\n",
    "**Steepest Ascent** - We can see that this algorithm was able to solve boards up to a size of 20 in under 10 seconds.\n",
    "\n",
    "**Stochastic 1** - We can see that this algorithm was able to solve boards up to a size of 20 in under 10 seconds.\n",
    "\n",
    "**Stochastic 2** - We can see that this algorithm was able to solve boards up to a size of 23 in under 10 seconds. However, it is important to note that it was not able to solve most boards after size 10 when given 100 attempts.\n",
    "\n",
    "**Random Restarts** - We can see that this algorithm was able to solve boards up to a size of 18 in under 10 seconds."
   ]
  },
  {
   "cell_type": "markdown",
   "metadata": {},
   "source": [
    "## Graduate student advanced task: Simulated Annealing [10 Points]\n",
    "\n",
    "__Undergraduate students:__ This is a bonus task you can attempt if you like [+5 Bonus Points].\n",
    "\n",
    "Simulated annealing is a form of stochastic hill climbing that avoid local optima by also allowing downhill moves with a probability proportional to a temperature. The temperature is decreased in every iteration following an annealing schedule. You have to experiment with the annealing schedule (Google to find guidance on this).\n",
    "\n",
    "\n",
    "1. Implement simulated annealing for the n-Queens problem.\n",
    "2. Compare the performance with the previous algorithms. \n",
    "2. Discuss your choice of annealing schedule."
   ]
  },
  {
   "cell_type": "code",
   "execution_count": 21,
   "metadata": {
    "tags": []
   },
   "outputs": [],
   "source": [
    "# Code and description go here"
   ]
  },
  {
   "cell_type": "markdown",
   "metadata": {},
   "source": [
    "## More things to do\n",
    "\n",
    "Implement a Genetic Algorithm for the n-Queens problem."
   ]
  },
  {
   "cell_type": "code",
   "execution_count": 22,
   "metadata": {
    "tags": []
   },
   "outputs": [],
   "source": [
    "# Code and description go here"
   ]
  }
 ],
 "metadata": {
  "kernelspec": {
   "display_name": "Python 3 (ipykernel)",
   "language": "python",
   "name": "python3"
  },
  "language_info": {
   "codemirror_mode": {
    "name": "ipython",
    "version": 3
   },
   "file_extension": ".py",
   "mimetype": "text/x-python",
   "name": "python",
   "nbconvert_exporter": "python",
   "pygments_lexer": "ipython3",
   "version": "3.9.12"
  },
  "toc-autonumbering": false,
  "toc-showcode": false,
  "toc-showmarkdowntxt": false,
  "toc-showtags": false
 },
 "nbformat": 4,
 "nbformat_minor": 4
}
