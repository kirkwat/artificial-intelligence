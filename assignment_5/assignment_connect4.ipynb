{
 "cells": [
  {
   "cell_type": "markdown",
   "metadata": {},
   "source": [
    "# Adversarial Search: Playing Connect 4\n",
    "\n",
    "\n",
    "## Instructions\n",
    "\n",
    "Total Points: Undegraduates 100, graduate students 110\n",
    "\n",
    "Complete this notebook and submit it. The notebook needs to be a complete project report with your implementation, documentation including a short discussion of how your implementation works and your design choices, and experimental results (e.g., tables and charts with simulation results) with a short discussion of what they mean. Use the provided notebook cells and insert additional code and markdown cells as needed.\n",
    "\n",
    "## Introduction\n",
    "\n",
    "You will implement different versions of agents that play Connect 4:\n",
    "\n",
    "> \"Connect 4 is a two-player connection board game, in which the players choose a color and then take turns dropping colored discs into a seven-column, six-row vertically suspended grid. The pieces fall straight down, occupying the lowest available space within the column. The objective of the game is to be the first to form a horizontal, vertical, or diagonal line of four of one's own discs.\" (see [Connect Four on Wikipedia](https://en.wikipedia.org/wiki/Connect_Four))\n",
    "\n",
    "Note that [Connect-4 has been solved](https://en.wikipedia.org/wiki/Connect_Four#Mathematical_solution)\n",
    "in 1988. A connect-4 solver with a discussion of how to solve different parts of the problem can be found here: https://connect4.gamesolver.org/en/"
   ]
  },
  {
   "cell_type": "markdown",
   "metadata": {},
   "source": [
    "## Task 1: Defining the Search Problem [10 point]\n",
    "\n",
    "Define the components of the search problem:\n",
    "\n",
    "* Initial state\n",
    "* Actions\n",
    "* Transition model (result function)\n",
    "* Goal state (terminal state and utility)"
   ]
  },
  {
   "cell_type": "markdown",
   "metadata": {},
   "source": [
    "* __Initial state:__ Empty $6 \\times 7$ board\n",
    "* __Actions:__ Not full columns\n",
    "* __Transition model (result function):__ Drop a disc into a not full column which is placed into lowest possible row.\n",
    "* __Goal state (terminal state and utility):__ \n",
    "    * Did a player win or is the game a draw? \n",
    "    * +1 if Red wins, -1 if Yellow wins and 0 for a draw."
   ]
  },
  {
   "cell_type": "markdown",
   "metadata": {},
   "source": [
    "How big is the state space? Give an estimate and explain it.\n",
    "\n",
    "Each of the $6 \\times 7=42$ squares can have 3 values (empty, Red and Yellow), but some boards are impossible (due to gravity and rules of game).The number of states in the state space graph is less than $ 3^{42}$. [According to this MIT Connect 4 presentation](https://web.mit.edu/sp.268/www/2010/connectFourSlides.pdf), the upper bound is reduced to $7.1 \\times 10^{13}$ possible states after considering that every square above an empty square is also empty. The presentation also mentions that the lower bound is estimated to be $1.6 \\times 10^{13}$ possible states after considering impossible states due to the game rules."
   ]
  },
  {
   "cell_type": "code",
   "execution_count": 1,
   "metadata": {},
   "outputs": [
    {
     "data": {
      "text/plain": [
       "109418989131512359209"
      ]
     },
     "execution_count": 1,
     "metadata": {},
     "output_type": "execute_result"
    }
   ],
   "source": [
    "3**42"
   ]
  },
  {
   "cell_type": "markdown",
   "metadata": {},
   "source": [
    "How big is the game tree that minimax search will go through? Give an estimate and explain it.\n",
    "\n",
    "[According to a research paper titled \"Searching for Solutions in Games and Artificial Intelligence\"](https://project.dke.maastrichtuniversity.nl/games/files/phd/SearchingForSolutions.pdf), Connect 4 has an estimated game length of 36 ply, and an average branching factor of 4, so the game-tree complexity of connect-four is\n",
    "approximately $4^{36}\\approx 10^{21}$\n",
    "\n",
    "* Max depth of tree = $m = 42$ (maximal depth of 42 moves)\n",
    "* Max branching factor $b = 7$ (7 different columns to make a move)\n",
    "\n",
    "\n",
    "* Space complexity of $O(bm)$ (current path plus frontier)\n",
    "* Time complexity of  $O(b^m)$ (number of expanded nodes)\n",
    "\n",
    "This doesn't account for the branching factor decreases when a column becomes full."
   ]
  },
  {
   "cell_type": "code",
   "execution_count": 2,
   "metadata": {},
   "outputs": [
    {
     "data": {
      "text/plain": [
       "294"
      ]
     },
     "execution_count": 2,
     "metadata": {},
     "output_type": "execute_result"
    }
   ],
   "source": [
    "# Space Complexity O(bm):\n",
    "7*42"
   ]
  },
  {
   "cell_type": "code",
   "execution_count": 3,
   "metadata": {},
   "outputs": [
    {
     "data": {
      "text/plain": [
       "311973482284542371301330321821976049"
      ]
     },
     "execution_count": 3,
     "metadata": {},
     "output_type": "execute_result"
    }
   ],
   "source": [
    "# Time Complexity O(b^m): \n",
    "7**42"
   ]
  },
  {
   "cell_type": "markdown",
   "metadata": {},
   "source": [
    "## Task 2: Game Environment and Random Agent [25 point]\n",
    "\n",
    "Use a numpy character array as the board."
   ]
  },
  {
   "cell_type": "code",
   "execution_count": 4,
   "metadata": {},
   "outputs": [],
   "source": [
    "import numpy as np\n",
    "\n",
    "def empty_board(shape=(6, 7)):\n",
    "    return np.full(shape=shape, fill_value=0)"
   ]
  },
  {
   "cell_type": "markdown",
   "metadata": {},
   "source": [
    "The standard board is $6 \\times 7$ but you can use smaller boards to test your code. Instead of colors (red and yellow), I use 1 and -1 to represent the players. Make sure that your agent functions all have the from: `agent_type(board, player = 1)`, where board is the current board position (in the format above) and player is the player whose next move it is and who the agent should play (as 1 and -1)."
   ]
  },
  {
   "cell_type": "code",
   "execution_count": 5,
   "metadata": {
    "tags": []
   },
   "outputs": [
    {
     "data": {
      "image/png": "[encoded data removed]",
      "text/plain": [
       "<Figure size 432x288 with 1 Axes>"
      ]
     },
     "metadata": {
      "needs_background": "light"
     },
     "output_type": "display_data"
    }
   ],
   "source": [
    "# Visualization code by Randolph Rankin\n",
    "\n",
    "import matplotlib.pyplot as plt\n",
    "\n",
    "def visualize(board):\n",
    "    plt.axes()\n",
    "    rectangle=plt.Rectangle((-0.5,len(board)*-1+0.5),len(board[0]),len(board),fc='blue')\n",
    "    circles=[]\n",
    "    for i,row in enumerate(board):\n",
    "        for j,val in enumerate(row):\n",
    "            color='white' if val==0 else 'red' if val==1 else 'yellow'\n",
    "            circles.append(plt.Circle((j,i*-1),0.4,fc=color))\n",
    "\n",
    "    plt.gca().add_patch(rectangle)\n",
    "    for circle in circles:\n",
    "        plt.gca().add_patch(circle)\n",
    "\n",
    "    plt.axis('scaled')\n",
    "    plt.show()\n",
    "    \n",
    "board = [[0, 0, 0, 0, 0, 0, 0],\n",
    "         [0, 0, 0, 0, 0, 0, 0],\n",
    "         [0, 0, 0, 0, 0, 0, 0],\n",
    "         [0, 0, 0, 1, 0, 0, 0],\n",
    "         [0, 0, 0, 1, 0, 0, 0],\n",
    "         [0,-1,-1, 1,-1, 0, 0]]\n",
    "visualize(board)"
   ]
  },
  {
   "cell_type": "markdown",
   "metadata": {
    "tags": []
   },
   "source": [
    "Implement helper functions for:\n",
    "\n",
    "* A check for available actions in each state `actions(s)`.\n",
    "* The transition model `result(s, a)`.\n",
    "* Check for terminal states `terminal(s)`.\n",
    "* The utility function `utility(s)`.\n",
    "\n",
    "Make sure that all these functions work with boards of different sizes (number of columns and rows)."
   ]
  },
  {
   "cell_type": "code",
   "execution_count": 6,
   "metadata": {},
   "outputs": [],
   "source": [
    "def actions(s):\n",
    "    #return not full collumns\n",
    "    return np.where(np.array(s[0])==0)[0].tolist()\n",
    "    \n",
    "def result(s, p, a):\n",
    "    #check if column is full\n",
    "    if(s[0][a] != 0):\n",
    "        print(\"Error: Illegal move!\")\n",
    "    #copy board\n",
    "    board = np.copy(s)\n",
    "    #find lowest row\n",
    "    lowestRow=0\n",
    "    for lowestRow in range(len(board)):\n",
    "        #if player disc is found\n",
    "        if(board[lowestRow][a]!=0):\n",
    "            #place player disc one above current disc\n",
    "            board[lowestRow-1][a]=p\n",
    "            #return board   \n",
    "            return board\n",
    "    #place player disc on lowest row\n",
    "    board[lowestRow][a]=p\n",
    "    #return board   \n",
    "    return board\n",
    "\n",
    "def terminal(s):\n",
    "    #search board and check if it is full\n",
    "    for i in range(len(s)):\n",
    "        for j in range(len(s[0])):\n",
    "            if s[i][j] ==0: return False\n",
    "    return True\n",
    "\n",
    "def utility(s, player = 1):\n",
    "    #check if either player won\n",
    "    goal = check_win(s)\n",
    "    if goal == player: return +1 \n",
    "    if goal == other(player): return -1\n",
    "    #check if board is full\n",
    "    draw = terminal(s)\n",
    "    if draw: return 0\n",
    "    #if game is not over\n",
    "    return None"
   ]
  },
  {
   "cell_type": "markdown",
   "metadata": {},
   "source": [
    "Some helper functions"
   ]
  },
  {
   "cell_type": "code",
   "execution_count": 7,
   "metadata": {
    "scrolled": false
   },
   "outputs": [],
   "source": [
    "def check_win(s):\n",
    "    #copy board\n",
    "    board = np.copy(s)\n",
    "    #search board\n",
    "    for i in range(len(board)):\n",
    "        for j in range(len(board[0])):\n",
    "            #check vertical\n",
    "            if not i + 3 >= len(board) and board[i][j]  == board[i+1][j] == board[i+2][j] == board[i+3][j] !=0:\n",
    "                return board[i][j]\n",
    "            #check horizontal\n",
    "            if not j + 3 >= len(board[0]) and board[i][j]  == board[i][j+1] == board[i][j+2] == board[i][j+3] !=0:\n",
    "                return board[i][j]\n",
    "            #check diagonal\n",
    "            if not j + 3 >= len(board[0]) and not i + 3 >= len(board) and board[i][j] == board[i+1][j + 1] == board[i+2][j + 2] == board[i+3][j + 3] !=0:\n",
    "                return board[i][j]\n",
    "            #check check reverse diagonal\n",
    "            if not j - 3 < 0 and not i + 3 >= len(board)and board[i][j] == board[i+1][j - 1] == board[i+2][j - 2] == board[i+3][j - 3] !=0:\n",
    "                return board[i][j]\n",
    "    #return 0 if no winner\n",
    "    return 0\n",
    "\n",
    "def other(player): \n",
    "    if player == 1: return -1\n",
    "    else: return 1"
   ]
  },
  {
   "cell_type": "markdown",
   "metadata": {},
   "source": [
    "Implement an agent that plays randomly. Make sure the agent function receives as the percept the board and returns a valid action. Use an agent function definition with the following signature (arguments):\n",
    "\n",
    "`def random_player(board, player = 1): ...`\n",
    "\n",
    "The argument `player` is used for agents that do not store what color they are playing. The value passed on by the environment should be 1 ot -1 for player red and yellow, respectively.  See [Experiments section for tic-tac-toe](https://nbviewer.org/github/mhahsler/CS7320-AI/blob/master/Games/tictactoe_and_or_tree_search.ipynb#Experiments) for an example."
   ]
  },
  {
   "cell_type": "code",
   "execution_count": 8,
   "metadata": {},
   "outputs": [
    {
     "data": {
      "image/png": "[encoded data removed]",
      "text/plain": [
       "<Figure size 432x288 with 1 Axes>"
      ]
     },
     "metadata": {
      "needs_background": "light"
     },
     "output_type": "display_data"
    },
    {
     "data": {
      "text/plain": [
       "6"
      ]
     },
     "metadata": {},
     "output_type": "display_data"
    },
    {
     "name": "stdout",
     "output_type": "stream",
     "text": [
      "CPU times: total: 0 ns\n",
      "Wall time: 1 ms\n"
     ]
    }
   ],
   "source": [
    "def random_player(board, player = 1):\n",
    "    return np.random.choice(actions(board))\n",
    "\n",
    "visualize(board)\n",
    "%time display(random_player(board))"
   ]
  },
  {
   "cell_type": "markdown",
   "metadata": {},
   "source": [
    "Let two random agents play against each other 1000 times. Look at the [Experiments section for tic-tac-toe](https://nbviewer.org/github/mhahsler/CS7320-AI/blob/master/Games/tictactoe_and_or_tree_search.ipynb#Experiments) to see how the environment uses the agent functions to play against each other.\n",
    "\n",
    "How often does each player win? Is the result expected?"
   ]
  },
  {
   "cell_type": "code",
   "execution_count": 9,
   "metadata": {
    "tags": []
   },
   "outputs": [],
   "source": [
    "def switch_player(player, red, yellow):\n",
    "    if player == 1:\n",
    "        return -1, yellow\n",
    "    else:\n",
    "        return 1, red\n",
    "\n",
    "def play(red, yellow, N = 1000):\n",
    "    results = {1: 0, -1: 0, 'd': 0}\n",
    "    for i in range(N):\n",
    "        board = empty_board()\n",
    "        player, fun = 1, red\n",
    "        while True:\n",
    "            #check if board is full\n",
    "            if terminal(board):\n",
    "                results['d']+=1\n",
    "                break\n",
    "            #get move  \n",
    "            a = fun(board, player)\n",
    "            board = result(board, player, a)\n",
    "            #check if player won\n",
    "            win = check_win(board)\n",
    "            if win != 0:\n",
    "                results[win] += 1\n",
    "                break\n",
    "\n",
    "            player, fun = switch_player(player, red, yellow)   \n",
    "    return results"
   ]
  },
  {
   "cell_type": "code",
   "execution_count": 10,
   "metadata": {
    "scrolled": false
   },
   "outputs": [
    {
     "data": {
      "text/plain": [
       "{1: 566, -1: 431, 'd': 3}"
      ]
     },
     "metadata": {},
     "output_type": "display_data"
    },
    {
     "name": "stdout",
     "output_type": "stream",
     "text": [
      "CPU times: total: 1.62 s\n",
      "Wall time: 1.61 s\n"
     ]
    }
   ],
   "source": [
    "%time display(play(random_player, random_player))"
   ]
  },
  {
   "cell_type": "markdown",
   "metadata": {},
   "source": [
    "Red and yellow both win about 50% of the time. However, red usually has more wins, and that could be due to red getting the first turn at the start of each game."
   ]
  },
  {
   "cell_type": "markdown",
   "metadata": {},
   "source": [
    "## Task 3: Minimax Search with Alpha-Beta Pruning\n",
    "\n",
    "### Implement the Search [20 points] \n",
    "\n",
    "Implement minimax search starting from a given board for specifying the player.\n",
    "You can use code from the [tic-tac-toe example](https://nbviewer.org/github/mhahsler/CS7320-AI/blob/master/Games/tictactoe_alpha_beta_tree_search.ipynb).\n",
    "\n",
    "__Important Notes:__ \n",
    "* Make sure that all your agent functions have a signature consistent with the random agent above and that it [uses a class to store state information.](https://nbviewer.org/github/mhahsler/CS7320-AI/blob/master/Python_Code_Examples/store_agent_state_information.ipynb)\n",
    "This is essential to be able play against agents from other students later.\n",
    "\n",
    "* The search space for a $6 \\times 7$ board is large. You can experiment with smaller boards (the smallest is $4 \\times 4$) and/or changing the winning rule to connect 3 instead of 4."
   ]
  },
  {
   "cell_type": "code",
   "execution_count": 11,
   "metadata": {},
   "outputs": [],
   "source": [
    "#To prevent the agent from taking too long to make a move. The agent has a max depth which controls the search tree size."
   ]
  },
  {
   "cell_type": "code",
   "execution_count": 12,
   "metadata": {},
   "outputs": [],
   "source": [
    "import math\n",
    "\n",
    "class Alpha_beta_search:\n",
    "    def __init__(self,player, maxDepth=5, debug=2):\n",
    "        self.player= player\n",
    "        self.maxDepth= maxDepth\n",
    "        self.count= count = 0\n",
    "        self.debug= debug # 1 ... count nodes, 2 ... debug each node\n",
    "\n",
    "    def find_move(self, board):\n",
    "        \"\"\"start the search.\"\"\"\n",
    "        self.count = 0\n",
    "        currentDepth=0\n",
    "\n",
    "        value, move = self.max_value_ab(board, -math.inf, +math.inf, currentDepth)\n",
    "\n",
    "        if self.debug >= 1: print(f\"Number of nodes searched: {self.count}\") \n",
    "\n",
    "        return { \"move\": move, \"value\": value }\n",
    "\n",
    "    def max_value_ab(self, state, alpha, beta, currentDepth):\n",
    "        \"\"\"player's best move.\"\"\"\n",
    "        self.count += 1\n",
    "\n",
    "        # return utility of state is a terminal state\n",
    "        v = utility(state, self.player)\n",
    "        if self.debug >= 2: print(f\"max: {state} [alpha,beta]=[{alpha},{beta}] v={v}\")\n",
    "        if v is not None: \n",
    "            if self.debug >= 2: print(f\"     found terminal state. backtracking.\")\n",
    "            return v, None\n",
    "        \n",
    "        #increase currentDepth and check maxDepth\n",
    "        currentDepth+=1\n",
    "        if currentDepth == self.maxDepth: return 0, None\n",
    "\n",
    "        v, move = -math.inf, None\n",
    "\n",
    "        # check all possible actions in the state, update alpha and return move with the largest value\n",
    "        for a in actions(state):\n",
    "            v2, a2 = self.min_value_ab(result(state, self.player, a), alpha, beta, currentDepth)\n",
    "            if self.debug >= 2: print(f\"max: {state} (backtracked) [alpha,beta]=[{alpha},{beta}] v={v2}\")\n",
    "\n",
    "            if v2 > v:\n",
    "                v, move = v2, a\n",
    "                alpha = max(alpha, v)\n",
    "            if v >= beta:\n",
    "                if self.debug >= 2: print(f\"     v>=beta ({v}>={beta}): pruning remaining subtree (actions). backtracking.\")\n",
    "                return v, move\n",
    "\n",
    "        return v, move\n",
    "\n",
    "    def min_value_ab(self, state, alpha, beta, currentDepth):\n",
    "        \"\"\"opponent's best response.\"\"\"\n",
    "        self.count += 1\n",
    "\n",
    "        # return utility of state is a terminal state\n",
    "        v = utility(state, self.player)\n",
    "        if self.debug >= 2: print(f\"min: {state} [alpha,beta]=[{alpha},{beta}] v={v}\")\n",
    "        if v is not None: \n",
    "            if self.debug >= 2: print(f\"     found terminal state. backtacking.\")\n",
    "            return v, None\n",
    "        \n",
    "        #increase currentDepth and check maxDepth\n",
    "        currentDepth+=1\n",
    "        if currentDepth == self.maxDepth: return 0, None\n",
    "\n",
    "        v, move = +math.inf, None\n",
    "\n",
    "        # check all possible actions in the state, update beta and return move with the smallest value\n",
    "        for a in actions(state):\n",
    "            v2, a2 = self.max_value_ab(result(state, other(self.player), a), alpha, beta, currentDepth)\n",
    "            if self.debug >= 2: print(f\"min: {state} (backtracked) [alpha,beta]=[{alpha},{beta}] v={v2}\")\n",
    "\n",
    "            if v2 < v:\n",
    "                v, move = v2, a\n",
    "                beta = min(beta, v)\n",
    "            if v <= alpha: \n",
    "                if self.debug >= 2: print(f\"     v<=alpha ({v}<={alpha}): pruning remaining subtree (actions). backtracking.\")\n",
    "                return v, move\n",
    "\n",
    "        return v, move"
   ]
  },
  {
   "cell_type": "markdown",
   "metadata": {},
   "source": [
    "Experiment with some manually created boards (at least 5) to check if the agent spots winning opportunities.\n",
    "\n",
    "### Situation 1: Red is about to win."
   ]
  },
  {
   "cell_type": "code",
   "execution_count": 13,
   "metadata": {
    "scrolled": true
   },
   "outputs": [
    {
     "data": {
      "image/png": "[encoded data removed]",
      "text/plain": [
       "<Figure size 432x288 with 1 Axes>"
      ]
     },
     "metadata": {
      "needs_background": "light"
     },
     "output_type": "display_data"
    }
   ],
   "source": [
    "board = [[0, 0, 0, 0, 0, 0, 0],\n",
    "         [0, 0, 0, 0, 0, 0, 0],\n",
    "         [0, 0, 0, 0, 0, 0, 0],\n",
    "         [0, 0, 0, 1, 0, 0, 0],\n",
    "         [0, 0, 0, 1, 0, 0, 0],\n",
    "         [0,-1,-1, 1,-1, 0, 0]]\n",
    "\n",
    "visualize(board)"
   ]
  },
  {
   "cell_type": "markdown",
   "metadata": {},
   "source": [
    "##### Red Move:"
   ]
  },
  {
   "cell_type": "code",
   "execution_count": 14,
   "metadata": {},
   "outputs": [
    {
     "name": "stdout",
     "output_type": "stream",
     "text": [
      "Number of nodes searched: 236\n"
     ]
    },
    {
     "data": {
      "text/plain": [
       "{'move': 3, 'value': 1}"
      ]
     },
     "metadata": {},
     "output_type": "display_data"
    },
    {
     "name": "stdout",
     "output_type": "stream",
     "text": [
      "CPU times: total: 15.6 ms\n",
      "Wall time: 17 ms\n"
     ]
    }
   ],
   "source": [
    "red_move=Alpha_beta_search(player=1, debug=1)\n",
    "%time display(red_move.find_move(board))"
   ]
  },
  {
   "cell_type": "markdown",
   "metadata": {},
   "source": [
    "##### Yellow Move:"
   ]
  },
  {
   "cell_type": "code",
   "execution_count": 15,
   "metadata": {},
   "outputs": [
    {
     "name": "stdout",
     "output_type": "stream",
     "text": [
      "Number of nodes searched: 401\n"
     ]
    },
    {
     "data": {
      "text/plain": [
       "{'move': 3, 'value': 0}"
      ]
     },
     "metadata": {},
     "output_type": "display_data"
    },
    {
     "name": "stdout",
     "output_type": "stream",
     "text": [
      "CPU times: total: 31.2 ms\n",
      "Wall time: 27 ms\n"
     ]
    }
   ],
   "source": [
    "yellow_move=Alpha_beta_search(player=-1, debug=1)\n",
    "%time display(yellow_move.find_move(board))"
   ]
  },
  {
   "cell_type": "markdown",
   "metadata": {},
   "source": [
    "Red goes for the win as planned and yellow stops the win.\n",
    "\n",
    "### Situation 2: Yellow will win no matter what red does"
   ]
  },
  {
   "cell_type": "code",
   "execution_count": 16,
   "metadata": {
    "scrolled": true
   },
   "outputs": [
    {
     "data": {
      "image/png": "[encoded data removed]",
      "text/plain": [
       "<Figure size 432x288 with 1 Axes>"
      ]
     },
     "metadata": {
      "needs_background": "light"
     },
     "output_type": "display_data"
    }
   ],
   "source": [
    "board = [[0, 0, 0, 0, 0, 0, 0],\n",
    "         [0, 0, 0, 0, 0, 0, 0],\n",
    "         [0, 0, 0, 0, 0, 0, 0],\n",
    "         [0, 0,-1,-1, 1, 0, 0],\n",
    "         [0, 0,-1, 1, 1, 0, 0],\n",
    "         [0,-1,-1, 1,-1, 0, 0]]\n",
    "\n",
    "visualize(board)"
   ]
  },
  {
   "cell_type": "markdown",
   "metadata": {},
   "source": [
    "##### Red Move:"
   ]
  },
  {
   "cell_type": "code",
   "execution_count": 17,
   "metadata": {},
   "outputs": [
    {
     "name": "stdout",
     "output_type": "stream",
     "text": [
      "Number of nodes searched: 386\n"
     ]
    },
    {
     "data": {
      "text/plain": [
       "{'move': 0, 'value': -1}"
      ]
     },
     "metadata": {},
     "output_type": "display_data"
    },
    {
     "name": "stdout",
     "output_type": "stream",
     "text": [
      "CPU times: total: 15.6 ms\n",
      "Wall time: 23 ms\n"
     ]
    }
   ],
   "source": [
    "red_move=Alpha_beta_search(player=1, debug=1)\n",
    "%time display(red_move.find_move(board))"
   ]
  },
  {
   "cell_type": "markdown",
   "metadata": {},
   "source": [
    "##### Yellow Move:"
   ]
  },
  {
   "cell_type": "code",
   "execution_count": 18,
   "metadata": {
    "scrolled": false
   },
   "outputs": [
    {
     "name": "stdout",
     "output_type": "stream",
     "text": [
      "Number of nodes searched: 159\n"
     ]
    },
    {
     "data": {
      "text/plain": [
       "{'move': 0, 'value': 1}"
      ]
     },
     "metadata": {},
     "output_type": "display_data"
    },
    {
     "name": "stdout",
     "output_type": "stream",
     "text": [
      "CPU times: total: 15.6 ms\n",
      "Wall time: 18 ms\n"
     ]
    }
   ],
   "source": [
    "yellow_move=Alpha_beta_search(player=-1, debug=1)\n",
    "%time display(yellow_move.find_move(board))"
   ]
  },
  {
   "cell_type": "markdown",
   "metadata": {},
   "source": [
    "Red gives up because it knows it can't win. However, yellow does not pick the the shortest path to a win. If we change the max tree depth to a lower number, yellow will then pick the shortest path to a win.\n",
    "\n",
    "### Situation 3: Empty Board"
   ]
  },
  {
   "cell_type": "code",
   "execution_count": 19,
   "metadata": {
    "scrolled": true
   },
   "outputs": [
    {
     "data": {
      "image/png": "[encoded data removed]",
      "text/plain": [
       "<Figure size 432x288 with 1 Axes>"
      ]
     },
     "metadata": {
      "needs_background": "light"
     },
     "output_type": "display_data"
    }
   ],
   "source": [
    "board = empty_board()\n",
    "visualize(board)"
   ]
  },
  {
   "cell_type": "markdown",
   "metadata": {},
   "source": [
    "##### Red Move:"
   ]
  },
  {
   "cell_type": "code",
   "execution_count": 20,
   "metadata": {},
   "outputs": [
    {
     "name": "stdout",
     "output_type": "stream",
     "text": [
      "Number of nodes searched: 173\n"
     ]
    },
    {
     "data": {
      "text/plain": [
       "{'move': 0, 'value': 0}"
      ]
     },
     "metadata": {},
     "output_type": "display_data"
    },
    {
     "name": "stdout",
     "output_type": "stream",
     "text": [
      "CPU times: total: 15.6 ms\n",
      "Wall time: 14 ms\n"
     ]
    }
   ],
   "source": [
    "red_move=Alpha_beta_search(player=1, debug=1)\n",
    "%time display(red_move.find_move(board))"
   ]
  },
  {
   "cell_type": "markdown",
   "metadata": {},
   "source": [
    "##### Yellow Move:"
   ]
  },
  {
   "cell_type": "code",
   "execution_count": 21,
   "metadata": {
    "scrolled": true
   },
   "outputs": [
    {
     "name": "stdout",
     "output_type": "stream",
     "text": [
      "Number of nodes searched: 173\n"
     ]
    },
    {
     "data": {
      "text/plain": [
       "{'move': 0, 'value': 0}"
      ]
     },
     "metadata": {},
     "output_type": "display_data"
    },
    {
     "name": "stdout",
     "output_type": "stream",
     "text": [
      "CPU times: total: 15.6 ms\n",
      "Wall time: 13.9 ms\n"
     ]
    }
   ],
   "source": [
    "yellow_move=Alpha_beta_search(player=-1, debug=1)\n",
    "%time display(yellow_move.find_move(board))"
   ]
  },
  {
   "cell_type": "markdown",
   "metadata": {},
   "source": [
    "Both players pick the first available column. This can be changed by prioritizing other columns.\n",
    "\n",
    "### Situation 4: Yellow is about to win."
   ]
  },
  {
   "cell_type": "code",
   "execution_count": 22,
   "metadata": {},
   "outputs": [
    {
     "data": {
      "image/png": "[encoded data removed]",
      "text/plain": [
       "<Figure size 432x288 with 1 Axes>"
      ]
     },
     "metadata": {
      "needs_background": "light"
     },
     "output_type": "display_data"
    }
   ],
   "source": [
    "board = [[0, 0, 0, 0, 0, 0, 0],\n",
    "         [0, 0, 0, 0, 0, 0, 0],\n",
    "         [0, 0, 0, 0, 0, 0, 0],\n",
    "         [0, 0, 0, 0, 0, 0, 0],\n",
    "         [0, 1, 1, 0, 1, 0, 0],\n",
    "         [0,-1,-1, 0,-1, 0, 0]]\n",
    "\n",
    "visualize(board)"
   ]
  },
  {
   "cell_type": "markdown",
   "metadata": {},
   "source": [
    "##### Red Move:"
   ]
  },
  {
   "cell_type": "code",
   "execution_count": 23,
   "metadata": {},
   "outputs": [
    {
     "name": "stdout",
     "output_type": "stream",
     "text": [
      "Number of nodes searched: 422\n"
     ]
    },
    {
     "data": {
      "text/plain": [
       "{'move': 3, 'value': 0}"
      ]
     },
     "metadata": {},
     "output_type": "display_data"
    },
    {
     "name": "stdout",
     "output_type": "stream",
     "text": [
      "CPU times: total: 31.2 ms\n",
      "Wall time: 30 ms\n"
     ]
    }
   ],
   "source": [
    "red_move=Alpha_beta_search(player=1, debug=1)\n",
    "%time display(red_move.find_move(board))"
   ]
  },
  {
   "cell_type": "markdown",
   "metadata": {},
   "source": [
    "##### Yellow Move:"
   ]
  },
  {
   "cell_type": "code",
   "execution_count": 24,
   "metadata": {
    "scrolled": true
   },
   "outputs": [
    {
     "name": "stdout",
     "output_type": "stream",
     "text": [
      "Number of nodes searched: 248\n"
     ]
    },
    {
     "data": {
      "text/plain": [
       "{'move': 3, 'value': 1}"
      ]
     },
     "metadata": {},
     "output_type": "display_data"
    },
    {
     "name": "stdout",
     "output_type": "stream",
     "text": [
      "CPU times: total: 15.6 ms\n",
      "Wall time: 18.9 ms\n"
     ]
    }
   ],
   "source": [
    "yellow_move=Alpha_beta_search(player=-1, debug=1)\n",
    "%time display(yellow_move.find_move(board))"
   ]
  },
  {
   "cell_type": "markdown",
   "metadata": {},
   "source": [
    "Red goes for column 3 to prevent yellow from winning. Yellow goes for the win.\n",
    "\n",
    "### Situation 5: Red will win no matter what yellow does"
   ]
  },
  {
   "cell_type": "code",
   "execution_count": 25,
   "metadata": {
    "scrolled": true
   },
   "outputs": [
    {
     "data": {
      "image/png": "[encoded data removed]",
      "text/plain": [
       "<Figure size 432x288 with 1 Axes>"
      ]
     },
     "metadata": {
      "needs_background": "light"
     },
     "output_type": "display_data"
    }
   ],
   "source": [
    "board = [[0, 0, 0, 0, 0, 0, 0],\n",
    "         [0, 0, 0, 0, 0, 0, 0],\n",
    "         [0, 0, 0, 0, 0, 0, 0],\n",
    "         [0, 0, 0, 1, 1, 1, 0],\n",
    "         [0,-1,-1, 1, 1, 1, 0],\n",
    "         [0,-1,-1, 1,-1,-1,-1]]\n",
    "\n",
    "visualize(board)"
   ]
  },
  {
   "cell_type": "markdown",
   "metadata": {},
   "source": [
    "##### Red Move:"
   ]
  },
  {
   "cell_type": "code",
   "execution_count": 26,
   "metadata": {},
   "outputs": [
    {
     "name": "stdout",
     "output_type": "stream",
     "text": [
      "Number of nodes searched: 148\n"
     ]
    },
    {
     "data": {
      "text/plain": [
       "{'move': 0, 'value': 1}"
      ]
     },
     "metadata": {},
     "output_type": "display_data"
    },
    {
     "name": "stdout",
     "output_type": "stream",
     "text": [
      "CPU times: total: 15.6 ms\n",
      "Wall time: 10 ms\n"
     ]
    }
   ],
   "source": [
    "red_move=Alpha_beta_search(player=1, debug=1)\n",
    "%time display(red_move.find_move(board))"
   ]
  },
  {
   "cell_type": "markdown",
   "metadata": {},
   "source": [
    "##### Yellow Move:"
   ]
  },
  {
   "cell_type": "code",
   "execution_count": 27,
   "metadata": {
    "scrolled": false
   },
   "outputs": [
    {
     "name": "stdout",
     "output_type": "stream",
     "text": [
      "Number of nodes searched: 312\n"
     ]
    },
    {
     "data": {
      "text/plain": [
       "{'move': 0, 'value': -1}"
      ]
     },
     "metadata": {},
     "output_type": "display_data"
    },
    {
     "name": "stdout",
     "output_type": "stream",
     "text": [
      "CPU times: total: 46.9 ms\n",
      "Wall time: 20 ms\n"
     ]
    }
   ],
   "source": [
    "yellow_move=Alpha_beta_search(player=-1, debug=1)\n",
    "%time display(yellow_move.find_move(board))"
   ]
  },
  {
   "cell_type": "markdown",
   "metadata": {},
   "source": [
    "Red does not pick the the shortest path to a win. If we change the max tree depth to a lower number, yellow will then pick the shortest path to a win. Yellow gives up because it knows it can't win. "
   ]
  },
  {
   "cell_type": "markdown",
   "metadata": {},
   "source": [
    "### Move ordering [5 points]\n",
    "\n",
    "Starting the search with better moves will increase the efficiency of alpha-beta pruning. Describe and implement a simple move ordering strategy. Make a table that shows how the ordering strategies influence the time it takes to make a move?"
   ]
  },
  {
   "cell_type": "code",
   "execution_count": 28,
   "metadata": {},
   "outputs": [
    {
     "data": {
      "image/png": "[encoded data removed]",
      "text/plain": [
       "<Figure size 432x288 with 1 Axes>"
      ]
     },
     "metadata": {
      "needs_background": "light"
     },
     "output_type": "display_data"
    },
    {
     "data": {
      "text/plain": [
       "[3, 4, 2, 6, 0, 5, 1]"
      ]
     },
     "execution_count": 28,
     "metadata": {},
     "output_type": "execute_result"
    }
   ],
   "source": [
    "def actions(s):\n",
    "    #get not full collumns\n",
    "    actions = np.where(np.array(s[0])==0)[0].tolist()\n",
    "    #prioritize center columns then edges\n",
    "    priority = [1,0,2,3,2,0,1]\n",
    "    priority = [priority[i] for i in actions]\n",
    "    \n",
    "    actions =[a for _,a in sorted(zip(priority,actions), reverse=True)]\n",
    "\n",
    "    return actions\n",
    "\n",
    "board = empty_board()   \n",
    "visualize(board)\n",
    "actions(board)"
   ]
  },
  {
   "cell_type": "markdown",
   "metadata": {},
   "source": [
    "### The first few moves [5 points]\n",
    "\n",
    "Start with an empty board. This is the worst case scenario for minimax search since it needs solve all possible games that can be played (minus some pruning) before making the decision. What can you do? "
   ]
  },
  {
   "cell_type": "code",
   "execution_count": 29,
   "metadata": {},
   "outputs": [],
   "source": [
    "#To handle this, I set a max depth for the search tree so that the search won't have to discover the entire game tree.\n",
    "#The default max depth value is currently 5."
   ]
  },
  {
   "cell_type": "markdown",
   "metadata": {},
   "source": [
    "### Playtime [5 points]\n",
    "\n",
    "Let the Minimax Search agent play a random agent on a small board. Analyze wins, losses and draws."
   ]
  },
  {
   "cell_type": "code",
   "execution_count": 30,
   "metadata": {},
   "outputs": [
    {
     "name": "stdout",
     "output_type": "stream",
     "text": [
      "alpha-beta vs. random:\n"
     ]
    },
    {
     "data": {
      "text/plain": [
       "{1: 999, -1: 1, 'd': 0}"
      ]
     },
     "metadata": {},
     "output_type": "display_data"
    },
    {
     "name": "stdout",
     "output_type": "stream",
     "text": [
      "CPU times: total: 58.5 s\n",
      "Wall time: 58.4 s\n",
      "\n",
      "random vs. alpha-beta\n"
     ]
    },
    {
     "data": {
      "text/plain": [
       "{1: 8, -1: 992, 'd': 0}"
      ]
     },
     "metadata": {},
     "output_type": "display_data"
    },
    {
     "name": "stdout",
     "output_type": "stream",
     "text": [
      "CPU times: total: 1min 9s\n",
      "Wall time: 1min 9s\n"
     ]
    }
   ],
   "source": [
    "def alpha_beta_player(board, player = 1, debug=0):\n",
    "    ab_player=Alpha_beta_search(player=player, debug=debug)\n",
    "    return ab_player.find_move(board)[\"move\"]\n",
    "\n",
    "print(\"alpha-beta vs. random:\")\n",
    "%time display(play(alpha_beta_player, random_player))\n",
    "\n",
    "print()\n",
    "print(\"random vs. alpha-beta\")\n",
    "%time display(play(random_player, alpha_beta_player))"
   ]
  },
  {
   "cell_type": "markdown",
   "metadata": {},
   "source": [
    "This is not the best way to test the Minimax Search agent because it will win every game just by stacking pieces up the middle column unless the random agent also places a piece in the middle column which is up to chance."
   ]
  },
  {
   "cell_type": "code",
   "execution_count": 31,
   "metadata": {},
   "outputs": [
    {
     "name": "stdout",
     "output_type": "stream",
     "text": [
      "alpha-beta vs. alpha-beta\n"
     ]
    },
    {
     "data": {
      "text/plain": [
       "{1: 0, -1: 0, 'd': 100}"
      ]
     },
     "metadata": {},
     "output_type": "display_data"
    },
    {
     "name": "stdout",
     "output_type": "stream",
     "text": [
      "CPU times: total: 23.2 s\n",
      "Wall time: 23.1 s\n"
     ]
    }
   ],
   "source": [
    "print(\"alpha-beta vs. alpha-beta\")\n",
    "%time display(play(alpha_beta_player, alpha_beta_player,N=100))"
   ]
  },
  {
   "cell_type": "markdown",
   "metadata": {},
   "source": [
    "When the Minimax Search agent plays itself as an opponent, every game will result in a tie. This is the result of never introducing a random move into the game for either agent. Finding a way to provide random actions while also prioritizing columns will fix this issue."
   ]
  },
  {
   "cell_type": "markdown",
   "metadata": {},
   "source": [
    "## Task 4: Heuristic Alpha-Beta Tree Search\n",
    "\n",
    "### Heuristic evaluation function [15 points]\n",
    "\n",
    "Define and implement a heuristic evaluation function."
   ]
  },
  {
   "cell_type": "code",
   "execution_count": 32,
   "metadata": {},
   "outputs": [],
   "source": [
    "# Your code/ answer goes here."
   ]
  },
  {
   "cell_type": "markdown",
   "metadata": {},
   "source": [
    "### Cutting off search [10 points]\n",
    "\n",
    "Modify your Minimax Search with Alpha-Beta Pruning to cut off search at a specified depth and use the heuristic evaluation function. Experiment with different cutoff values."
   ]
  },
  {
   "cell_type": "code",
   "execution_count": 33,
   "metadata": {},
   "outputs": [],
   "source": [
    "# Your code/ answer goes here."
   ]
  },
  {
   "cell_type": "markdown",
   "metadata": {},
   "source": [
    "Experiment with the same manually created boards as above to check if the agent spots wining opportunities."
   ]
  },
  {
   "cell_type": "code",
   "execution_count": 34,
   "metadata": {},
   "outputs": [],
   "source": [
    "# Your code/ answer goes here."
   ]
  },
  {
   "cell_type": "markdown",
   "metadata": {},
   "source": [
    "How long does it take to make a move? Start with a smaller board with 4 columns and make the board larger by adding columns."
   ]
  },
  {
   "cell_type": "code",
   "execution_count": 35,
   "metadata": {},
   "outputs": [],
   "source": [
    "# Your code/ answer goes here."
   ]
  },
  {
   "cell_type": "markdown",
   "metadata": {},
   "source": [
    "### Playtime [5 points]\n",
    "\n",
    "Let two heuristic search agents (different cutoff depth, different heuristic evaluation function) compete against each other on a reasonably sized board. Since there is no randomness, you only need to let them play once."
   ]
  },
  {
   "cell_type": "code",
   "execution_count": 36,
   "metadata": {},
   "outputs": [],
   "source": [
    "# Your code/ answer goes here."
   ]
  },
  {
   "cell_type": "markdown",
   "metadata": {},
   "source": [
    "## Challenge task [+ 10 bonus point will be awarded separately]\n",
    "\n",
    "Find another student and let your best agent play against the other student's best player. We will set up a class tournament on Canvas. This tournament will continue after the submission deadline."
   ]
  },
  {
   "cell_type": "markdown",
   "metadata": {},
   "source": [
    "## Graduate student advanced task: Pure Monte Carlo Search and Best First Move [10 point]\n",
    "\n",
    "__Undergraduate students:__ This is a bonus task you can attempt if you like [+10 bonus point].\n",
    "\n",
    "### Pure Monte Carlo Search\n",
    "\n",
    "Implement Pure Monte Carlo Search and investigate how this search performs on the test boards that you have used above. "
   ]
  },
  {
   "cell_type": "code",
   "execution_count": 37,
   "metadata": {},
   "outputs": [],
   "source": [
    "# Your code/ answer goes here."
   ]
  },
  {
   "cell_type": "markdown",
   "metadata": {},
   "source": [
    "### Best First Move\n",
    "\n",
    "Use Oure Monte Carlo Search to determine what the best first move is? Describe under what assumptions this is the \"best\" first move.  "
   ]
  },
  {
   "cell_type": "code",
   "execution_count": 38,
   "metadata": {},
   "outputs": [],
   "source": [
    "# Your code/ answer goes here."
   ]
  }
 ],
 "metadata": {
  "kernelspec": {
   "display_name": "Python 3 (ipykernel)",
   "language": "python",
   "name": "python3"
  },
  "language_info": {
   "codemirror_mode": {
    "name": "ipython",
    "version": 3
   },
   "file_extension": ".py",
   "mimetype": "text/x-python",
   "name": "python",
   "nbconvert_exporter": "python",
   "pygments_lexer": "ipython3",
   "version": "3.9.12"
  }
 },
 "nbformat": 4,
 "nbformat_minor": 4
}
