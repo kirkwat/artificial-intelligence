{
 "cells": [
  {
   "cell_type": "markdown",
   "metadata": {},
   "source": [
    "# Adversarial Search: Playing Connect 4\n",
    "\n",
    "\n",
    "## Instructions\n",
    "\n",
    "Total Points: Undegraduates 100, graduate students 110\n",
    "\n",
    "Complete this notebook and submit it. The notebook needs to be a complete project report with your implementation, documentation including a short discussion of how your implementation works and your design choices, and experimental results (e.g., tables and charts with simulation results) with a short discussion of what they mean. Use the provided notebook cells and insert additional code and markdown cells as needed.\n",
    "\n",
    "## Introduction\n",
    "\n",
    "You will implement different versions of agents that play Connect 4:\n",
    "\n",
    "> \"Connect 4 is a two-player connection board game, in which the players choose a color and then take turns dropping colored discs into a seven-column, six-row vertically suspended grid. The pieces fall straight down, occupying the lowest available space within the column. The objective of the game is to be the first to form a horizontal, vertical, or diagonal line of four of one's own discs.\" (see [Connect Four on Wikipedia](https://en.wikipedia.org/wiki/Connect_Four))\n",
    "\n",
    "Note that [Connect-4 has been solved](https://en.wikipedia.org/wiki/Connect_Four#Mathematical_solution)\n",
    "in 1988. A connect-4 solver with a discussion of how to solve different parts of the problem can be found here: https://connect4.gamesolver.org/en/"
   ]
  },
  {
   "cell_type": "markdown",
   "metadata": {},
   "source": [
    "## Task 1: Defining the Search Problem [10 point]\n",
    "\n",
    "Define the components of the search problem:\n",
    "\n",
    "* Initial state\n",
    "* Actions\n",
    "* Transition model (result function)\n",
    "* Goal state (terminal state and utility)"
   ]
  },
  {
   "cell_type": "markdown",
   "metadata": {},
   "source": [
    "* __Initial state:__ Empty $6 \\times 7$ board\n",
    "* __Actions:__ Not full columns\n",
    "* __Transition model (result function):__ Drop a disc into a not full column which is placed into lowest possible row.\n",
    "* __Goal state (terminal state and utility):__ \n",
    "    * Did a player win or is the game a draw? \n",
    "    * +1 if Red wins, -1 if Yellow wins and 0 for a draw."
   ]
  },
  {
   "cell_type": "markdown",
   "metadata": {},
   "source": [
    "How big is the state space? Give an estimate and explain it.\n",
    "\n",
    "Each of the $6 \\times 7=42$ squares can have 3 values (empty, Red and Yellow), but some boards are impossible (due to gravity and rules of game).The number of states in the state space graph is less than $ 3^{42}$. [According to this MIT Connect 4 presentation](https://web.mit.edu/sp.268/www/2010/connectFourSlides.pdf), the upper bound is reduced to $7.1 \\times 10^{13}$ possible states after considering that every square above an empty square is also empty. The presentation also mentions that the lower bound is estimated to be $1.6 \\times 10^{13}$ possible states after considering impossible states due to the game rules."
   ]
  },
  {
   "cell_type": "code",
   "execution_count": 1,
   "metadata": {},
   "outputs": [
    {
     "data": {
      "text/plain": [
       "109418989131512359209"
      ]
     },
     "execution_count": 1,
     "metadata": {},
     "output_type": "execute_result"
    }
   ],
   "source": [
    "3**42"
   ]
  },
  {
   "cell_type": "markdown",
   "metadata": {},
   "source": [
    "How big is the game tree that minimax search will go through? Give an estimate and explain it.\n",
    "\n",
    "[According to a research paper titled \"Searching for Solutions in Games and Artificial Intelligence\"](https://project.dke.maastrichtuniversity.nl/games/files/phd/SearchingForSolutions.pdf), Connect 4 has an estimated game length of 36 ply, and an average branching factor of 4, so the game-tree complexity of connect-four is\n",
    "approximately $4^{36}\\approx 10^{21}$\n",
    "\n",
    "* Max depth of tree = $m = 42$ (maximal depth of 42 moves)\n",
    "* Max branching factor $b = 7$ (7 different columns to make a move)\n",
    "\n",
    "\n",
    "* Space complexity of $O(bm)$ (current path plus frontier)\n",
    "* Time complexity of  $O(b^m)$ (number of expanded nodes)\n",
    "\n",
    "This doesn't account for the branching factor decreases when a column becomes full."
   ]
  },
  {
   "cell_type": "code",
   "execution_count": 2,
   "metadata": {},
   "outputs": [
    {
     "data": {
      "text/plain": [
       "294"
      ]
     },
     "execution_count": 2,
     "metadata": {},
     "output_type": "execute_result"
    }
   ],
   "source": [
    "# Space Complexity O(bm):\n",
    "7*42"
   ]
  },
  {
   "cell_type": "code",
   "execution_count": 3,
   "metadata": {},
   "outputs": [
    {
     "data": {
      "text/plain": [
       "311973482284542371301330321821976049"
      ]
     },
     "execution_count": 3,
     "metadata": {},
     "output_type": "execute_result"
    }
   ],
   "source": [
    "# Time Complexity O(b^m): \n",
    "7**42"
   ]
  },
  {
   "cell_type": "markdown",
   "metadata": {},
   "source": [
    "## Task 2: Game Environment and Random Agent [25 point]\n",
    "\n",
    "Use a numpy character array as the board."
   ]
  },
  {
   "cell_type": "code",
   "execution_count": 4,
   "metadata": {},
   "outputs": [],
   "source": [
    "import numpy as np\n",
    "\n",
    "def empty_board(shape=(6, 7)):\n",
    "    return np.full(shape=shape, fill_value=0)"
   ]
  },
  {
   "cell_type": "markdown",
   "metadata": {},
   "source": [
    "The standard board is $6 \\times 7$ but you can use smaller boards to test your code. Instead of colors (red and yellow), I use 1 and -1 to represent the players. Make sure that your agent functions all have the from: `agent_type(board, player = 1)`, where board is the current board position (in the format above) and player is the player whose next move it is and who the agent should play (as 1 and -1)."
   ]
  },
  {
   "cell_type": "code",
   "execution_count": 5,
   "metadata": {
    "tags": []
   },
   "outputs": [
    {
     "data": {
      "image/png": "[encoded data removed]",
      "text/plain": [
       "<Figure size 432x288 with 1 Axes>"
      ]
     },
     "metadata": {
      "needs_background": "light"
     },
     "output_type": "display_data"
    }
   ],
   "source": [
    "# Visualization code by Randolph Rankin\n",
    "\n",
    "import matplotlib.pyplot as plt\n",
    "\n",
    "def visualize(board):\n",
    "    plt.axes()\n",
    "    rectangle=plt.Rectangle((-0.5,len(board)*-1+0.5),len(board[0]),len(board),fc='blue')\n",
    "    circles=[]\n",
    "    for i,row in enumerate(board):\n",
    "        for j,val in enumerate(row):\n",
    "            color='white' if val==0 else 'red' if val==1 else 'yellow'\n",
    "            circles.append(plt.Circle((j,i*-1),0.4,fc=color))\n",
    "\n",
    "    plt.gca().add_patch(rectangle)\n",
    "    for circle in circles:\n",
    "        plt.gca().add_patch(circle)\n",
    "\n",
    "    plt.axis('scaled')\n",
    "    plt.show()\n",
    "    \n",
    "board = [[0, 0, 0, 0, 0, 0, 0],\n",
    "         [0, 0, 0, 0, 0, 0, 0],\n",
    "         [0, 0, 0, 0, 0, 0, 0],\n",
    "         [0, 0, 0, 1, 0, 0, 0],\n",
    "         [0, 0, 0, 1, 0, 0, 0],\n",
    "         [0,-1,-1, 1,-1, 0, 0]]\n",
    "visualize(board)"
   ]
  },
  {
   "cell_type": "markdown",
   "metadata": {
    "tags": []
   },
   "source": [
    "Implement helper functions for:\n",
    "\n",
    "* A check for available actions in each state `actions(s)`.\n",
    "* The transition model `result(s, a)`.\n",
    "* Check for terminal states `terminal(s)`.\n",
    "* The utility function `utility(s)`.\n",
    "\n",
    "Make sure that all these functions work with boards of different sizes (number of columns and rows)."
   ]
  },
  {
   "cell_type": "code",
   "execution_count": 6,
   "metadata": {},
   "outputs": [],
   "source": [
    "def actions(s):\n",
    "    #return not full collumns\n",
    "    return np.where(np.array(s[0])==0)[0].tolist()\n",
    "\n",
    "    # randomize the action order\n",
    "    # actions = np.where(np.array(s[0])==0)[0]\n",
    "    # np.random.shuffle(actions)\n",
    "    # return actions.tolist()\n",
    "    \n",
    "def result(s, p, a):\n",
    "    #check if column is full\n",
    "    if(s[0][a] != 0):\n",
    "        print(\"Error: Illegal move!\")\n",
    "    #copy board\n",
    "    board = np.copy(s)\n",
    "    #find lowest row\n",
    "    lowestRow=0\n",
    "    for lowestRow in range(len(board)):\n",
    "        #if player disc is found\n",
    "        if(board[lowestRow][a]!=0):\n",
    "            #place player disc one above current disc\n",
    "            board[lowestRow-1][a]=p\n",
    "            #return board   \n",
    "            return board\n",
    "    #place player disc on lowest row\n",
    "    board[lowestRow][a]=p\n",
    "    #return board   \n",
    "    return board\n",
    "\n",
    "def terminal(s):\n",
    "    #search board and check if it is full\n",
    "    for i in range(len(s)):\n",
    "        for j in range(len(s[0])):\n",
    "            if s[i][j] ==0: return False\n",
    "    return True\n",
    "\n",
    "def utility(s, player = 1):\n",
    "    #check if either player won\n",
    "    goal = check_win(s)\n",
    "    if goal == player: return +1 \n",
    "    if goal == other(player): return -1\n",
    "    #check if board is full\n",
    "    draw = terminal(s)\n",
    "    if draw: return 0\n",
    "    #if game is not over\n",
    "    return None"
   ]
  },
  {
   "cell_type": "markdown",
   "metadata": {},
   "source": [
    "Some helper functions"
   ]
  },
  {
   "cell_type": "code",
   "execution_count": 7,
   "metadata": {
    "scrolled": false
   },
   "outputs": [],
   "source": [
    "def check_win(s):\n",
    "    #copy board\n",
    "    board = np.copy(s)\n",
    "    #search board\n",
    "    for i in range(len(board)):\n",
    "        for j in range(len(board[0])):\n",
    "            #check vertical\n",
    "            if not i + 3 >= len(board) and board[i][j]  == board[i+1][j] == board[i+2][j] == board[i+3][j] !=0:\n",
    "                return board[i][j]\n",
    "            #check horizontal\n",
    "            if not j + 3 >= len(board[0]) and board[i][j]  == board[i][j+1] == board[i][j+2] == board[i][j+3] !=0:\n",
    "                return board[i][j]\n",
    "            #check diagonal\n",
    "            if not j + 3 >= len(board[0]) and not i + 3 >= len(board) and board[i][j] == board[i+1][j + 1] == board[i+2][j + 2] == board[i+3][j + 3] !=0:\n",
    "                return board[i][j]\n",
    "            #check reverse diagonal\n",
    "            if not j - 3 < 0 and not i + 3 >= len(board)and board[i][j] == board[i+1][j - 1] == board[i+2][j - 2] == board[i+3][j - 3] !=0:\n",
    "                return board[i][j]\n",
    "    #return 0 if no winner\n",
    "    return 0\n",
    "\n",
    "def other(player): \n",
    "    if player == 1: return -1\n",
    "    else: return 1"
   ]
  },
  {
   "cell_type": "markdown",
   "metadata": {},
   "source": [
    "Implement an agent that plays randomly. Make sure the agent function receives as the percept the board and returns a valid action. Use an agent function definition with the following signature (arguments):\n",
    "\n",
    "`def random_player(board, player = 1): ...`\n",
    "\n",
    "The argument `player` is used for agents that do not store what color they are playing. The value passed on by the environment should be 1 ot -1 for player red and yellow, respectively.  See [Experiments section for tic-tac-toe](https://nbviewer.org/github/mhahsler/CS7320-AI/blob/master/Games/tictactoe_and_or_tree_search.ipynb#Experiments) for an example."
   ]
  },
  {
   "cell_type": "code",
   "execution_count": 8,
   "metadata": {},
   "outputs": [
    {
     "data": {
      "image/png": "[encoded data removed]",
      "text/plain": [
       "<Figure size 432x288 with 1 Axes>"
      ]
     },
     "metadata": {
      "needs_background": "light"
     },
     "output_type": "display_data"
    },
    {
     "data": {
      "text/plain": [
       "2"
      ]
     },
     "metadata": {},
     "output_type": "display_data"
    },
    {
     "name": "stdout",
     "output_type": "stream",
     "text": [
      "CPU times: total: 0 ns\n",
      "Wall time: 1 ms\n"
     ]
    }
   ],
   "source": [
    "def random_player(board, player = 1):\n",
    "    return np.random.choice(actions(board))\n",
    "\n",
    "visualize(board)\n",
    "%time display(random_player(board))"
   ]
  },
  {
   "cell_type": "markdown",
   "metadata": {},
   "source": [
    "Let two random agents play against each other 1000 times. Look at the [Experiments section for tic-tac-toe](https://nbviewer.org/github/mhahsler/CS7320-AI/blob/master/Games/tictactoe_and_or_tree_search.ipynb#Experiments) to see how the environment uses the agent functions to play against each other.\n",
    "\n",
    "How often does each player win? Is the result expected?"
   ]
  },
  {
   "cell_type": "code",
   "execution_count": 9,
   "metadata": {
    "tags": []
   },
   "outputs": [],
   "source": [
    "def switch_player(player, red, yellow):\n",
    "    if player == 1:\n",
    "        return -1, yellow\n",
    "    else:\n",
    "        return 1, red\n",
    "\n",
    "def play(red, yellow, N = 1000):\n",
    "    results = {1: 0, -1: 0, 'd': 0}\n",
    "    for i in range(N):\n",
    "        board = empty_board()\n",
    "        player, fun = 1, red\n",
    "        while True:\n",
    "            #check if board is full\n",
    "            if terminal(board):\n",
    "                results['d']+=1\n",
    "                break\n",
    "            #get move  \n",
    "            a = fun(board, player)\n",
    "            board = result(board, player, a)\n",
    "            #check if player won\n",
    "            win = check_win(board)\n",
    "            if win != 0:\n",
    "                results[win] += 1\n",
    "                break\n",
    "\n",
    "            player, fun = switch_player(player, red, yellow)   \n",
    "    return results"
   ]
  },
  {
   "cell_type": "code",
   "execution_count": 10,
   "metadata": {
    "scrolled": false
   },
   "outputs": [
    {
     "data": {
      "text/plain": [
       "{1: 587, -1: 411, 'd': 2}"
      ]
     },
     "metadata": {},
     "output_type": "display_data"
    },
    {
     "name": "stdout",
     "output_type": "stream",
     "text": [
      "CPU times: total: 1.64 s\n",
      "Wall time: 1.63 s\n"
     ]
    }
   ],
   "source": [
    "%time display(play(random_player, random_player))"
   ]
  },
  {
   "cell_type": "markdown",
   "metadata": {},
   "source": [
    "Red and yellow both win about 50% of the time. However, red usually has more wins, and that could be due to red getting the first turn at the start of each game."
   ]
  },
  {
   "cell_type": "markdown",
   "metadata": {},
   "source": [
    "## Task 3: Minimax Search with Alpha-Beta Pruning\n",
    "\n",
    "### Implement the Search [20 points] \n",
    "\n",
    "Implement minimax search starting from a given board for specifying the player.\n",
    "You can use code from the [tic-tac-toe example](https://nbviewer.org/github/mhahsler/CS7320-AI/blob/master/Games/tictactoe_alpha_beta_tree_search.ipynb).\n",
    "\n",
    "__Important Notes:__ \n",
    "* Make sure that all your agent functions have a signature consistent with the random agent above and that it [uses a class to store state information.](https://nbviewer.org/github/mhahsler/CS7320-AI/blob/master/Python_Code_Examples/store_agent_state_information.ipynb)\n",
    "This is essential to be able play against agents from other students later.\n",
    "\n",
    "* The search space for a $6 \\times 7$ board is large. You can experiment with smaller boards (the smallest is $4 \\times 4$) and/or changing the winning rule to connect 3 instead of 4."
   ]
  },
  {
   "cell_type": "code",
   "execution_count": 11,
   "metadata": {},
   "outputs": [],
   "source": [
    "import math\n",
    "\n",
    "class Alpha_beta_search:\n",
    "    def __init__(self, player, debug=2):\n",
    "        self.player= player\n",
    "        self.count = 0\n",
    "        self.debug= debug # 1 ... count nodes, 2 ... debug each node\n",
    "\n",
    "    def find_move(self, board):\n",
    "        \"\"\"start the search.\"\"\"\n",
    "        self.count = 0\n",
    "        \n",
    "        current_pieces=0\n",
    "        #make a random move if not enough pieces are on the board\n",
    "        for i in range(len(board)):\n",
    "            for j in range(len(board[0])):\n",
    "                if board[i][j]!=0:current_pieces+=1\n",
    "        #return random move if there's not enough pieces on board\n",
    "        if current_pieces < 5: return { \"move\": np.random.choice(actions(board)), \"value\": 0 }\n",
    "\n",
    "        value, move = self.max_value_ab(board, -math.inf, +math.inf)\n",
    "\n",
    "        if self.debug >= 1: print(f\"Number of nodes searched: {self.count}\") \n",
    "\n",
    "        return { \"move\": move, \"value\": value }\n",
    "\n",
    "    def max_value_ab(self, state, alpha, beta):\n",
    "        \"\"\"player's best move.\"\"\"\n",
    "        self.count += 1\n",
    "\n",
    "        # return utility of state is a terminal state\n",
    "        v = utility(state, self.player)\n",
    "        if self.debug >= 2: print(f\"max: {state} [alpha,beta]=[{alpha},{beta}] v={v}\")\n",
    "        if v is not None: \n",
    "            if self.debug >= 2: print(f\"     found terminal state. backtracking.\")\n",
    "            return v, None\n",
    "\n",
    "        v, move = -math.inf, None\n",
    "\n",
    "        # check all possible actions in the state, update alpha and return move with the largest value\n",
    "        for a in actions(state):\n",
    "            v2, a2 = self.min_value_ab(result(state, self.player, a), alpha, beta)\n",
    "            if self.debug >= 2: print(f\"max: {state} (backtracked) [alpha,beta]=[{alpha},{beta}] v={v2}\")\n",
    "\n",
    "            if v2 > v:\n",
    "                v, move = v2, a\n",
    "                alpha = max(alpha, v)\n",
    "            if v >= beta:\n",
    "                if self.debug >= 2: print(f\"     v>=beta ({v}>={beta}): pruning remaining subtree (actions). backtracking.\")\n",
    "                return v, move\n",
    "\n",
    "        return v, move\n",
    "\n",
    "    def min_value_ab(self, state, alpha, beta):\n",
    "        \"\"\"opponent's best response.\"\"\"\n",
    "        self.count += 1\n",
    "\n",
    "        # return utility of state is a terminal state\n",
    "        v = utility(state, self.player)\n",
    "        if self.debug >= 2: print(f\"min: {state} [alpha,beta]=[{alpha},{beta}] v={v}\")\n",
    "        if v is not None: \n",
    "            if self.debug >= 2: print(f\"     found terminal state. backtacking.\")\n",
    "            return v, None\n",
    "\n",
    "        v, move = +math.inf, None\n",
    "\n",
    "        # check all possible actions in the state, update beta and return move with the smallest value\n",
    "        for a in actions(state):\n",
    "            v2, a2 = self.max_value_ab(result(state, other(self.player), a), alpha, beta)\n",
    "            if self.debug >= 2: print(f\"min: {state} (backtracked) [alpha,beta]=[{alpha},{beta}] v={v2}\")\n",
    "\n",
    "            if v2 < v:\n",
    "                v, move = v2, a\n",
    "                beta = min(beta, v)\n",
    "            if v <= alpha: \n",
    "                if self.debug >= 2: print(f\"     v<=alpha ({v}<={alpha}): pruning remaining subtree (actions). backtracking.\")\n",
    "                return v, move\n",
    "\n",
    "        return v, move"
   ]
  },
  {
   "cell_type": "markdown",
   "metadata": {},
   "source": [
    "How long does it take to make a move? Start with a smaller board with 4 columns and make the board larger by adding columns.\n",
    "\n",
    "A long time. The check_win function is updated below to check for 3 pieces in a row for a win so that we can use smaller boards."
   ]
  },
  {
   "cell_type": "code",
   "execution_count": 12,
   "metadata": {},
   "outputs": [],
   "source": [
    "def check_win(s):\n",
    "    #copy board\n",
    "    board = np.copy(s)\n",
    "    #search board\n",
    "    for i in range(len(board)):\n",
    "        for j in range(len(board[0])):\n",
    "            #check vertical\n",
    "            if not i + 2 >= len(board) and board[i][j]  == board[i+1][j] == board[i+2][j] !=0:\n",
    "                return board[i][j]\n",
    "            #check horizontal\n",
    "            if not j + 2 >= len(board[0]) and board[i][j]  == board[i][j+1] == board[i][j+2] !=0:\n",
    "                return board[i][j]\n",
    "            #check diagonal\n",
    "            if not j + 2 >= len(board[0]) and not i + 2 >= len(board) and board[i][j] == board[i+1][j + 1] == board[i+2][j + 2] !=0:\n",
    "                return board[i][j]\n",
    "            #check reverse diagonal\n",
    "            if not j - 2 < 0 and not i + 2 >= len(board)and board[i][j] == board[i+1][j - 1] == board[i+2][j - 2] !=0:\n",
    "                return board[i][j]\n",
    "    #return 0 if no winner\n",
    "    return 0"
   ]
  },
  {
   "cell_type": "markdown",
   "metadata": {},
   "source": [
    "Experiment with some manually created boards (at least 5) to check if the agent spots winning opportunities.\n",
    "\n",
    "### Situation 1: Red is about to win."
   ]
  },
  {
   "cell_type": "code",
   "execution_count": 13,
   "metadata": {
    "scrolled": true
   },
   "outputs": [
    {
     "data": {
      "image/png": "[encoded data removed]",
      "text/plain": [
       "<Figure size 432x288 with 1 Axes>"
      ]
     },
     "metadata": {
      "needs_background": "light"
     },
     "output_type": "display_data"
    }
   ],
   "source": [
    "board = [[ 0, 0, 0, 0, 0],\n",
    "         [ 0, 0, 0, 0, 0],\n",
    "         [ 0, 0, 0, 1, 0],\n",
    "         [ 1,-1,-1, 1,-1]]\n",
    "\n",
    "visualize(board)"
   ]
  },
  {
   "cell_type": "markdown",
   "metadata": {},
   "source": [
    "##### Red Move:"
   ]
  },
  {
   "cell_type": "code",
   "execution_count": 14,
   "metadata": {},
   "outputs": [
    {
     "name": "stdout",
     "output_type": "stream",
     "text": [
      "Number of nodes searched: 391\n"
     ]
    },
    {
     "data": {
      "text/plain": [
       "{'move': 0, 'value': 1}"
      ]
     },
     "metadata": {},
     "output_type": "display_data"
    },
    {
     "name": "stdout",
     "output_type": "stream",
     "text": [
      "CPU times: total: 15.6 ms\n",
      "Wall time: 13 ms\n"
     ]
    }
   ],
   "source": [
    "red_move=Alpha_beta_search(player=1, debug=1)\n",
    "%time display(red_move.find_move(board))"
   ]
  },
  {
   "cell_type": "markdown",
   "metadata": {},
   "source": [
    "##### Yellow Move:"
   ]
  },
  {
   "cell_type": "code",
   "execution_count": 15,
   "metadata": {},
   "outputs": [
    {
     "name": "stdout",
     "output_type": "stream",
     "text": [
      "Number of nodes searched: 1358\n"
     ]
    },
    {
     "data": {
      "text/plain": [
       "{'move': 0, 'value': -1}"
      ]
     },
     "metadata": {},
     "output_type": "display_data"
    },
    {
     "name": "stdout",
     "output_type": "stream",
     "text": [
      "CPU times: total: 31.2 ms\n",
      "Wall time: 38.5 ms\n"
     ]
    }
   ],
   "source": [
    "yellow_move=Alpha_beta_search(player=-1, debug=1)\n",
    "%time display(yellow_move.find_move(board))"
   ]
  },
  {
   "cell_type": "markdown",
   "metadata": {},
   "source": [
    "Red does not pick the the shortest path to a win while yellow does not attempt to stop red from winning (most likely not on the shortest path as well).\n",
    "\n",
    "### Situation 2: Yellow will win no matter what red does"
   ]
  },
  {
   "cell_type": "code",
   "execution_count": 16,
   "metadata": {
    "scrolled": true
   },
   "outputs": [
    {
     "data": {
      "image/png": "[encoded data removed]",
      "text/plain": [
       "<Figure size 432x288 with 1 Axes>"
      ]
     },
     "metadata": {
      "needs_background": "light"
     },
     "output_type": "display_data"
    }
   ],
   "source": [
    "board = [[0, 0, 0, 0, 0],\n",
    "         [0, 0, 0, 0, 0],\n",
    "         [0, 0,-1,-1, 1],\n",
    "         [1,-1, 1, 1,-1]]\n",
    "\n",
    "visualize(board)"
   ]
  },
  {
   "cell_type": "markdown",
   "metadata": {},
   "source": [
    "##### Red Move:"
   ]
  },
  {
   "cell_type": "code",
   "execution_count": 17,
   "metadata": {},
   "outputs": [
    {
     "name": "stdout",
     "output_type": "stream",
     "text": [
      "Number of nodes searched: 335\n"
     ]
    },
    {
     "data": {
      "text/plain": [
       "{'move': 0, 'value': -1}"
      ]
     },
     "metadata": {},
     "output_type": "display_data"
    },
    {
     "name": "stdout",
     "output_type": "stream",
     "text": [
      "CPU times: total: 15.6 ms\n",
      "Wall time: 11 ms\n"
     ]
    }
   ],
   "source": [
    "red_move=Alpha_beta_search(player=1, debug=1)\n",
    "%time display(red_move.find_move(board))"
   ]
  },
  {
   "cell_type": "markdown",
   "metadata": {},
   "source": [
    "##### Yellow Move:"
   ]
  },
  {
   "cell_type": "code",
   "execution_count": 18,
   "metadata": {
    "scrolled": false
   },
   "outputs": [
    {
     "name": "stdout",
     "output_type": "stream",
     "text": [
      "Number of nodes searched: 111\n"
     ]
    },
    {
     "data": {
      "text/plain": [
       "{'move': 0, 'value': 1}"
      ]
     },
     "metadata": {},
     "output_type": "display_data"
    },
    {
     "name": "stdout",
     "output_type": "stream",
     "text": [
      "CPU times: total: 0 ns\n",
      "Wall time: 4 ms\n"
     ]
    }
   ],
   "source": [
    "yellow_move=Alpha_beta_search(player=-1, debug=1)\n",
    "%time display(yellow_move.find_move(board))"
   ]
  },
  {
   "cell_type": "markdown",
   "metadata": {},
   "source": [
    "Yellow does not pick the the shortest path to a win while red does not attempt to stop red from winning (most likely not on the shortest path as well).\n",
    "\n",
    "### Situation 3: Empty Board"
   ]
  },
  {
   "cell_type": "code",
   "execution_count": 19,
   "metadata": {
    "scrolled": true
   },
   "outputs": [
    {
     "data": {
      "image/png": "[encoded data removed]",
      "text/plain": [
       "<Figure size 432x288 with 1 Axes>"
      ]
     },
     "metadata": {
      "needs_background": "light"
     },
     "output_type": "display_data"
    }
   ],
   "source": [
    "board = [[0, 0, 0, 0, 0],\n",
    "         [0, 0, 0, 0, 0],\n",
    "         [0, 0, 0, 0, 0],\n",
    "         [0, 0, 0, 0, 0]]\n",
    "\n",
    "visualize(board)"
   ]
  },
  {
   "cell_type": "markdown",
   "metadata": {},
   "source": [
    "##### Red Move:"
   ]
  },
  {
   "cell_type": "code",
   "execution_count": 20,
   "metadata": {},
   "outputs": [
    {
     "data": {
      "text/plain": [
       "{'move': 2, 'value': 0}"
      ]
     },
     "metadata": {},
     "output_type": "display_data"
    },
    {
     "name": "stdout",
     "output_type": "stream",
     "text": [
      "CPU times: total: 0 ns\n",
      "Wall time: 1 ms\n"
     ]
    }
   ],
   "source": [
    "red_move=Alpha_beta_search(player=1, debug=1)\n",
    "%time display(red_move.find_move(board))"
   ]
  },
  {
   "cell_type": "markdown",
   "metadata": {},
   "source": [
    "##### Yellow Move:"
   ]
  },
  {
   "cell_type": "code",
   "execution_count": 21,
   "metadata": {
    "scrolled": false
   },
   "outputs": [
    {
     "data": {
      "text/plain": [
       "{'move': 1, 'value': 0}"
      ]
     },
     "metadata": {},
     "output_type": "display_data"
    },
    {
     "name": "stdout",
     "output_type": "stream",
     "text": [
      "CPU times: total: 0 ns\n",
      "Wall time: 1 ms\n"
     ]
    }
   ],
   "source": [
    "yellow_move=Alpha_beta_search(player=-1, debug=1)\n",
    "%time display(yellow_move.find_move(board))"
   ]
  },
  {
   "cell_type": "markdown",
   "metadata": {},
   "source": [
    "Both players pick a random column because there are not enough pieces on the board.\n",
    "\n",
    "### Situation 4: Yellow is about to win."
   ]
  },
  {
   "cell_type": "code",
   "execution_count": 22,
   "metadata": {},
   "outputs": [
    {
     "data": {
      "image/png": "[encoded data removed]",
      "text/plain": [
       "<Figure size 432x288 with 1 Axes>"
      ]
     },
     "metadata": {
      "needs_background": "light"
     },
     "output_type": "display_data"
    }
   ],
   "source": [
    "board = [[ 0, 0, 0, 0, 0],\n",
    "         [ 0, 0, 0, 0, 0],\n",
    "         [ 1, 1, 0, 1, 0],\n",
    "         [-1,-1, 0,-1, 0]]\n",
    "\n",
    "visualize(board)"
   ]
  },
  {
   "cell_type": "markdown",
   "metadata": {},
   "source": [
    "##### Red Move:"
   ]
  },
  {
   "cell_type": "code",
   "execution_count": 23,
   "metadata": {},
   "outputs": [
    {
     "name": "stdout",
     "output_type": "stream",
     "text": [
      "Number of nodes searched: 780\n"
     ]
    },
    {
     "data": {
      "text/plain": [
       "{'move': 2, 'value': 1}"
      ]
     },
     "metadata": {},
     "output_type": "display_data"
    },
    {
     "name": "stdout",
     "output_type": "stream",
     "text": [
      "CPU times: total: 31.2 ms\n",
      "Wall time: 25 ms\n"
     ]
    }
   ],
   "source": [
    "red_move=Alpha_beta_search(player=1, debug=1)\n",
    "%time display(red_move.find_move(board))"
   ]
  },
  {
   "cell_type": "markdown",
   "metadata": {},
   "source": [
    "##### Yellow Move:"
   ]
  },
  {
   "cell_type": "code",
   "execution_count": 24,
   "metadata": {
    "scrolled": false
   },
   "outputs": [
    {
     "name": "stdout",
     "output_type": "stream",
     "text": [
      "Number of nodes searched: 704\n"
     ]
    },
    {
     "data": {
      "text/plain": [
       "{'move': 0, 'value': 1}"
      ]
     },
     "metadata": {},
     "output_type": "display_data"
    },
    {
     "name": "stdout",
     "output_type": "stream",
     "text": [
      "CPU times: total: 46.9 ms\n",
      "Wall time: 20 ms\n"
     ]
    }
   ],
   "source": [
    "yellow_move=Alpha_beta_search(player=-1, debug=1)\n",
    "%time display(yellow_move.find_move(board))"
   ]
  },
  {
   "cell_type": "markdown",
   "metadata": {},
   "source": [
    "Red goes for column 2 to stop yellow from winning while yellow goes for the win.\n",
    "\n",
    "### Situation 5: Red will win no matter what yellow does"
   ]
  },
  {
   "cell_type": "code",
   "execution_count": 25,
   "metadata": {
    "scrolled": true
   },
   "outputs": [
    {
     "data": {
      "image/png": "[encoded data removed]",
      "text/plain": [
       "<Figure size 432x288 with 1 Axes>"
      ]
     },
     "metadata": {
      "needs_background": "light"
     },
     "output_type": "display_data"
    }
   ],
   "source": [
    "board = [[ 0, 0, 0, 0, 0],\n",
    "         [ 0, 0, 0, 1,-1],\n",
    "         [-1, 1, 0, 1, 1],\n",
    "         [ 1,-1, 1,-1, 1]]\n",
    "\n",
    "visualize(board)"
   ]
  },
  {
   "cell_type": "markdown",
   "metadata": {},
   "source": [
    "##### Red Move:"
   ]
  },
  {
   "cell_type": "code",
   "execution_count": 26,
   "metadata": {},
   "outputs": [
    {
     "name": "stdout",
     "output_type": "stream",
     "text": [
      "Number of nodes searched: 31\n"
     ]
    },
    {
     "data": {
      "text/plain": [
       "{'move': 0, 'value': 1}"
      ]
     },
     "metadata": {},
     "output_type": "display_data"
    },
    {
     "name": "stdout",
     "output_type": "stream",
     "text": [
      "CPU times: total: 0 ns\n",
      "Wall time: 2 ms\n"
     ]
    }
   ],
   "source": [
    "red_move=Alpha_beta_search(player=1, debug=1)\n",
    "%time display(red_move.find_move(board))"
   ]
  },
  {
   "cell_type": "markdown",
   "metadata": {},
   "source": [
    "##### Yellow Move:"
   ]
  },
  {
   "cell_type": "code",
   "execution_count": 27,
   "metadata": {
    "scrolled": true
   },
   "outputs": [
    {
     "name": "stdout",
     "output_type": "stream",
     "text": [
      "Number of nodes searched: 56\n"
     ]
    },
    {
     "data": {
      "text/plain": [
       "{'move': 0, 'value': -1}"
      ]
     },
     "metadata": {},
     "output_type": "display_data"
    },
    {
     "name": "stdout",
     "output_type": "stream",
     "text": [
      "CPU times: total: 0 ns\n",
      "Wall time: 3 ms\n"
     ]
    }
   ],
   "source": [
    "yellow_move=Alpha_beta_search(player=-1, debug=1)\n",
    "%time display(yellow_move.find_move(board))"
   ]
  },
  {
   "cell_type": "markdown",
   "metadata": {},
   "source": [
    "Red goes for the win while yellow acknowledges its defeat."
   ]
  },
  {
   "cell_type": "markdown",
   "metadata": {},
   "source": [
    "### Move ordering [5 points]\n",
    "\n",
    "Starting the search with better moves will increase the efficiency of alpha-beta pruning. Describe and implement a simple move ordering strategy. Make a table that shows how the ordering strategies influence the time it takes to make a move?"
   ]
  },
  {
   "cell_type": "code",
   "execution_count": 28,
   "metadata": {},
   "outputs": [
    {
     "data": {
      "image/png": "[encoded data removed]",
      "text/plain": [
       "<Figure size 432x288 with 1 Axes>"
      ]
     },
     "metadata": {
      "needs_background": "light"
     },
     "output_type": "display_data"
    },
    {
     "data": {
      "text/plain": [
       "[2, 4, 0, 3, 1]"
      ]
     },
     "execution_count": 28,
     "metadata": {},
     "output_type": "execute_result"
    }
   ],
   "source": [
    "#strategy is to prioritize center columns then edges\n",
    "def actions(s):\n",
    "    #get not full collumns\n",
    "    actions = np.where(np.array(s[0])==0)[0].tolist()\n",
    "    #prioritize center columns then edges\n",
    "    priority = [1,0,2,0,1]\n",
    "    priority = [priority[i] for i in actions]\n",
    "    \n",
    "    actions =[a for _,a in sorted(zip(priority,actions), reverse=True)]\n",
    "\n",
    "    return actions\n",
    "\n",
    "board = [[0, 0, 0, 0, 0],\n",
    "         [0, 0, 0, 0, 0],\n",
    "         [0, 0, 0, 0, 0],\n",
    "         [0, 0, 0, 0, 0]]\n",
    "\n",
    "visualize(board)\n",
    "actions(board)"
   ]
  },
  {
   "cell_type": "markdown",
   "metadata": {},
   "source": [
    "### The first few moves [5 points]\n",
    "\n",
    "Start with an empty board. This is the worst case scenario for minimax search since it needs solve all possible games that can be played (minus some pruning) before making the decision. What can you do? "
   ]
  },
  {
   "cell_type": "code",
   "execution_count": 29,
   "metadata": {},
   "outputs": [],
   "source": [
    "#To handle this, the agent picks a random move if there are not many pieces on the board. \n",
    "#A random move will occur when there are less than 5 pieces on the board."
   ]
  },
  {
   "cell_type": "markdown",
   "metadata": {},
   "source": [
    "### Playtime [5 points]\n",
    "\n",
    "Let the Minimax Search agent play a random agent on a small board. Analyze wins, losses and draws."
   ]
  },
  {
   "cell_type": "code",
   "execution_count": 30,
   "metadata": {},
   "outputs": [
    {
     "name": "stdout",
     "output_type": "stream",
     "text": [
      "\talpha-beta vs. random:\n"
     ]
    },
    {
     "data": {
      "text/plain": [
       "{1: 908, -1: 92, 'd': 0}"
      ]
     },
     "metadata": {},
     "output_type": "display_data"
    },
    {
     "name": "stdout",
     "output_type": "stream",
     "text": [
      "CPU times: total: 37.1 s\n",
      "Wall time: 37.2 s\n",
      "\n",
      "\trandom vs. alpha-beta\n"
     ]
    },
    {
     "data": {
      "text/plain": [
       "{1: 266, -1: 734, 'd': 0}"
      ]
     },
     "metadata": {},
     "output_type": "display_data"
    },
    {
     "name": "stdout",
     "output_type": "stream",
     "text": [
      "CPU times: total: 2min 8s\n",
      "Wall time: 2min 8s\n"
     ]
    }
   ],
   "source": [
    "#change board size to 4x5, still 3 in row needed for a win\n",
    "def empty_board(shape=(4, 5)):\n",
    "    return np.full(shape=shape, fill_value=0)\n",
    "\n",
    "def alpha_beta_player(board, player = 1, debug=0):\n",
    "    ab_player=Alpha_beta_search(player=player, debug=debug)\n",
    "    return ab_player.find_move(board)[\"move\"]\n",
    "\n",
    "print(\"\\talpha-beta vs. random:\")\n",
    "%time display(play(alpha_beta_player, random_player))\n",
    "print(\"\\n\\trandom vs. alpha-beta\")\n",
    "%time display(play(random_player, alpha_beta_player))"
   ]
  },
  {
   "cell_type": "markdown",
   "metadata": {},
   "source": [
    "The Minimax Search agent defeats the random agent over 90% of the time when the Minimax Search agent is the starting player. When the random agent is the starting player, it has an increased chance at defeating the Minimax Search agent as shown with winning 25% of games where it was the starting player."
   ]
  },
  {
   "cell_type": "code",
   "execution_count": 31,
   "metadata": {},
   "outputs": [
    {
     "name": "stdout",
     "output_type": "stream",
     "text": [
      "\talpha-beta vs. alpha-beta\n"
     ]
    },
    {
     "data": {
      "text/plain": [
       "{1: 49, -1: 51, 'd': 0}"
      ]
     },
     "metadata": {},
     "output_type": "display_data"
    },
    {
     "name": "stdout",
     "output_type": "stream",
     "text": [
      "CPU times: total: 17 s\n",
      "Wall time: 16.9 s\n"
     ]
    }
   ],
   "source": [
    "print(\"\\talpha-beta vs. alpha-beta\")\n",
    "%time display(play(alpha_beta_player, alpha_beta_player,N=100))"
   ]
  },
  {
   "cell_type": "markdown",
   "metadata": {},
   "source": [
    "When the Minimax Search agent plays itself as an opponent, player 1 and 2 will nearly win an even number of matches. Introducing random moves at the beginning of the game allows for the possibility of an agent gaining an advantage."
   ]
  },
  {
   "cell_type": "markdown",
   "metadata": {},
   "source": [
    "## Task 4: Heuristic Alpha-Beta Tree Search\n",
    "\n",
    "### Heuristic evaluation function [15 points]\n",
    "\n",
    "Define and implement a heuristic evaluation function."
   ]
  },
  {
   "cell_type": "code",
   "execution_count": 32,
   "metadata": {},
   "outputs": [],
   "source": [
    "def eval_fun1(state, player):\n",
    "    \"\"\"heuristic for utility of state. Returns score for a node:\n",
    "    1. For terminal states it returns the utility. \n",
    "    2. For non-terminal states, it calculates a weighted linear function using features of the state. \n",
    "    The features we look at are 3 in a row/col/diagonal where the 4th square is empty. We assume that\n",
    "    the more of these positions we have, the higher the chance of winning.\n",
    "    We need to be careful that the utility of the heuristic stays between [-1,1]. \n",
    "    To ensure this, the weight is counted by 0.1, guaranteeing that is in the needed range.\n",
    "    \n",
    "    Function Returns: heuistic value, terminal?\"\"\"\n",
    "    \n",
    "    # terminal state?\n",
    "    u = utility(state, player)\n",
    "    if u is not None: return u, True\n",
    "      \n",
    "    score = 0\n",
    "\n",
    "    #go through board\n",
    "    for i in range(len(board)):\n",
    "        for j in range(len(board[0])):\n",
    "            #check vertical\n",
    "            if not i + 3 >= len(board):\n",
    "                #put all 4 values in list\n",
    "                row = np.array([board[i][j], board[i+1][j], board[i+2][j], board[i+3][j]])\n",
    "                if sum(row == player) == 3 and any(row ==0): score += .1\n",
    "                if sum(row == other(player)) == 3 and any(row ==0): score -= .1\n",
    "            #check horizontal\n",
    "            if not j + 3 >= len(board[0]):\n",
    "                row = np.array([board[i][j], board[i][j+1], board[i][j+2], board[i][j+3]])\n",
    "                if sum(row == player) == 3 and any(row ==0): score += .1\n",
    "                if sum(row == other(player)) == 3 and any(row ==0): score -= .1\n",
    "            #check diagonal\n",
    "            if not j + 3 >= len(board[0]) and not i + 3 >= len(board):\n",
    "                row = np.array([board[i][j], board[i+1][j + 1], board[i+2][j + 2], board[i+3][j + 3]])\n",
    "                if sum(row == player) == 3 and any(row ==0): score += .1\n",
    "                if sum(row == other(player)) == 3 and any(row ==0): score -= .1\n",
    "            #check reverse diagonal\n",
    "            if not j - 3 < 0 and not i + 3 >= len(board):\n",
    "                row = np.array([board[i][j], board[i+1][j - 1], board[i+2][j - 2], board[i+3][j - 3]])\n",
    "                if sum(row == player) == 3 and any(row ==0): score += .1\n",
    "                if sum(row == other(player)) == 3 and any(row ==0): score -= .1\n",
    "    \n",
    "    return score, False\n",
    "\n",
    "def eval_fun2(state, player):\n",
    "    \"\"\"heuristic for utility of state. Returns score for a node:\n",
    "    1. For terminal states it returns the utility. \n",
    "    2. For non-terminal states, it calculates a weighted linear function using features of the state. \n",
    "    The features we look at are 2 in a row/col/diagonal where the 3rd and 4th square is empty. We assume that\n",
    "    the more of these positions we have, the higher the chance of winning.\n",
    "    We need to be careful that the utility of the heuristic stays between [-1,1]. \n",
    "    To ensure this, the weight is counted by 0.1, guaranteeing that is in the needed range.\n",
    "    \n",
    "    Function Returns: heuistic value, terminal?\"\"\"\n",
    "    \n",
    "    # terminal state?\n",
    "    u = utility(state, player)\n",
    "    if u is not None: return u, True\n",
    "      \n",
    "    score = 0\n",
    "\n",
    "    #go through board\n",
    "    for i in range(len(board)):\n",
    "        for j in range(len(board[0])):\n",
    "            #check vertical\n",
    "            if not i + 3 >= len(board):\n",
    "                #put all 4 values in list\n",
    "                row = np.array([board[i][j], board[i+1][j], board[i+2][j]])\n",
    "                if sum(row == player) == 2 and sum(row == 0) == 2: score += .1\n",
    "                if sum(row == other(player)) == 2 and sum(row == 0) == 2: score -= .1\n",
    "            #check horizontal\n",
    "            if not j + 3 >= len(board[0]):\n",
    "                row = np.array([board[i][j], board[i][j+1], board[i][j+2]])\n",
    "                if sum(row == player) == 2 and sum(row == 0) == 2: score += .1\n",
    "                if sum(row == other(player)) == 2 and sum(row == 0) == 2: score -= .1\n",
    "            #check diagonal\n",
    "            if not j + 3 >= len(board[0]) and not i + 3 >= len(board):\n",
    "                row = np.array([board[i][j], board[i+1][j + 1], board[i+2][j + 2]])\n",
    "                if sum(row == player) == 2 and sum(row == 0) == 2: score += .1\n",
    "                if sum(row == other(player)) == 2 and sum(row == 0) == 2: score -= .1\n",
    "            #check reverse diagonal\n",
    "            if not j - 3 < 0 and not i + 3 >= len(board):\n",
    "                row = np.array([board[i][j], board[i+1][j - 1], board[i+2][j - 2]])\n",
    "                if sum(row == player) == 2 and sum(row == 0) == 2: score += .1\n",
    "                if sum(row == other(player)) == 2 and sum(row == 0) == 2: score -= .1\n",
    "    \n",
    "    return score, False"
   ]
  },
  {
   "cell_type": "markdown",
   "metadata": {},
   "source": [
    "### Cutting off search [10 points]\n",
    "\n",
    "Modify your Minimax Search with Alpha-Beta Pruning to cut off search at a specified depth and use the heuristic evaluation function. Experiment with different cutoff values."
   ]
  },
  {
   "cell_type": "code",
   "execution_count": 33,
   "metadata": {},
   "outputs": [],
   "source": [
    "#redefine helper function that was changed above\n",
    "def actions(s):\n",
    "    #return not full collumns\n",
    "    return np.where(np.array(s[0])==0)[0].tolist()\n",
    "\n",
    "    # randomize the action order\n",
    "    # actions = np.where(np.array(s[0])==0)[0]\n",
    "    # np.random.shuffle(actions)\n",
    "    # return actions.tolist()"
   ]
  },
  {
   "cell_type": "code",
   "execution_count": 34,
   "metadata": {},
   "outputs": [],
   "source": [
    "class Heuristic_ab_search:\n",
    "    def __init__(self, player, heuristic, cutoff = None, debug=2):\n",
    "        self.player= player\n",
    "        self.heuristic = heuristic\n",
    "        self.cutoff = cutoff\n",
    "        self.count = 0\n",
    "        self.debug= debug # 1 ... count nodes, 2 ... debug each node\n",
    "    \n",
    "    def find_move(self, board):\n",
    "        \"\"\"start the search. cutoff = None is minimax search with alpha-beta pruning.\"\"\"\n",
    "        self.count = 0\n",
    "\n",
    "        value, move = self.max_value_ab(board, -math.inf, +math.inf, 0)\n",
    "\n",
    "        if self.debug >= 1: print(f\"Number of nodes searched (cutoff = {self.cutoff}): {self.count}\") \n",
    "\n",
    "        return {\"move\": move, \"value\": value}\n",
    "\n",
    "    def max_value_ab(self, state, alpha, beta, depth):\n",
    "        \"\"\"player's best move.\"\"\"\n",
    "        self.count += 1\n",
    "\n",
    "        # cut off and terminal test\n",
    "        v, terminal = self.heuristic(state, self.player)\n",
    "        if((self.cutoff is not None and depth >= self.cutoff) or terminal): \n",
    "            if(terminal): \n",
    "                alpha, beta = v, v\n",
    "            if self.debug >= 2: print(f\"stopped at {depth}: {state} term: {terminal} eval: {v} [{alpha}, {beta}]\" ) \n",
    "            return v, None\n",
    "\n",
    "        v, move = -math.inf, None\n",
    "\n",
    "        # check all possible actions in the state, update alpha and return move with the largest value\n",
    "        for a in actions(state):\n",
    "            v2, a2 = self.min_value_ab(result(state, self.player, a), alpha, beta, depth + 1)\n",
    "            if v2 > v:\n",
    "                v, move = v2, a\n",
    "                alpha = max(alpha, v)\n",
    "            if v >= beta: return v, move\n",
    "\n",
    "        return v, move\n",
    "\n",
    "    def min_value_ab(self, state, alpha, beta, depth):\n",
    "        \"\"\"opponent's best response.\"\"\"\n",
    "        self.count += 1\n",
    "\n",
    "        # cut off and terminal test\n",
    "        v, terminal = self.heuristic(state, self.player)\n",
    "        if((self.cutoff is not None and depth >= self.cutoff) or terminal): \n",
    "            if(terminal): \n",
    "                alpha, beta = v, v\n",
    "            if self.debug >= 2: print(f\"stopped at {depth}: {state} term: {terminal} eval: {v} [{alpha}, {beta}]\" ) \n",
    "            return v, None\n",
    "\n",
    "        v, move = +math.inf, None\n",
    "\n",
    "        # check all possible actions in the state, update beta and return move with the smallest value\n",
    "        for a in actions(state):\n",
    "            v2, a2 = self.max_value_ab(result(state, other(self.player), a), alpha, beta, depth + 1)\n",
    "            if v2 < v:\n",
    "                v, move = v2, a\n",
    "                beta = min(beta, v)\n",
    "            if v <= alpha: return v, move\n",
    "\n",
    "        return v, move"
   ]
  },
  {
   "cell_type": "markdown",
   "metadata": {},
   "source": [
    "How long does it take to make a move? Start with a smaller board with 4 columns and make the board larger by adding columns.\n",
    "\n",
    "Not as long with cutoff. It's now safe to use the full board.\n",
    "\n",
    "Experiment with the same manually created boards as above to check if the agent spots wining opportunities."
   ]
  },
  {
   "cell_type": "markdown",
   "metadata": {},
   "source": [
    "### Situation 1: Red is about to win."
   ]
  },
  {
   "cell_type": "code",
   "execution_count": 35,
   "metadata": {
    "scrolled": true
   },
   "outputs": [
    {
     "data": {
      "image/png": "[encoded data removed]",
      "text/plain": [
       "<Figure size 432x288 with 1 Axes>"
      ]
     },
     "metadata": {
      "needs_background": "light"
     },
     "output_type": "display_data"
    }
   ],
   "source": [
    "board = [[ 0, 0, 0, 0, 0],\n",
    "         [ 0, 0, 0, 0, 0],\n",
    "         [ 0, 0, 0, 1, 0],\n",
    "         [ 1,-1,-1, 1,-1]]\n",
    "\n",
    "visualize(board)"
   ]
  },
  {
   "cell_type": "markdown",
   "metadata": {},
   "source": [
    "##### Red Move:"
   ]
  },
  {
   "cell_type": "code",
   "execution_count": 36,
   "metadata": {},
   "outputs": [
    {
     "name": "stdout",
     "output_type": "stream",
     "text": [
      "Number of nodes searched (cutoff = 2): 14\n"
     ]
    },
    {
     "data": {
      "text/plain": [
       "{'move': 3, 'value': 1}"
      ]
     },
     "metadata": {},
     "output_type": "display_data"
    },
    {
     "name": "stdout",
     "output_type": "stream",
     "text": [
      "CPU times: total: 15.6 ms\n",
      "Wall time: 6 ms\n"
     ]
    }
   ],
   "source": [
    "red_move=Heuristic_ab_search(player=1, heuristic=eval_fun1, cutoff=2, debug=1)\n",
    "%time display(red_move.find_move(board))"
   ]
  },
  {
   "cell_type": "markdown",
   "metadata": {},
   "source": [
    "##### Yellow Move:"
   ]
  },
  {
   "cell_type": "code",
   "execution_count": 37,
   "metadata": {},
   "outputs": [
    {
     "name": "stdout",
     "output_type": "stream",
     "text": [
      "Number of nodes searched (cutoff = 2): 25\n"
     ]
    },
    {
     "data": {
      "text/plain": [
       "{'move': 3, 'value': 0}"
      ]
     },
     "metadata": {},
     "output_type": "display_data"
    },
    {
     "name": "stdout",
     "output_type": "stream",
     "text": [
      "CPU times: total: 15.6 ms\n",
      "Wall time: 8.01 ms\n"
     ]
    }
   ],
   "source": [
    "yellow_move=Heuristic_ab_search(player=-1, heuristic=eval_fun1, cutoff=2, debug=1)\n",
    "%time display(yellow_move.find_move(board))"
   ]
  },
  {
   "cell_type": "markdown",
   "metadata": {},
   "source": [
    "Now that we have a cutoff for our agents, both colors pick the shortest path to winning or stopping a loss.\n",
    "\n",
    "### Situation 2: Yellow will win no matter what red does"
   ]
  },
  {
   "cell_type": "code",
   "execution_count": 38,
   "metadata": {
    "scrolled": true
   },
   "outputs": [
    {
     "data": {
      "image/png": "[encoded data removed]",
      "text/plain": [
       "<Figure size 432x288 with 1 Axes>"
      ]
     },
     "metadata": {
      "needs_background": "light"
     },
     "output_type": "display_data"
    }
   ],
   "source": [
    "board = [[0, 0, 0, 0, 0],\n",
    "         [0, 0, 0, 0, 0],\n",
    "         [0, 0,-1,-1, 1],\n",
    "         [1,-1, 1, 1,-1]]\n",
    "\n",
    "visualize(board)"
   ]
  },
  {
   "cell_type": "markdown",
   "metadata": {},
   "source": [
    "##### Red Move:"
   ]
  },
  {
   "cell_type": "code",
   "execution_count": 39,
   "metadata": {},
   "outputs": [
    {
     "name": "stdout",
     "output_type": "stream",
     "text": [
      "Number of nodes searched (cutoff = 2): 20\n"
     ]
    },
    {
     "data": {
      "text/plain": [
       "{'move': 0, 'value': -1}"
      ]
     },
     "metadata": {},
     "output_type": "display_data"
    },
    {
     "name": "stdout",
     "output_type": "stream",
     "text": [
      "CPU times: total: 0 ns\n",
      "Wall time: 7.01 ms\n"
     ]
    }
   ],
   "source": [
    "red_move=Heuristic_ab_search(player=1, heuristic=eval_fun1, cutoff=2, debug=1)\n",
    "%time display(red_move.find_move(board))"
   ]
  },
  {
   "cell_type": "markdown",
   "metadata": {},
   "source": [
    "##### Yellow Move:"
   ]
  },
  {
   "cell_type": "code",
   "execution_count": 40,
   "metadata": {
    "scrolled": false
   },
   "outputs": [
    {
     "name": "stdout",
     "output_type": "stream",
     "text": [
      "Number of nodes searched (cutoff = 2): 12\n"
     ]
    },
    {
     "data": {
      "text/plain": [
       "{'move': 1, 'value': 1}"
      ]
     },
     "metadata": {},
     "output_type": "display_data"
    },
    {
     "name": "stdout",
     "output_type": "stream",
     "text": [
      "CPU times: total: 0 ns\n",
      "Wall time: 4 ms\n"
     ]
    }
   ],
   "source": [
    "yellow_move=Heuristic_ab_search(player=-1, heuristic=eval_fun1, cutoff=2, debug=1)\n",
    "%time display(yellow_move.find_move(board))"
   ]
  },
  {
   "cell_type": "markdown",
   "metadata": {},
   "source": [
    "Yellow picks the shortest path to a win while red acknowledges defeat.\n",
    "\n",
    "### Situation 3: Empty Board"
   ]
  },
  {
   "cell_type": "code",
   "execution_count": 41,
   "metadata": {
    "scrolled": true
   },
   "outputs": [
    {
     "data": {
      "image/png": "[encoded data removed]",
      "text/plain": [
       "<Figure size 432x288 with 1 Axes>"
      ]
     },
     "metadata": {
      "needs_background": "light"
     },
     "output_type": "display_data"
    }
   ],
   "source": [
    "board = [[0, 0, 0, 0, 0],\n",
    "         [0, 0, 0, 0, 0],\n",
    "         [0, 0, 0, 0, 0],\n",
    "         [0, 0, 0, 0, 0]]\n",
    "\n",
    "visualize(board)"
   ]
  },
  {
   "cell_type": "markdown",
   "metadata": {},
   "source": [
    "##### Red Move:"
   ]
  },
  {
   "cell_type": "code",
   "execution_count": 42,
   "metadata": {},
   "outputs": [
    {
     "name": "stdout",
     "output_type": "stream",
     "text": [
      "Number of nodes searched (cutoff = 2): 15\n"
     ]
    },
    {
     "data": {
      "text/plain": [
       "{'move': 0, 'value': 0}"
      ]
     },
     "metadata": {},
     "output_type": "display_data"
    },
    {
     "name": "stdout",
     "output_type": "stream",
     "text": [
      "CPU times: total: 0 ns\n",
      "Wall time: 5.01 ms\n"
     ]
    }
   ],
   "source": [
    "red_move=Heuristic_ab_search(player=1, heuristic=eval_fun1, cutoff=2, debug=1)\n",
    "%time display(red_move.find_move(board))"
   ]
  },
  {
   "cell_type": "markdown",
   "metadata": {},
   "source": [
    "##### Yellow Move:"
   ]
  },
  {
   "cell_type": "code",
   "execution_count": 43,
   "metadata": {
    "scrolled": false
   },
   "outputs": [
    {
     "name": "stdout",
     "output_type": "stream",
     "text": [
      "Number of nodes searched (cutoff = 2): 15\n"
     ]
    },
    {
     "data": {
      "text/plain": [
       "{'move': 0, 'value': 0}"
      ]
     },
     "metadata": {},
     "output_type": "display_data"
    },
    {
     "name": "stdout",
     "output_type": "stream",
     "text": [
      "CPU times: total: 0 ns\n",
      "Wall time: 5 ms\n"
     ]
    }
   ],
   "source": [
    "yellow_move=Heuristic_ab_search(player=-1, heuristic=eval_fun1, cutoff=2, debug=1)\n",
    "%time display(yellow_move.find_move(board))"
   ]
  },
  {
   "cell_type": "markdown",
   "metadata": {},
   "source": [
    "Both players pick the first column because there are no random moves and no move ordering.\n",
    "\n",
    "### Situation 4: Yellow is about to win."
   ]
  },
  {
   "cell_type": "code",
   "execution_count": 44,
   "metadata": {},
   "outputs": [
    {
     "data": {
      "image/png": "[encoded data removed]",
      "text/plain": [
       "<Figure size 432x288 with 1 Axes>"
      ]
     },
     "metadata": {
      "needs_background": "light"
     },
     "output_type": "display_data"
    }
   ],
   "source": [
    "board = [[ 0, 0, 0, 0, 0],\n",
    "         [ 0, 0, 0, 0, 0],\n",
    "         [ 1, 1, 0, 1, 0],\n",
    "         [-1,-1, 0,-1, 0]]\n",
    "\n",
    "visualize(board)"
   ]
  },
  {
   "cell_type": "markdown",
   "metadata": {},
   "source": [
    "##### Red Move:"
   ]
  },
  {
   "cell_type": "code",
   "execution_count": 45,
   "metadata": {},
   "outputs": [
    {
     "name": "stdout",
     "output_type": "stream",
     "text": [
      "Number of nodes searched (cutoff = 2): 21\n"
     ]
    },
    {
     "data": {
      "text/plain": [
       "{'move': 2, 'value': 0.0}"
      ]
     },
     "metadata": {},
     "output_type": "display_data"
    },
    {
     "name": "stdout",
     "output_type": "stream",
     "text": [
      "CPU times: total: 0 ns\n",
      "Wall time: 7 ms\n"
     ]
    }
   ],
   "source": [
    "red_move=Heuristic_ab_search(player=1, heuristic=eval_fun1, cutoff=2, debug=1)\n",
    "%time display(red_move.find_move(board))"
   ]
  },
  {
   "cell_type": "markdown",
   "metadata": {},
   "source": [
    "##### Yellow Move:"
   ]
  },
  {
   "cell_type": "code",
   "execution_count": 46,
   "metadata": {
    "scrolled": false
   },
   "outputs": [
    {
     "name": "stdout",
     "output_type": "stream",
     "text": [
      "Number of nodes searched (cutoff = 2): 14\n"
     ]
    },
    {
     "data": {
      "text/plain": [
       "{'move': 2, 'value': 1}"
      ]
     },
     "metadata": {},
     "output_type": "display_data"
    },
    {
     "name": "stdout",
     "output_type": "stream",
     "text": [
      "CPU times: total: 0 ns\n",
      "Wall time: 5 ms\n"
     ]
    }
   ],
   "source": [
    "yellow_move=Heuristic_ab_search(player=-1, heuristic=eval_fun1, cutoff=2, debug=1)\n",
    "%time display(yellow_move.find_move(board))"
   ]
  },
  {
   "cell_type": "markdown",
   "metadata": {},
   "source": [
    "Red goes for column 2 to stop yellow from winning while yellow goes for the win.\n",
    "\n",
    "### Situation 5: Red will win no matter what yellow does"
   ]
  },
  {
   "cell_type": "code",
   "execution_count": 47,
   "metadata": {
    "scrolled": true
   },
   "outputs": [
    {
     "data": {
      "image/png": "[encoded data removed]",
      "text/plain": [
       "<Figure size 432x288 with 1 Axes>"
      ]
     },
     "metadata": {
      "needs_background": "light"
     },
     "output_type": "display_data"
    }
   ],
   "source": [
    "board = [[ 0, 0, 0, 0, 0],\n",
    "         [ 0, 0, 0, 1,-1],\n",
    "         [-1, 1, 0, 1, 1],\n",
    "         [ 1,-1, 1,-1, 1]]\n",
    "\n",
    "visualize(board)"
   ]
  },
  {
   "cell_type": "markdown",
   "metadata": {},
   "source": [
    "##### Red Move:"
   ]
  },
  {
   "cell_type": "code",
   "execution_count": 48,
   "metadata": {},
   "outputs": [
    {
     "name": "stdout",
     "output_type": "stream",
     "text": [
      "Number of nodes searched (cutoff = 2): 8\n"
     ]
    },
    {
     "data": {
      "text/plain": [
       "{'move': 0, 'value': 1}"
      ]
     },
     "metadata": {},
     "output_type": "display_data"
    },
    {
     "name": "stdout",
     "output_type": "stream",
     "text": [
      "CPU times: total: 0 ns\n",
      "Wall time: 2 ms\n"
     ]
    }
   ],
   "source": [
    "red_move=Heuristic_ab_search(player=1, heuristic=eval_fun1, cutoff=2, debug=1)\n",
    "%time display(red_move.find_move(board))"
   ]
  },
  {
   "cell_type": "markdown",
   "metadata": {},
   "source": [
    "##### Yellow Move:"
   ]
  },
  {
   "cell_type": "code",
   "execution_count": 49,
   "metadata": {
    "scrolled": true
   },
   "outputs": [
    {
     "name": "stdout",
     "output_type": "stream",
     "text": [
      "Number of nodes searched (cutoff = 2): 15\n"
     ]
    },
    {
     "data": {
      "text/plain": [
       "{'move': 0, 'value': -1}"
      ]
     },
     "metadata": {},
     "output_type": "display_data"
    },
    {
     "name": "stdout",
     "output_type": "stream",
     "text": [
      "CPU times: total: 0 ns\n",
      "Wall time: 3 ms\n"
     ]
    }
   ],
   "source": [
    "yellow_move=Heuristic_ab_search(player=-1, heuristic=eval_fun1, cutoff=2, debug=1)\n",
    "%time display(yellow_move.find_move(board))"
   ]
  },
  {
   "cell_type": "markdown",
   "metadata": {},
   "source": [
    "Red goes for the win while yellow acknowledges its defeat."
   ]
  },
  {
   "cell_type": "markdown",
   "metadata": {},
   "source": [
    "### Playtime [5 points]\n",
    "\n",
    "Let two heuristic search agents (different cutoff depth, different heuristic evaluation function) compete against each other on a reasonably sized board. Since there is no randomness, you only need to let them play once."
   ]
  },
  {
   "cell_type": "code",
   "execution_count": 50,
   "metadata": {},
   "outputs": [],
   "source": [
    "#redefine helper functions that were changed above so that we can play on a full board\n",
    "def empty_board(shape=(6, 7)):\n",
    "    return np.full(shape=shape, fill_value=0)\n",
    "\n",
    "def check_win(s):\n",
    "    #copy board\n",
    "    board = np.copy(s)\n",
    "    #search board\n",
    "    for i in range(len(board)):\n",
    "        for j in range(len(board[0])):\n",
    "            #check vertical\n",
    "            if not i + 3 >= len(board) and board[i][j]  == board[i+1][j] == board[i+2][j] == board[i+3][j] !=0:\n",
    "                return board[i][j]\n",
    "            #check horizontal\n",
    "            if not j + 3 >= len(board[0]) and board[i][j]  == board[i][j+1] == board[i][j+2] == board[i][j+3] !=0:\n",
    "                return board[i][j]\n",
    "            #check diagonal\n",
    "            if not j + 3 >= len(board[0]) and not i + 3 >= len(board) and board[i][j] == board[i+1][j + 1] == board[i+2][j + 2] == board[i+3][j + 3] !=0:\n",
    "                return board[i][j]\n",
    "            #check reverse diagonal\n",
    "            if not j - 3 < 0 and not i + 3 >= len(board)and board[i][j] == board[i+1][j - 1] == board[i+2][j - 2] == board[i+3][j - 3] !=0:\n",
    "                return board[i][j]\n",
    "    #return 0 if no winner\n",
    "    return 0"
   ]
  },
  {
   "cell_type": "code",
   "execution_count": 51,
   "metadata": {
    "scrolled": false
   },
   "outputs": [
    {
     "name": "stdout",
     "output_type": "stream",
     "text": [
      "\theuristic3_1 vs. heuristic3_2:\n"
     ]
    },
    {
     "data": {
      "text/plain": [
       "{1: 0, -1: 1, 'd': 0}"
      ]
     },
     "metadata": {},
     "output_type": "display_data"
    },
    {
     "name": "stdout",
     "output_type": "stream",
     "text": [
      "CPU times: total: 484 ms\n",
      "Wall time: 446 ms\n",
      "\n",
      "\theuristic3_2 vs. heuristic3_1:\n"
     ]
    },
    {
     "data": {
      "text/plain": [
       "{1: 0, -1: 1, 'd': 0}"
      ]
     },
     "metadata": {},
     "output_type": "display_data"
    },
    {
     "name": "stdout",
     "output_type": "stream",
     "text": [
      "CPU times: total: 453 ms\n",
      "Wall time: 440 ms\n",
      "\n",
      "\theuristic6_1 vs. heuristic6_2:\n"
     ]
    },
    {
     "data": {
      "text/plain": [
       "{1: 0, -1: 1, 'd': 0}"
      ]
     },
     "metadata": {},
     "output_type": "display_data"
    },
    {
     "name": "stdout",
     "output_type": "stream",
     "text": [
      "CPU times: total: 5.2 s\n",
      "Wall time: 5.1 s\n",
      "\n",
      "\theuristic6_2 vs. heuristic6_1:\n"
     ]
    },
    {
     "data": {
      "text/plain": [
       "{1: 0, -1: 1, 'd': 0}"
      ]
     },
     "metadata": {},
     "output_type": "display_data"
    },
    {
     "name": "stdout",
     "output_type": "stream",
     "text": [
      "CPU times: total: 5.12 s\n",
      "Wall time: 5.1 s\n",
      "\n",
      "\theuristic6_1 vs. heuristic3_1:\n"
     ]
    },
    {
     "data": {
      "text/plain": [
       "{1: 0, -1: 1, 'd': 0}"
      ]
     },
     "metadata": {},
     "output_type": "display_data"
    },
    {
     "name": "stdout",
     "output_type": "stream",
     "text": [
      "CPU times: total: 3.08 s\n",
      "Wall time: 3.04 s\n",
      "\n",
      "\theuristic3_1 vs. heuristic6_1:\n"
     ]
    },
    {
     "data": {
      "text/plain": [
       "{1: 0, -1: 1, 'd': 0}"
      ]
     },
     "metadata": {},
     "output_type": "display_data"
    },
    {
     "name": "stdout",
     "output_type": "stream",
     "text": [
      "CPU times: total: 2.73 s\n",
      "Wall time: 2.74 s\n",
      "\n",
      "\theuristic6_1 vs. heuristic3_2:\n"
     ]
    },
    {
     "data": {
      "text/plain": [
       "{1: 0, -1: 1, 'd': 0}"
      ]
     },
     "metadata": {},
     "output_type": "display_data"
    },
    {
     "name": "stdout",
     "output_type": "stream",
     "text": [
      "CPU times: total: 3.09 s\n",
      "Wall time: 3.03 s\n",
      "\n",
      "\theuristic3_2 vs. heuristic6_1:\n"
     ]
    },
    {
     "data": {
      "text/plain": [
       "{1: 0, -1: 1, 'd': 0}"
      ]
     },
     "metadata": {},
     "output_type": "display_data"
    },
    {
     "name": "stdout",
     "output_type": "stream",
     "text": [
      "CPU times: total: 2.77 s\n",
      "Wall time: 2.7 s\n"
     ]
    }
   ],
   "source": [
    "def heuristic3_1_player(board, player = 1, heuristic=eval_fun1, cutoff=3, debug=0):\n",
    "    heuristic_player=Heuristic_ab_search(player=player, heuristic=heuristic, cutoff=cutoff, debug=debug)\n",
    "    return heuristic_player.find_move(board)[\"move\"]\n",
    "\n",
    "def heuristic6_1_player(board, player = 1, heuristic=eval_fun1, cutoff=6, debug=0):\n",
    "    heuristic_player=Heuristic_ab_search(player=player, heuristic=heuristic, cutoff=cutoff, debug=debug)\n",
    "    return heuristic_player.find_move(board)[\"move\"]\n",
    "\n",
    "def heuristic3_2_player(board, player = 1, heuristic=eval_fun2, cutoff=3, debug=0):\n",
    "    heuristic_player=Heuristic_ab_search(player=player, heuristic=heuristic, cutoff=cutoff, debug=debug)\n",
    "    return heuristic_player.find_move(board)[\"move\"]\n",
    "\n",
    "def heuristic6_2_player(board, player = 1, heuristic=eval_fun2, cutoff=6, debug=0):\n",
    "    heuristic_player=Heuristic_ab_search(player=player, heuristic=heuristic, cutoff=cutoff, debug=debug)\n",
    "    return heuristic_player.find_move(board)[\"move\"]\n",
    "\n",
    "print(\"\\theuristic3_1 vs. heuristic3_2:\")\n",
    "%time display(play(heuristic3_1_player, heuristic3_2_player, N=1))\n",
    "print(\"\\n\\theuristic3_2 vs. heuristic3_1:\")\n",
    "%time display(play(heuristic3_2_player, heuristic3_1_player, N=1))\n",
    "\n",
    "print(\"\\n\\theuristic6_1 vs. heuristic6_2:\")\n",
    "%time display(play(heuristic6_1_player, heuristic6_2_player, N=1))\n",
    "print(\"\\n\\theuristic6_2 vs. heuristic6_1:\")\n",
    "%time display(play(heuristic6_2_player, heuristic6_1_player, N=1))\n",
    "\n",
    "print(\"\\n\\theuristic6_1 vs. heuristic3_1:\")\n",
    "%time display(play(heuristic6_1_player, heuristic3_1_player, N=1))\n",
    "print(\"\\n\\theuristic3_1 vs. heuristic6_1:\")\n",
    "%time display(play(heuristic3_1_player, heuristic6_1_player, N=1))\n",
    "\n",
    "print(\"\\n\\theuristic6_1 vs. heuristic3_2:\")\n",
    "%time display(play(heuristic6_1_player, heuristic3_2_player, N=1))\n",
    "print(\"\\n\\theuristic3_2 vs. heuristic6_1:\")\n",
    "%time display(play(heuristic3_2_player, heuristic6_1_player, N=1))"
   ]
  },
  {
   "cell_type": "markdown",
   "metadata": {},
   "source": [
    "Although different cutoff values and heuristic functions were used, the second player won every game. Boards that start with a few random pieces could lead to different results."
   ]
  },
  {
   "cell_type": "markdown",
   "metadata": {},
   "source": [
    "## Challenge task [+ 10 bonus point will be awarded separately]\n",
    "\n",
    "Find another student and let your best agent play against the other student's best player. We will set up a class tournament on Canvas. This tournament will continue after the submission deadline."
   ]
  },
  {
   "cell_type": "markdown",
   "metadata": {},
   "source": [
    "## Graduate student advanced task: Pure Monte Carlo Search and Best First Move [10 point]\n",
    "\n",
    "__Undergraduate students:__ This is a bonus task you can attempt if you like [+10 bonus point].\n",
    "\n",
    "### Pure Monte Carlo Search\n",
    "\n",
    "Implement Pure Monte Carlo Search and investigate how this search performs on the test boards that you have used above. "
   ]
  },
  {
   "cell_type": "code",
   "execution_count": 52,
   "metadata": {},
   "outputs": [],
   "source": [
    "class PMCS:\n",
    "    def __init__(self, player, N=10, debug=2):\n",
    "        self.player= player\n",
    "        self.N = N\n",
    "        self.debug= debug\n",
    "\n",
    "    def find_move(self, board):\n",
    "        \"\"\"Pure Monte Carlo Search. Returns the action that has the largest average utility.\n",
    "        The N playouts are evenly divided between the possible actions.\"\"\"\n",
    "\n",
    "        acts = actions(board)\n",
    "        n = math.floor(self.N/len(acts))\n",
    "        if self.debug >= 1: print(f\"Actions: {acts} ({n} playouts per action)\")\n",
    "\n",
    "        ps = { i : np.mean(self.playouts(board, i)) for i in acts }\n",
    "        if self.debug >= 1: display(ps)\n",
    "\n",
    "        action = max(ps, key=ps.get)\n",
    "        return action\n",
    "    \n",
    "    def playouts(self, board, action):\n",
    "        \"\"\"Perform N playouts following the given action for the given board.\"\"\"\n",
    "        return [ self.playout(board, action) for i in range(self.N) ]\n",
    "    \n",
    "    def playout(self, state, action):\n",
    "        \"\"\"Perfrom a random playout starting with the given action on the given board \n",
    "        and return the utility of the finished game.\"\"\"\n",
    "        state = result(state, self.player, action)\n",
    "        current_player = other(self.player)\n",
    "\n",
    "        while(True):\n",
    "            # reached terminal state?\n",
    "            u = utility(state, self.player)\n",
    "            if u is not None: return(u)\n",
    "\n",
    "            # we use a random playout policy\n",
    "            a = np.random.choice(actions(state))\n",
    "            state = result(state, current_player, a)\n",
    "            #print(state)\n",
    "\n",
    "            # switch between players\n",
    "            current_player = other(current_player)"
   ]
  },
  {
   "cell_type": "markdown",
   "metadata": {},
   "source": [
    "### Playtime"
   ]
  },
  {
   "cell_type": "code",
   "execution_count": 55,
   "metadata": {},
   "outputs": [
    {
     "name": "stdout",
     "output_type": "stream",
     "text": [
      "\tpmcs vs. random:\n"
     ]
    },
    {
     "data": {
      "text/plain": [
       "{1: 10, -1: 0, 'd': 0}"
      ]
     },
     "metadata": {},
     "output_type": "display_data"
    },
    {
     "name": "stdout",
     "output_type": "stream",
     "text": [
      "CPU times: total: 37.5 s\n",
      "Wall time: 37.6 s\n",
      "\n",
      "\trandom vs. pmcs:\n"
     ]
    },
    {
     "data": {
      "text/plain": [
       "{1: 0, -1: 10, 'd': 0}"
      ]
     },
     "metadata": {},
     "output_type": "display_data"
    },
    {
     "name": "stdout",
     "output_type": "stream",
     "text": [
      "CPU times: total: 42.1 s\n",
      "Wall time: 42.2 s\n",
      "\n",
      "\tpmcs vs. heuristic3_1:\n"
     ]
    },
    {
     "data": {
      "text/plain": [
       "{1: 10, -1: 0, 'd': 0}"
      ]
     },
     "metadata": {},
     "output_type": "display_data"
    },
    {
     "name": "stdout",
     "output_type": "stream",
     "text": [
      "CPU times: total: 36.5 s\n",
      "Wall time: 36.5 s\n",
      "\n",
      "\theuristic3_1 vs. pmcs:\n"
     ]
    },
    {
     "data": {
      "text/plain": [
       "{1: 0, -1: 10, 'd': 0}"
      ]
     },
     "metadata": {},
     "output_type": "display_data"
    },
    {
     "name": "stdout",
     "output_type": "stream",
     "text": [
      "CPU times: total: 46.8 s\n",
      "Wall time: 46.9 s\n"
     ]
    }
   ],
   "source": [
    "def pmcs_player(board, player = 1, N=100, debug=0):\n",
    "    pmcs_play=PMCS(player=player, N=N, debug=debug)\n",
    "    return pmcs_play.find_move(board)\n",
    "\n",
    "print(\"\\tpmcs vs. random:\")\n",
    "%time display(play(pmcs_player, random_player, N=10))\n",
    "print(\"\\n\\trandom vs. pmcs:\")\n",
    "%time display(play(random_player, pmcs_player, N=10))\n",
    "\n",
    "print(\"\\n\\tpmcs vs. heuristic3_1:\")\n",
    "%time display(play(pmcs_player, heuristic3_1_player, N=10))\n",
    "print(\"\\n\\theuristic3_1 vs. pmcs:\")\n",
    "%time display(play(heuristic3_1_player, pmcs_player, N=10))"
   ]
  },
  {
   "cell_type": "markdown",
   "metadata": {},
   "source": [
    "### Best First Move\n",
    "\n",
    "Use Pure Monte Carlo Search to determine what the best first move is? Describe under what assumptions this is the \"best\" first move.  "
   ]
  },
  {
   "cell_type": "code",
   "execution_count": 54,
   "metadata": {},
   "outputs": [
    {
     "name": "stdout",
     "output_type": "stream",
     "text": [
      "Actions: [0, 1, 2, 3, 4, 5, 6] (1428 playouts per action)\n"
     ]
    },
    {
     "data": {
      "text/plain": [
       "{0: 0.0376, 1: 0.0798, 2: 0.142, 3: 0.2766, 4: 0.1554, 5: 0.0816, 6: 0.033}"
      ]
     },
     "metadata": {},
     "output_type": "display_data"
    },
    {
     "data": {
      "text/plain": [
       "3"
      ]
     },
     "metadata": {},
     "output_type": "display_data"
    },
    {
     "name": "stdout",
     "output_type": "stream",
     "text": [
      "CPU times: total: 1min 49s\n",
      "Wall time: 1min 49s\n"
     ]
    }
   ],
   "source": [
    "board = empty_board()\n",
    "\n",
    "red_move=PMCS(player=1, N=10000, debug=2)\n",
    "%time display(red_move.find_move(board))"
   ]
  },
  {
   "cell_type": "markdown",
   "metadata": {},
   "source": [
    "Playing the third column proves to have more utility than other columns when starting with an empty board. This method finds the next best move with the highest win percentage by simulating N playouts from the current state."
   ]
  }
 ],
 "metadata": {
  "kernelspec": {
   "display_name": "Python 3 (ipykernel)",
   "language": "python",
   "name": "python3"
  },
  "language_info": {
   "codemirror_mode": {
    "name": "ipython",
    "version": 3
   },
   "file_extension": ".py",
   "mimetype": "text/x-python",
   "name": "python",
   "nbconvert_exporter": "python",
   "pygments_lexer": "ipython3",
   "version": "3.9.12"
  }
 },
 "nbformat": 4,
 "nbformat_minor": 4
}
