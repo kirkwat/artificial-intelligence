{
 "cells": [
  {
   "cell_type": "markdown",
   "metadata": {},
   "source": [
    "# Search: Solving a Maze Using a Goal-based Agent\n",
    "\n",
    "## Instructions\n",
    "\n",
    "Total Points: Undergrads 100 / Graduate students 110\n",
    "\n",
    "Complete this notebook. Use the provided notebook cells and insert additional code and markdown cells as needed. Submit the completely rendered notebook as a PDF file. \n",
    "\n",
    "\n",
    "## Introduction\n",
    "\n",
    "The agent has a map of the maze it is in and the environment is assumed to be **deterministic, discrete, and known.** The agent must use the map to plan a path through the maze from the starting location $S$ to the goal location $G$.  This is a planing exercise for a goal-based agent, so you do not need to implement an environment, just use the map to search for a path. Once the plan is made, the agent in a deterministic environment (i.e., the transition function is deterministic with the outcome of each state/action pair fixed and no randomness) can just follow the path and does not need to care about the percepts.\n",
    "This is also called an **[open-loop system](https://en.wikipedia.org/wiki/Open-loop_controller).**\n",
    "The execution phase is trivial and we do not implement it in this exercise.\n",
    "\n",
    "Tree search algorithm implementations that you find online and used in general algorithms courses have often a different aim. These algorithms assume that you already have a tree in memory. We are interested in dynamically creating a search tree with the aim of finding a good/the best path from the root noteto the goal state. Follow the pseudo code presented in the text book (and replicated in the slides) closely. Ideally, we would like to search only a small part of the maze, i.e., create a search tree with as few nodes as possible. \n",
    "\n",
    "Several mazes for this exercise are stored as text files. Here is the small example maze:"
   ]
  },
  {
   "cell_type": "code",
   "execution_count": 1,
   "metadata": {},
   "outputs": [
    {
     "name": "stdout",
     "output_type": "stream",
     "text": [
      "XXXXXXXXXXXXXXXXXXXXXX\n",
      "X XX        X X      X\n",
      "X    XXXXXX X XXXXXX X\n",
      "XXXXXX     S  X      X\n",
      "X    X XXXXXX XX XXXXX\n",
      "X XXXX X         X   X\n",
      "X        XXX XXX   X X\n",
      "XXXXXXXXXX    XXXXXX X\n",
      "XG         XX        X\n",
      "XXXXXXXXXXXXXXXXXXXXXX\n",
      "\n"
     ]
    }
   ],
   "source": [
    "with open(\"small_maze.txt\", \"r\") as f:\n",
    "    maze_str = f.read()\n",
    "print(maze_str)"
   ]
  },
  {
   "cell_type": "markdown",
   "metadata": {},
   "source": [
    "__Note:__ The mazes above contains cycles and therefore the state space may not form proper trees unless cycles are prevented. Therfore, you will need to deal with cycle detection in your code."
   ]
  },
  {
   "cell_type": "markdown",
   "metadata": {},
   "source": [
    "## Parsing and pretty printing the maze\n",
    "\n",
    "The maze can also be displayed in color using code in the module [maze_helper.py](maze_helper.py). The code parses the string representing the maze and converts it into a `numpy` 2d array which you can use in your implementation. Position are represented as a 2-tuple of the form `(row, col)`. "
   ]
  },
  {
   "cell_type": "code",
   "execution_count": 2,
   "metadata": {
    "tags": []
   },
   "outputs": [
    {
     "name": "stdout",
     "output_type": "stream",
     "text": [
      "Position(0,0): X\n",
      "Position(8,1): G\n"
     ]
    }
   ],
   "source": [
    "import maze_helper as mh\n",
    "\n",
    "maze = mh.parse_maze(maze_str)\n",
    "\n",
    "# look at a position in the maze by subsetting the 2d array\n",
    "print(\"Position(0,0):\", maze[0, 0])\n",
    "\n",
    "# there is also a helper function called `look(maze, pos)` available\n",
    "# which uses a 2-tuple for the position.\n",
    "print(\"Position(8,1):\", mh.look(maze, (8, 1)))"
   ]
  },
  {
   "cell_type": "markdown",
   "metadata": {},
   "source": [
    "A helper function to visualize the maze is also available."
   ]
  },
  {
   "cell_type": "code",
   "execution_count": 3,
   "metadata": {},
   "outputs": [
    {
     "data": {
      "image/png": "[encoded data removed]",
      "text/plain": [
       "<Figure size 432x288 with 1 Axes>"
      ]
     },
     "metadata": {
      "image/png": {
       "height": 183,
       "width": 362
      },
      "needs_background": "light"
     },
     "output_type": "display_data"
    }
   ],
   "source": [
    "%matplotlib inline\n",
    "%config InlineBackend.figure_format = 'retina'\n",
    "# use higher resolution images in notebook\n",
    "\n",
    "mh.show_maze(maze)"
   ]
  },
  {
   "cell_type": "markdown",
   "metadata": {},
   "source": [
    "Find the position of the start and the goal using the helper function `find_pos()`"
   ]
  },
  {
   "cell_type": "code",
   "execution_count": 4,
   "metadata": {},
   "outputs": [
    {
     "name": "stdout",
     "output_type": "stream",
     "text": [
      "Start location: (3, 11)\n",
      "Goal location: (8, 1)\n"
     ]
    }
   ],
   "source": [
    "print(\"Start location:\", mh.find_pos(maze, what = \"S\"))\n",
    "print(\"Goal location:\", mh.find_pos(maze, what = \"G\"))"
   ]
  },
  {
   "cell_type": "markdown",
   "metadata": {},
   "source": [
    "Helper function documentation."
   ]
  },
  {
   "cell_type": "code",
   "execution_count": 5,
   "metadata": {},
   "outputs": [
    {
     "name": "stdout",
     "output_type": "stream",
     "text": [
      "Help on module maze_helper:\n",
      "\n",
      "NAME\n",
      "    maze_helper\n",
      "\n",
      "DESCRIPTION\n",
      "    Code for the Maze Assignment by Michael Hahsler\n",
      "    Usage: \n",
      "        import maze_helper as mh\n",
      "        mh.show_some_mazes()\n",
      "\n",
      "FUNCTIONS\n",
      "    find_pos(maze, what='S')\n",
      "        Find start/goal in a maze and returns the first one. \n",
      "        Caution: there is no error checking!\n",
      "        \n",
      "        Parameters:\n",
      "        maze: a array with characters prodced by parse_maze()\n",
      "        what: the letter to be found ('S' for start and 'G' for goal)\n",
      "        \n",
      "        Returns:\n",
      "        a tupple (x, y) for the found position.\n",
      "    \n",
      "    look(maze, pos)\n",
      "        Look at the label of a square with the position as an array of the form (x, y).\n",
      "    \n",
      "    parse_maze(maze_str)\n",
      "        Convert a maze as a string into a 2d numpy array\n",
      "    \n",
      "    show_maze(maze, fontsize=10)\n",
      "        Display a (parsed) maze as an image.\n",
      "    \n",
      "    welcome()\n",
      "        Welcome message.\n",
      "\n",
      "FILE\n",
      "    c:\\users\\kirk\\documents\\visual studio code\\github\\5320-ai\\assignment_3\\maze_helper.py\n",
      "\n",
      "\n"
     ]
    }
   ],
   "source": [
    "help(mh)"
   ]
  },
  {
   "cell_type": "markdown",
   "metadata": {},
   "source": [
    "## Tree structure\n",
    "\n",
    "Here is an implementation of the basic node structure for the search algorithms (see Fig 3.7 on page 73). I have added a method that extracts the path from the root node to the current node. It can be used to get the path when the search is completed."
   ]
  },
  {
   "cell_type": "code",
   "execution_count": 6,
   "metadata": {},
   "outputs": [],
   "source": [
    "class Node:\n",
    "    def __init__(self, pos, parent, action, cost):\n",
    "        self.pos = tuple(pos)    # the state; positions are (row,col)\n",
    "        self.parent = parent     # reference to parent node. None means root node.\n",
    "        self.action = action     # action used in the transition function (root node has None)\n",
    "        self.cost = cost         # for uniform cost this is the depth. It is also g(n) for A* search\n",
    "\n",
    "    def __str__(self):\n",
    "        return f\"Node - pos = {self.pos}; action = {self.action}; cost = {self.cost}\"\n",
    "    \n",
    "    def get_path_from_root(self):\n",
    "        \"\"\"returns nodes on the path from the root to the current node.\"\"\"\n",
    "        node = self\n",
    "        path = [node]\n",
    "    \n",
    "        while not node.parent is None:\n",
    "            node = node.parent\n",
    "            path.append(node)\n",
    "        \n",
    "        path.reverse()\n",
    "        \n",
    "        return(path)"
   ]
  },
  {
   "cell_type": "markdown",
   "metadata": {},
   "source": [
    "If needed, then you can add more fields to the class like the heuristic value $h(n)$ or $f(n)$.\n",
    "\n",
    "Examples for how to create and use a tree and information on memory management can be found [here](../Python_Code_Examples/trees.ipynb)."
   ]
  },
  {
   "cell_type": "markdown",
   "metadata": {},
   "source": [
    "# Tasks\n",
    "\n",
    "The goal is to:\n",
    "\n",
    "1. Implement the following search algorithms for solving different mazes:\n",
    "\n",
    "    - Breadth-first search (BFS)\n",
    "    - Depth-first search (DFS)\n",
    "    - Greedy best-first search (GBFS)\n",
    "    - A* search\n",
    "\n",
    "2. Run each of the above algorithms on the \n",
    "    - [small maze](small_maze.txt), \n",
    "    - [medium maze](medium_maze.txt), \n",
    "    - [large maze](large_maze.txt), \n",
    "    - [open maze](open_maze.txt),\n",
    "    - [wall maze](wall_maze.txt),\n",
    "    - [loops maze](loops_maze.txt),\n",
    "    - [empty maze](empty_maze.txt), and\n",
    "    - [empty 2_maze](empty_2_maze.txt).\n",
    "    \n",
    "3. For each problem instance and each search algorithm, report the following in a table:\n",
    "\n",
    "    - The solution and its path cost\n",
    "    - Total number of nodes expanded\n",
    "    - Maximum tree depth\n",
    "    - Maximum size of the frontier\n",
    "\n",
    "4. Display each solution by marking every maze square (or state) visited and the squares on the final path.\n",
    "\n",
    "## General [10 Points]\n",
    "\n",
    "1. Make sure that you use the latest version of this notebook. Sync your forked repository and pull the latest revision. \n",
    "2. Your implementation can use libraries like math, numpy, scipy, but not libraries that implement inteligent agents or complete search algorithms. Try to keep the code simple! In this course, we want to learn about the algorithms and we often do not need to use object-oriented design.\n",
    "3. You notebook needs to be formated professionally. \n",
    "    - Add additional markdown blocks for your description, comments in the code, add tables and use mathplotlib to produce charts where appropriate\n",
    "    - Do not show debugging output or include an excessive amount of output.\n",
    "    - Check that your PDF file is readable. For example, long lines are cut off in the PDF file. You don't have control over page breaks, so do not worry about these.\n",
    "4. Document your code. Add a short discussion of how your implementation works and your design choices."
   ]
  },
  {
   "cell_type": "markdown",
   "metadata": {},
   "source": [
    "## Task 1: Defining the search problem and determining the problem size [10 Points]\n",
    "\n",
    "Define the components of the search problem:\n",
    "\n",
    "* Initial state\n",
    "* Actions\n",
    "* Transition model\n",
    "* Goal state\n",
    "* Path cost\n",
    "\n",
    "Use verbal descriptions, variables and equations as appropriate. \n",
    "\n",
    "*Note:* You can swich the next block from code to Markdown and use formating."
   ]
  },
  {
   "cell_type": "markdown",
   "metadata": {},
   "source": [
    "* **Initial state:** Position marked S.\n",
    "* **Actions:** Move from one position to another (North, South, East, West).\n",
    "* **Transition model:** If you go from position A to position B, you end up in position B.\n",
    "* **Goal state:** Position marked G.\n",
    "* **Path cost:** Length of path (Sum of tiles in path)."
   ]
  },
  {
   "cell_type": "markdown",
   "metadata": {},
   "source": [
    "Give some estimates for the problem size:\n",
    "\n",
    "* $n$: state space size\n",
    "* $d$: depth of the optimal solution\n",
    "* $m$: maximum depth of tree\n",
    "* $b$: maximum branching factor\n",
    "\n",
    "Describe how you would determine these values for a given maze."
   ]
  },
  {
   "cell_type": "markdown",
   "metadata": {},
   "source": [
    "* $n$: Counting number of white or blank tiles\n",
    "* $d$: Counting number of actions or nodes used in goal path\n",
    "* $m$: Counting number of actions in longest path\n",
    "* $b$: Counting number of successor nodes for a parent"
   ]
  },
  {
   "cell_type": "markdown",
   "metadata": {},
   "source": [
    "## Task 2: Uninformed search: Breadth-first and depth-first [40 Points]\n",
    "\n",
    "Implement these search strategies. Follow the pseudocode in the textbook/slides. You can use the tree structure shown above to extract the final path from your solution.\n",
    "\n",
    "__Notes:__\n",
    "* You can find maze solving implementations online that use the map to store information. While this is an effective idea for this two-dimensional navigation problem, it typically cannot be used for other search problems. Therefore, follow the textbook and only store information in the tree created during search, and use the `reached` and `frontier` data structures.\n",
    "* DSF can be implemented using the BFS tree search algorithm and simply changing the order in which the frontier is expanded (this is equivalent to best-first search with path length as the criterion to expand the next node). However, to take advantage of the significantly smaller memory footprint of DFS, you need to implement DFS in a different way without a `reached` data structure and by releasing the memory for nodes that are not needed anymore. \n",
    "* If DFS does not use a `reached` data structure, then its cycle checking abilities are limited. Remember, that DSF is incomplete if cycles cannot be prevented. You will see in your experiments that open spaces are a problem."
   ]
  },
  {
   "cell_type": "code",
   "execution_count": 7,
   "metadata": {},
   "outputs": [],
   "source": [
    "#TODO\n",
    "    #FIX MAX NODE IN MEMORY FOR BFS\n",
    "    #FIX IDS WITH DFS INFINITE LOOP or FIX DFS\n",
    "    #TEST GBFS\n",
    "    #DO A*\n",
    "    #MAKE CHART\n",
    "    #BETTER A* TIME COMPLEXITY EXPLANATION\n",
    "\n",
    "\n",
    "import copy\n",
    "\n",
    "def breadth_first_search(maze, debug=False, vis=False):\n",
    "    expanded_counter=0\n",
    "    max_depth=0\n",
    "    max_frontier_size=0\n",
    "    max_branching_factor=0\n",
    "    \n",
    "    root=Node(pos=mh.find_pos(maze, what = \"S\"),parent=None,action=None,cost=0)\n",
    "    \n",
    "    frontier = [root]       \n",
    "    reached = {root.pos}\n",
    "    #loop until queue is empty\n",
    "    while frontier:\n",
    "        max_frontier_size=max(max_frontier_size,len(frontier))\n",
    "        current = frontier.pop(0)\n",
    "        max_depth=max(max_depth, current.cost)\n",
    "        if vis and maze[current.pos[0]][current.pos[1]]!='G' and maze[current.pos[0]][current.pos[1]]!='S': maze[current.pos[0]][current.pos[1]]='.'\n",
    "        #expand to next level\n",
    "        branching_factor=0\n",
    "        for child in expand(maze,current):\n",
    "            branching_factor+=1\n",
    "            max_branching_factor=max(max_branching_factor,branching_factor)\n",
    "            #check if child is goal\n",
    "            if maze[child.pos[0]][child.pos[1]]=='G':\n",
    "                if vis:\n",
    "                    for path in child.get_path_from_root():\n",
    "                        if maze[path.pos[0]][path.pos[1]]!='G' and maze[path.pos[0]][path.pos[1]]!='S':\n",
    "                            maze[path.pos[0]][path.pos[1]]='P'\n",
    "                return child.cost, expanded_counter, max_depth, max_branching_factor*child.cost, max_frontier_size\n",
    "            #if child hasn't been reached, add to frontier\n",
    "            if child.pos not in reached:\n",
    "                expanded_counter+=1\n",
    "                reached.add(child.pos)\n",
    "                frontier.append(child)\n",
    "                if vis and maze[child.pos[0]][child.pos[1]]!='G' and maze[child.pos[0]][child.pos[1]]!='S': maze[child.pos[0]][child.pos[1]]='F'\n",
    "    #no path was found\n",
    "    return \"N/A\", expanded_counter, max_depth, max_branching_factor**child.cost, max_frontier_size\n",
    "\n",
    "#BFS + DFS - add next level below node to search tree\n",
    "def expand(maze, root):\n",
    "    #get position and all directions\n",
    "    row, col=root.pos\n",
    "    directions = [\n",
    "        (\"north\", (row - 1, col)),\n",
    "        (\"south\", (row + 1, col)),\n",
    "        (\"west\", (row, col - 1)),\n",
    "        (\"east\", (row, col + 1))\n",
    "    ]\n",
    "    #get possible actions and create child nodes\n",
    "    child_actions=[]\n",
    "    for action, (row, col) in directions:\n",
    "        #create node if action is possible\n",
    "        if maze[row][col]!='X':\n",
    "            child_cost=root.cost+1\n",
    "            child=Node(pos=(row,col),parent=root,action=action,cost=child_cost)\n",
    "            child_actions.append(child)\n",
    "    \n",
    "    return child_actions"
   ]
  },
  {
   "cell_type": "code",
   "execution_count": 8,
   "metadata": {},
   "outputs": [],
   "source": [
    "def iterative_deepening_search(maze, limit, debug=False, vis=False):\n",
    "    #run depth first search with increasing depth limit until solution is found\n",
    "    for depth in range(limit):\n",
    "        ids_maze=copy.deepcopy(maze) \n",
    "        result, expanded_counter, max_depth, max_nodes, max_frontier_size=depth_first_search(maze=ids_maze, limit=depth, vis=vis)\n",
    "        if result != \"cutoff\":\n",
    "            if vis: mh.show_maze(ids_maze)\n",
    "            return result, expanded_counter, max_depth, max_nodes, max_frontier_size        \n",
    "\n",
    "def depth_first_search(maze, limit, debug=False, vis=False):\n",
    "    expanded_counter=0\n",
    "    max_depth=0\n",
    "    max_frontier_size=0\n",
    "    max_branching_factor=0\n",
    "\n",
    "    \n",
    "    root=Node(pos=mh.find_pos(maze, what = \"S\"),parent=None,action=None,cost=0)\n",
    "    \n",
    "    #set result\n",
    "    result = \"N/A\"\n",
    "    frontier = [root]\n",
    "    #loop until queue is empty\n",
    "    while frontier:\n",
    "        max_frontier_size=max(max_frontier_size,len(frontier))\n",
    "        current = frontier.pop()\n",
    "        max_depth=max(max_depth, current.cost)\n",
    "        if vis and maze[current.pos[0]][current.pos[1]]!='G' and maze[current.pos[0]][current.pos[1]]!='S': maze[current.pos[0]][current.pos[1]]='.'\n",
    "        #check if child is goal\n",
    "        if maze[current.pos[0]][current.pos[1]]=='G':\n",
    "            if vis:\n",
    "                for path in child.get_path_from_root():\n",
    "                    if maze[path.pos[0]][path.pos[1]]!='G' and maze[path.pos[0]][path.pos[1]]!='S':\n",
    "                        maze[path.pos[0]][path.pos[1]]='P'\n",
    "            return current.cost, expanded_counter, max_depth, max_branching_factor*current.cost, max_frontier_size\n",
    "        #check if depth is greater than limit\n",
    "        if get_depth(current) > limit: result=\"cutoff\"\n",
    "        #if current node is not a cycle\n",
    "        elif not is_cycle(current):\n",
    "            #expand to next level\n",
    "            branching_factor=0\n",
    "            for child in expand(maze,current):\n",
    "                branching_factor+=1\n",
    "                max_branching_factor=max(max_branching_factor,branching_factor)\n",
    "                expanded_counter+=1\n",
    "                frontier.append(child)\n",
    "                if vis and maze[child.pos[0]][child.pos[1]]!='G' and maze[child.pos[0]][child.pos[1]]!='S': maze[child.pos[0]][child.pos[1]]='F'\n",
    "    \n",
    "    return result, expanded_counter, max_depth, max_branching_factor*current.cost, max_frontier_size\n",
    "\n",
    "#DFS - get depth of node\n",
    "def get_depth(node):\n",
    "    depth = -1\n",
    "    for path in node.get_path_from_root():\n",
    "        depth+=1\n",
    "    return depth\n",
    "\n",
    "#DFS - check for cycles in path\n",
    "def is_cycle(node):\n",
    "    path = set()\n",
    "    #loop through path\n",
    "    for current in node.get_path_from_root():\n",
    "        #add node to path if not cycle\n",
    "        if current.pos not in path:\n",
    "            path.add(current.pos)\n",
    "        #return true if cycle\n",
    "        else:\n",
    "            return True\n",
    "    #return false if not cycle\n",
    "    return False"
   ]
  },
  {
   "cell_type": "markdown",
   "metadata": {},
   "source": [
    "How does BFS and DFS deal with loops (cycles)?"
   ]
  },
  {
   "cell_type": "markdown",
   "metadata": {},
   "source": [
    "BFS deals with loops by saving the states/positions that has been already been accessed. When expanding to a new position, the search will not continue to positions that have been already accessed by checking the saved positions.\n",
    "\n",
    "Limited DFS deals with loops by checking if the current node's position matches the position of another node on the current path."
   ]
  },
  {
   "cell_type": "markdown",
   "metadata": {},
   "source": [
    "Are your implementations complete and optimal? Explain why. What is the time and space complexity of each of **your** implementations?"
   ]
  },
  {
   "cell_type": "markdown",
   "metadata": {},
   "source": [
    "The BFS implementation is complete and optimal. BFS is optimal because the cost is the same per action. The time and space complexity of BFS is $O(b^d)$.\n",
    "\n",
    "The DFS implementation is complete only in finite spaces. It is not optimal as it returns the first solution it finds. The time complexity of DFS is $O(b^m)$. The space complexity is $O(bm)$. With IDS, BFS is complete and optimal (with action cost of 1), time complexity is $O(b^d)$, and space complexity is $O(bd)$."
   ]
  },
  {
   "cell_type": "markdown",
   "metadata": {},
   "source": [
    "## Task 3: Informed search: Implement greedy best-first search and A* search  [20 Points]\n",
    "\n",
    "You can use the map to estimate the distance from your current position to the goal using the Manhattan distance (see https://en.wikipedia.org/wiki/Taxicab_geometry) as a heuristic function. Both algorithms are based on Best-First search which requires only a small change from the BFS algorithm you have already implemented (see textbook/slides). "
   ]
  },
  {
   "cell_type": "code",
   "execution_count": 41,
   "metadata": {},
   "outputs": [],
   "source": [
    "def best_first_search(maze, strategy, debug=False, vis=False):\n",
    "    expanded_counter=0\n",
    "    max_depth=0\n",
    "    max_frontier_size=0\n",
    "    max_branching_factor=0\n",
    "    \n",
    "    root=Node(pos=mh.find_pos(maze, what = \"S\"),parent=None,action=None,cost=0)\n",
    "    \n",
    "    frontier = PriorityQueue(maze, strategy)\n",
    "    frontier.insert(root)\n",
    "    reached = {root.pos:root}\n",
    "    #loop until frontier is empty\n",
    "    while not frontier.isEmpty():\n",
    "        max_frontier_size=max(max_frontier_size,len(frontier.queue))\n",
    "        current = frontier.pop()\n",
    "        max_depth=max(max_depth, current.cost)\n",
    "        if vis and maze[current.pos[0]][current.pos[1]]!='G' and maze[current.pos[0]][current.pos[1]]!='S': maze[current.pos[0]][current.pos[1]]='.'\n",
    "        #check if current is goal\n",
    "        if maze[current.pos[0]][current.pos[1]]=='G':\n",
    "            if vis:\n",
    "                for path in current.get_path_from_root():\n",
    "                    if maze[path.pos[0]][path.pos[1]]!='G' and maze[path.pos[0]][path.pos[1]]!='S':\n",
    "                        maze[path.pos[0]][path.pos[1]]='P'\n",
    "            return current.cost, expanded_counter, max_depth, max_branching_factor*current.cost, max_frontier_size\n",
    "        #expand to next level\n",
    "        branching_factor=0\n",
    "        for child in expand(maze,current):\n",
    "            branching_factor+=1\n",
    "            max_branching_factor=max(max_branching_factor,branching_factor)\n",
    "            #if child hasn't been reached, add to frontier\n",
    "            if child.pos not in reached or child.cost<reached[child.pos].cost:\n",
    "                expanded_counter+=1\n",
    "                reached[child.pos]=child\n",
    "                frontier.insert(child)\n",
    "                if vis and maze[child.pos[0]][child.pos[1]]!='G' and maze[child.pos[0]][child.pos[1]]!='S': maze[child.pos[0]][child.pos[1]]='F'\n",
    "    #no path was found\n",
    "    return \"N/A\", expanded_counter, max_depth, max_branching_factor**child.cost, max_frontier_size\n",
    "\n",
    "#implementation of Priority Queue with inspiration from geeksforgeeks.org\n",
    "class PriorityQueue(object):\n",
    "    def __init__(self, maze, func):\n",
    "        self.queue = []\n",
    "        self.func = func\n",
    "        self.maze = maze\n",
    " \n",
    "    def __str__(self):\n",
    "        return ' '.join([str(i) for i in self.queue])\n",
    " \n",
    "    # for checking if the queue is empty\n",
    "    def isEmpty(self):\n",
    "        return len(self.queue) == 0\n",
    " \n",
    "    # for inserting an element in the queue\n",
    "    def insert(self, data):\n",
    "        self.queue.append(data)\n",
    " \n",
    "    # for popping an element based on Priority\n",
    "    # use h(n) to get priority\n",
    "    def pop(self):\n",
    "        return self.func(self.maze, self.queue)\n",
    "    \n",
    "#heuristic function used for greedy bfs\n",
    "def greedy_bfs(maze, queue):\n",
    "    goal_pos=mh.find_pos(maze, what = \"G\")\n",
    "    #find node with smallest value from goal\n",
    "    min_node = queue[0]\n",
    "    min_distance = abs(goal_pos[0]-min_node.pos[0])+abs(goal_pos[1]-min_node.pos[1])\n",
    "    min_index=0\n",
    "    #check nodes in queue\n",
    "    index=0\n",
    "    for node in queue:\n",
    "        heuristic_val=abs(goal_pos[0]-node.pos[0])+abs(goal_pos[1]-node.pos[1])\n",
    "        if heuristic_val < min_distance:\n",
    "            min_node=node\n",
    "            min_distance=heuristic_val\n",
    "            min_index=index\n",
    "        index+=1\n",
    "    \n",
    "    del queue[min_index]\n",
    "    return min_node\n",
    "\n",
    "#heuristic function used for a* search\n",
    "def a_star(maze, queue):\n",
    "    goal_pos=mh.find_pos(maze, what = \"G\")\n",
    "    #find node with smallest value from goal\n",
    "    min_node = queue[0]\n",
    "    min_distance = get_depth(min_node)+abs(goal_pos[0]-min_node.pos[0])+abs(goal_pos[1]-min_node.pos[1])\n",
    "    min_index=0\n",
    "    #check nodes in queue\n",
    "    index=0\n",
    "    for node in queue:\n",
    "        heuristic_val=get_depth(node)+abs(goal_pos[0]-node.pos[0])+abs(goal_pos[1]-node.pos[1])\n",
    "        if heuristic_val < min_distance:\n",
    "            min_node=node\n",
    "            min_distance=heuristic_val\n",
    "            min_index=index\n",
    "        index+=1\n",
    "    \n",
    "    del queue[min_index]\n",
    "    return min_node"
   ]
  },
  {
   "cell_type": "code",
   "execution_count": 37,
   "metadata": {},
   "outputs": [
    {
     "data": {
      "image/png": "[encoded data removed]",
      "text/plain": [
       "<Figure size 432x288 with 1 Axes>"
      ]
     },
     "metadata": {
      "image/png": {
       "height": 249,
       "width": 251
      },
      "needs_background": "light"
     },
     "output_type": "display_data"
    },
    {
     "name": "stdout",
     "output_type": "stream",
     "text": [
      "210 486 210 840 21\n"
     ]
    }
   ],
   "source": [
    "with open(\"large_maze.txt\", \"r\") as f:\n",
    "    maze_str = f.read()\n",
    "maze = mh.parse_maze(maze_str)\n",
    "\n",
    "gbfs_maze=copy.deepcopy(maze)\n",
    "current, expanded_counter, max_depth, fart, max_frontier_size=best_first_search(maze=gbfs_maze,strategy=greedy_bfs, vis=True)\n",
    "mh.show_maze(gbfs_maze)\n",
    "print(current, expanded_counter, max_depth, fart, max_frontier_size)"
   ]
  },
  {
   "cell_type": "code",
   "execution_count": 42,
   "metadata": {},
   "outputs": [
    {
     "data": {
      "image/png": "[encoded data removed]",
      "text/plain": [
       "<Figure size 432x288 with 1 Axes>"
      ]
     },
     "metadata": {
      "image/png": {
       "height": 239,
       "width": 368
      },
      "needs_background": "light"
     },
     "output_type": "display_data"
    },
    {
     "name": "stdout",
     "output_type": "stream",
     "text": [
      "54 554 54 216 25\n"
     ]
    }
   ],
   "source": [
    "with open(\"open_maze.txt\", \"r\") as f:\n",
    "    maze_str = f.read()\n",
    "maze = mh.parse_maze(maze_str)\n",
    "\n",
    "gbfs_maze=copy.deepcopy(maze)\n",
    "current, expanded_counter, max_depth, fart, max_frontier_size=best_first_search(maze=gbfs_maze,strategy=a_star, vis=True)\n",
    "mh.show_maze(gbfs_maze)\n",
    "print(current, expanded_counter, max_depth, fart, max_frontier_size)"
   ]
  },
  {
   "cell_type": "markdown",
   "metadata": {},
   "source": [
    "Are your implementations complete and optimal? What is the time and space complexity?"
   ]
  },
  {
   "cell_type": "markdown",
   "metadata": {},
   "source": [
    "GBFS is complete if complete in finite spaces, is not optimal, has worst case time and space complexity of $O(b^m)$ and best case $O(bm)$ if $h(n)$ is 100% accurate.\n",
    "\n",
    "A* search is complete and is optimally efficient. A* search time and space complexity depends on number of nodes for which $f(n)\\leq C^*$ (exponential)."
   ]
  },
  {
   "cell_type": "markdown",
   "metadata": {},
   "source": [
    "## Task 4: Comparison and discussion [20 Points] \n",
    "\n",
    "Run experiments to compare the implemented algorithms.\n",
    "\n",
    "How to deal with issues:\n",
    "\n",
    "* Your implementation returns unexpected results: Try to debug and fix the code. Visualizing the maze, the current path and the frontier after every step is very helpful. If the code still does not work, then mark the result with an asterisk (*) and describe the issue below the table.\n",
    "\n",
    "* Your implementation cannot consistently solve a specific maze and ends up in an infinite loop:\n",
    "    Debug. If it is a shortcoming of the algorithm/implementation, then put \"N/A*\" in the results table and describe why this is happening."
   ]
  },
  {
   "cell_type": "code",
   "execution_count": 43,
   "metadata": {},
   "outputs": [
    {
     "name": "stdout",
     "output_type": "stream",
     "text": [
      "MAZE: small_maze.txt\n",
      "BFS:\n"
     ]
    },
    {
     "data": {
      "image/png": "[encoded data removed]",
      "text/plain": [
       "<Figure size 432x288 with 1 Axes>"
      ]
     },
     "metadata": {
      "image/png": {
       "height": 183,
       "width": 362
      },
      "needs_background": "light"
     },
     "output_type": "display_data"
    },
    {
     "name": "stdout",
     "output_type": "stream",
     "text": [
      "DFS:\n"
     ]
    },
    {
     "data": {
      "image/png": "[encoded data removed]",
      "text/plain": [
       "<Figure size 432x288 with 1 Axes>"
      ]
     },
     "metadata": {
      "image/png": {
       "height": 183,
       "width": 362
      },
      "needs_background": "light"
     },
     "output_type": "display_data"
    },
    {
     "name": "stdout",
     "output_type": "stream",
     "text": [
      "GFS:\n"
     ]
    },
    {
     "data": {
      "image/png": "[encoded data removed]",
      "text/plain": [
       "<Figure size 432x288 with 1 Axes>"
      ]
     },
     "metadata": {
      "image/png": {
       "height": 183,
       "width": 362
      },
      "needs_background": "light"
     },
     "output_type": "display_data"
    },
    {
     "name": "stdout",
     "output_type": "stream",
     "text": [
      "A*:\n"
     ]
    },
    {
     "data": {
      "image/png": "[encoded data removed]",
      "text/plain": [
       "<Figure size 432x288 with 1 Axes>"
      ]
     },
     "metadata": {
      "image/png": {
       "height": 183,
       "width": 362
      },
      "needs_background": "light"
     },
     "output_type": "display_data"
    },
    {
     "name": "stdout",
     "output_type": "stream",
     "text": [
      "MAZE: medium_maze.txt\n",
      "BFS:\n"
     ]
    },
    {
     "data": {
      "image/png": "[encoded data removed]",
      "text/plain": [
       "<Figure size 432x288 with 1 Axes>"
      ]
     },
     "metadata": {
      "image/png": {
       "height": 198,
       "width": 380
      },
      "needs_background": "light"
     },
     "output_type": "display_data"
    },
    {
     "name": "stdout",
     "output_type": "stream",
     "text": [
      "DFS:\n"
     ]
    },
    {
     "data": {
      "image/png": "[encoded data removed]",
      "text/plain": [
       "<Figure size 432x288 with 1 Axes>"
      ]
     },
     "metadata": {
      "image/png": {
       "height": 198,
       "width": 380
      },
      "needs_background": "light"
     },
     "output_type": "display_data"
    },
    {
     "name": "stdout",
     "output_type": "stream",
     "text": [
      "GFS:\n"
     ]
    },
    {
     "data": {
      "image/png": "[encoded data removed]",
      "text/plain": [
       "<Figure size 432x288 with 1 Axes>"
      ]
     },
     "metadata": {
      "image/png": {
       "height": 198,
       "width": 380
      },
      "needs_background": "light"
     },
     "output_type": "display_data"
    },
    {
     "name": "stdout",
     "output_type": "stream",
     "text": [
      "A*:\n"
     ]
    },
    {
     "data": {
      "image/png": "[encoded data removed]",
      "text/plain": [
       "<Figure size 432x288 with 1 Axes>"
      ]
     },
     "metadata": {
      "image/png": {
       "height": 198,
       "width": 380
      },
      "needs_background": "light"
     },
     "output_type": "display_data"
    },
    {
     "name": "stdout",
     "output_type": "stream",
     "text": [
      "MAZE: large_maze.txt\n",
      "BFS:\n"
     ]
    },
    {
     "data": {
      "image/png": "[encoded data removed]",
      "text/plain": [
       "<Figure size 432x288 with 1 Axes>"
      ]
     },
     "metadata": {
      "image/png": {
       "height": 249,
       "width": 251
      },
      "needs_background": "light"
     },
     "output_type": "display_data"
    },
    {
     "name": "stdout",
     "output_type": "stream",
     "text": [
      "DFS:\n"
     ]
    },
    {
     "data": {
      "image/png": "[encoded data removed]",
      "text/plain": [
       "<Figure size 432x288 with 1 Axes>"
      ]
     },
     "metadata": {
      "image/png": {
       "height": 249,
       "width": 251
      },
      "needs_background": "light"
     },
     "output_type": "display_data"
    },
    {
     "name": "stdout",
     "output_type": "stream",
     "text": [
      "GFS:\n"
     ]
    },
    {
     "data": {
      "image/png": "[encoded data removed]",
      "text/plain": [
       "<Figure size 432x288 with 1 Axes>"
      ]
     },
     "metadata": {
      "image/png": {
       "height": 249,
       "width": 251
      },
      "needs_background": "light"
     },
     "output_type": "display_data"
    },
    {
     "name": "stdout",
     "output_type": "stream",
     "text": [
      "A*:\n"
     ]
    },
    {
     "data": {
      "image/png": "[encoded data removed]",
      "text/plain": [
       "<Figure size 432x288 with 1 Axes>"
      ]
     },
     "metadata": {
      "image/png": {
       "height": 249,
       "width": 251
      },
      "needs_background": "light"
     },
     "output_type": "display_data"
    },
    {
     "name": "stdout",
     "output_type": "stream",
     "text": [
      "MAZE: wall_maze.txt\n",
      "BFS:\n"
     ]
    },
    {
     "data": {
      "image/png": "[encoded data removed]",
      "text/plain": [
       "<Figure size 432x288 with 1 Axes>"
      ]
     },
     "metadata": {
      "image/png": {
       "height": 248,
       "width": 251
      },
      "needs_background": "light"
     },
     "output_type": "display_data"
    },
    {
     "name": "stdout",
     "output_type": "stream",
     "text": [
      "DFS:\n"
     ]
    },
    {
     "data": {
      "image/png": "[encoded data removed]",
      "text/plain": [
       "<Figure size 432x288 with 1 Axes>"
      ]
     },
     "metadata": {
      "image/png": {
       "height": 248,
       "width": 251
      },
      "needs_background": "light"
     },
     "output_type": "display_data"
    },
    {
     "name": "stdout",
     "output_type": "stream",
     "text": [
      "GFS:\n"
     ]
    },
    {
     "data": {
      "image/png": "[encoded data removed]",
      "text/plain": [
       "<Figure size 432x288 with 1 Axes>"
      ]
     },
     "metadata": {
      "image/png": {
       "height": 248,
       "width": 251
      },
      "needs_background": "light"
     },
     "output_type": "display_data"
    },
    {
     "name": "stdout",
     "output_type": "stream",
     "text": [
      "A*:\n"
     ]
    },
    {
     "data": {
      "image/png": "[encoded data removed]",
      "text/plain": [
       "<Figure size 432x288 with 1 Axes>"
      ]
     },
     "metadata": {
      "image/png": {
       "height": 248,
       "width": 251
      },
      "needs_background": "light"
     },
     "output_type": "display_data"
    },
    {
     "name": "stdout",
     "output_type": "stream",
     "text": [
      "MAZE: open_maze.txt\n",
      "BFS:\n"
     ]
    },
    {
     "data": {
      "image/png": "[encoded data removed]",
      "text/plain": [
       "<Figure size 432x288 with 1 Axes>"
      ]
     },
     "metadata": {
      "image/png": {
       "height": 239,
       "width": 368
      },
      "needs_background": "light"
     },
     "output_type": "display_data"
    },
    {
     "name": "stdout",
     "output_type": "stream",
     "text": [
      "DFS:\n"
     ]
    },
    {
     "data": {
      "image/png": "[encoded data removed]",
      "text/plain": [
       "<Figure size 432x288 with 1 Axes>"
      ]
     },
     "metadata": {
      "image/png": {
       "height": 239,
       "width": 368
      },
      "needs_background": "light"
     },
     "output_type": "display_data"
    },
    {
     "name": "stdout",
     "output_type": "stream",
     "text": [
      "GFS:\n"
     ]
    },
    {
     "data": {
      "image/png": "[encoded data removed]",
      "text/plain": [
       "<Figure size 432x288 with 1 Axes>"
      ]
     },
     "metadata": {
      "image/png": {
       "height": 239,
       "width": 368
      },
      "needs_background": "light"
     },
     "output_type": "display_data"
    },
    {
     "name": "stdout",
     "output_type": "stream",
     "text": [
      "A*:\n"
     ]
    },
    {
     "data": {
      "image/png": "[encoded data removed]",
      "text/plain": [
       "<Figure size 432x288 with 1 Axes>"
      ]
     },
     "metadata": {
      "image/png": {
       "height": 239,
       "width": 368
      },
      "needs_background": "light"
     },
     "output_type": "display_data"
    },
    {
     "name": "stdout",
     "output_type": "stream",
     "text": [
      "MAZE: loops_maze.txt\n",
      "BFS:\n"
     ]
    },
    {
     "data": {
      "image/png": "[encoded data removed]",
      "text/plain": [
       "<Figure size 432x288 with 1 Axes>"
      ]
     },
     "metadata": {
      "image/png": {
       "height": 248,
       "width": 251
      },
      "needs_background": "light"
     },
     "output_type": "display_data"
    },
    {
     "name": "stdout",
     "output_type": "stream",
     "text": [
      "DFS:\n"
     ]
    },
    {
     "data": {
      "image/png": "[encoded data removed]",
      "text/plain": [
       "<Figure size 432x288 with 1 Axes>"
      ]
     },
     "metadata": {
      "image/png": {
       "height": 248,
       "width": 251
      },
      "needs_background": "light"
     },
     "output_type": "display_data"
    },
    {
     "name": "stdout",
     "output_type": "stream",
     "text": [
      "GFS:\n"
     ]
    },
    {
     "data": {
      "image/png": "[encoded data removed]",
      "text/plain": [
       "<Figure size 432x288 with 1 Axes>"
      ]
     },
     "metadata": {
      "image/png": {
       "height": 248,
       "width": 251
      },
      "needs_background": "light"
     },
     "output_type": "display_data"
    },
    {
     "name": "stdout",
     "output_type": "stream",
     "text": [
      "A*:\n"
     ]
    },
    {
     "data": {
      "image/png": "[encoded data removed]",
      "text/plain": [
       "<Figure size 432x288 with 1 Axes>"
      ]
     },
     "metadata": {
      "image/png": {
       "height": 248,
       "width": 251
      },
      "needs_background": "light"
     },
     "output_type": "display_data"
    },
    {
     "name": "stdout",
     "output_type": "stream",
     "text": [
      "MAZE: L_maze.txt\n",
      "BFS:\n"
     ]
    },
    {
     "data": {
      "image/png": "[encoded data removed]",
      "text/plain": [
       "<Figure size 432x288 with 1 Axes>"
      ]
     },
     "metadata": {
      "image/png": {
       "height": 248,
       "width": 251
      },
      "needs_background": "light"
     },
     "output_type": "display_data"
    },
    {
     "name": "stdout",
     "output_type": "stream",
     "text": [
      "DFS:\n"
     ]
    },
    {
     "data": {
      "image/png": "[encoded data removed]",
      "text/plain": [
       "<Figure size 432x288 with 1 Axes>"
      ]
     },
     "metadata": {
      "image/png": {
       "height": 248,
       "width": 251
      },
      "needs_background": "light"
     },
     "output_type": "display_data"
    },
    {
     "name": "stdout",
     "output_type": "stream",
     "text": [
      "GFS:\n"
     ]
    },
    {
     "data": {
      "image/png": "[encoded data removed]",
      "text/plain": [
       "<Figure size 432x288 with 1 Axes>"
      ]
     },
     "metadata": {
      "image/png": {
       "height": 248,
       "width": 251
      },
      "needs_background": "light"
     },
     "output_type": "display_data"
    },
    {
     "name": "stdout",
     "output_type": "stream",
     "text": [
      "A*:\n"
     ]
    },
    {
     "data": {
      "image/png": "[encoded data removed]",
      "text/plain": [
       "<Figure size 432x288 with 1 Axes>"
      ]
     },
     "metadata": {
      "image/png": {
       "height": 248,
       "width": 251
      },
      "needs_background": "light"
     },
     "output_type": "display_data"
    },
    {
     "name": "stdout",
     "output_type": "stream",
     "text": [
      "MAZE: empty_maze.txt\n",
      "BFS:\n"
     ]
    },
    {
     "data": {
      "image/png": "[encoded data removed]",
      "text/plain": [
       "<Figure size 432x288 with 1 Axes>"
      ]
     },
     "metadata": {
      "image/png": {
       "height": 248,
       "width": 251
      },
      "needs_background": "light"
     },
     "output_type": "display_data"
    },
    {
     "name": "stdout",
     "output_type": "stream",
     "text": [
      "DFS:\n"
     ]
    },
    {
     "data": {
      "image/png": "[encoded data removed]",
      "text/plain": [
       "<Figure size 432x288 with 1 Axes>"
      ]
     },
     "metadata": {
      "image/png": {
       "height": 248,
       "width": 251
      },
      "needs_background": "light"
     },
     "output_type": "display_data"
    },
    {
     "name": "stdout",
     "output_type": "stream",
     "text": [
      "GFS:\n"
     ]
    },
    {
     "data": {
      "image/png": "[encoded data removed]",
      "text/plain": [
       "<Figure size 432x288 with 1 Axes>"
      ]
     },
     "metadata": {
      "image/png": {
       "height": 248,
       "width": 251
      },
      "needs_background": "light"
     },
     "output_type": "display_data"
    },
    {
     "name": "stdout",
     "output_type": "stream",
     "text": [
      "A*:\n"
     ]
    },
    {
     "data": {
      "image/png": "[encoded data removed]",
      "text/plain": [
       "<Figure size 432x288 with 1 Axes>"
      ]
     },
     "metadata": {
      "image/png": {
       "height": 248,
       "width": 251
      },
      "needs_background": "light"
     },
     "output_type": "display_data"
    },
    {
     "name": "stdout",
     "output_type": "stream",
     "text": [
      "MAZE: empty_2_maze.txt\n",
      "BFS:\n"
     ]
    },
    {
     "data": {
      "image/png": "[encoded data removed]",
      "text/plain": [
       "<Figure size 432x288 with 1 Axes>"
      ]
     },
     "metadata": {
      "image/png": {
       "height": 248,
       "width": 251
      },
      "needs_background": "light"
     },
     "output_type": "display_data"
    },
    {
     "name": "stdout",
     "output_type": "stream",
     "text": [
      "DFS:\n"
     ]
    },
    {
     "data": {
      "image/png": "[encoded data removed]",
      "text/plain": [
       "<Figure size 432x288 with 1 Axes>"
      ]
     },
     "metadata": {
      "image/png": {
       "height": 248,
       "width": 251
      },
      "needs_background": "light"
     },
     "output_type": "display_data"
    },
    {
     "name": "stdout",
     "output_type": "stream",
     "text": [
      "GFS:\n"
     ]
    },
    {
     "data": {
      "image/png": "[encoded data removed]",
      "text/plain": [
       "<Figure size 432x288 with 1 Axes>"
      ]
     },
     "metadata": {
      "image/png": {
       "height": 248,
       "width": 251
      },
      "needs_background": "light"
     },
     "output_type": "display_data"
    },
    {
     "name": "stdout",
     "output_type": "stream",
     "text": [
      "A*:\n"
     ]
    },
    {
     "data": {
      "image/png": "[encoded data removed]",
      "text/plain": [
       "<Figure size 432x288 with 1 Axes>"
      ]
     },
     "metadata": {
      "image/png": {
       "height": 248,
       "width": 251
      },
      "needs_background": "light"
     },
     "output_type": "display_data"
    }
   ],
   "source": [
    "maze_results={}\n",
    "file_names = [\"small_maze.txt\",\"medium_maze.txt\",\"large_maze.txt\",\n",
    "              \"wall_maze.txt\",\"open_maze.txt\",\"loops_maze.txt\",\n",
    "              \"L_maze.txt\",\"empty_maze.txt\",\"empty_2_maze.txt\"]\n",
    "\n",
    "\n",
    "for file in file_names:\n",
    "    with open(file, \"r\") as f:\n",
    "        maze_str = f.read()\n",
    "    maze = mh.parse_maze(maze_str)\n",
    "\n",
    "    bfs_maze=copy.deepcopy(maze)\n",
    "    dfs_maze=copy.deepcopy(maze)\n",
    "    gfs_maze=copy.deepcopy(maze)\n",
    "    a_star_maze=copy.deepcopy(maze)\n",
    "    \n",
    "    print(\"MAZE:\",file)\n",
    "\n",
    "    maze_results[file] = {\n",
    "        \"BFS\" : breadth_first_search(maze=bfs_maze, vis=True),\n",
    "        \"DFS\" : depth_first_search(maze=dfs_maze, limit=10, vis=True),\n",
    "        \"GBS\" : best_first_search(maze=gfs_maze,strategy=greedy_bfs, vis=True),\n",
    "        \"A*\" : best_first_search(maze=a_star_maze,strategy=a_star, vis=True)\n",
    "    }\n",
    "\n",
    "    print(\"BFS:\")\n",
    "    mh.show_maze(bfs_maze)\n",
    "    print(\"DFS:\")\n",
    "    mh.show_maze(dfs_maze)\n",
    "    print(\"GFS:\")\n",
    "    mh.show_maze(gfs_maze)\n",
    "    print(\"A*:\")\n",
    "    mh.show_maze(a_star_maze)"
   ]
  },
  {
   "cell_type": "markdown",
   "metadata": {},
   "source": [
    "Complete the following table for each maze.\n",
    "\n",
    "__Small maze__\n",
    "\n",
    "| algorithm | path cost | # of nodes expanded | max tree depth | max # of nodes in memory | max frontier size |\n",
    "|-----------|-----------|----------------|----------------|---------------|-------------------|\n",
    "| BFS       |           |                |                |               |                   |\n",
    "| DFS       |           |                |                |               |                   |\n",
    "| GBS       |           |                |                |               |                   |\n",
    "| A*        |           |                |                |               |                   |\n",
    "\n",
    "__Medium Maze__\n",
    "\n",
    "..."
   ]
  },
  {
   "cell_type": "code",
   "execution_count": 44,
   "metadata": {},
   "outputs": [
    {
     "name": "stdout",
     "output_type": "stream",
     "text": [
      "small_maze.txt\n"
     ]
    },
    {
     "data": {
      "text/html": [
       "<div>\n",
       "<style scoped>\n",
       "    .dataframe tbody tr th:only-of-type {\n",
       "        vertical-align: middle;\n",
       "    }\n",
       "\n",
       "    .dataframe tbody tr th {\n",
       "        vertical-align: top;\n",
       "    }\n",
       "\n",
       "    .dataframe thead th {\n",
       "        text-align: right;\n",
       "    }\n",
       "</style>\n",
       "<table border=\"1\" class=\"dataframe\">\n",
       "  <thead>\n",
       "    <tr style=\"text-align: right;\">\n",
       "      <th></th>\n",
       "      <th>path cost</th>\n",
       "      <th># of nodes expanded</th>\n",
       "      <th>max tree depth</th>\n",
       "      <th>max # of nodes in memory</th>\n",
       "      <th>max frontier size</th>\n",
       "    </tr>\n",
       "  </thead>\n",
       "  <tbody>\n",
       "    <tr>\n",
       "      <th>BFS</th>\n",
       "      <td>19</td>\n",
       "      <td>90</td>\n",
       "      <td>18</td>\n",
       "      <td>57</td>\n",
       "      <td>8</td>\n",
       "    </tr>\n",
       "    <tr>\n",
       "      <th>DFS</th>\n",
       "      <td>cutoff</td>\n",
       "      <td>112</td>\n",
       "      <td>11</td>\n",
       "      <td>9</td>\n",
       "      <td>14</td>\n",
       "    </tr>\n",
       "    <tr>\n",
       "      <th>GBS</th>\n",
       "      <td>29</td>\n",
       "      <td>43</td>\n",
       "      <td>29</td>\n",
       "      <td>87</td>\n",
       "      <td>5</td>\n",
       "    </tr>\n",
       "    <tr>\n",
       "      <th>A*</th>\n",
       "      <td>19</td>\n",
       "      <td>59</td>\n",
       "      <td>19</td>\n",
       "      <td>57</td>\n",
       "      <td>8</td>\n",
       "    </tr>\n",
       "  </tbody>\n",
       "</table>\n",
       "</div>"
      ],
      "text/plain": [
       "    path cost # of nodes expanded max tree depth max # of nodes in memory  \\\n",
       "BFS        19                  90             18                       57   \n",
       "DFS    cutoff                 112             11                        9   \n",
       "GBS        29                  43             29                       87   \n",
       "A*         19                  59             19                       57   \n",
       "\n",
       "    max frontier size  \n",
       "BFS                 8  \n",
       "DFS                14  \n",
       "GBS                 5  \n",
       "A*                  8  "
      ]
     },
     "metadata": {},
     "output_type": "display_data"
    },
    {
     "name": "stdout",
     "output_type": "stream",
     "text": [
      "\n",
      "medium_maze.txt\n"
     ]
    },
    {
     "data": {
      "text/html": [
       "<div>\n",
       "<style scoped>\n",
       "    .dataframe tbody tr th:only-of-type {\n",
       "        vertical-align: middle;\n",
       "    }\n",
       "\n",
       "    .dataframe tbody tr th {\n",
       "        vertical-align: top;\n",
       "    }\n",
       "\n",
       "    .dataframe thead th {\n",
       "        text-align: right;\n",
       "    }\n",
       "</style>\n",
       "<table border=\"1\" class=\"dataframe\">\n",
       "  <thead>\n",
       "    <tr style=\"text-align: right;\">\n",
       "      <th></th>\n",
       "      <th>path cost</th>\n",
       "      <th># of nodes expanded</th>\n",
       "      <th>max tree depth</th>\n",
       "      <th>max # of nodes in memory</th>\n",
       "      <th>max frontier size</th>\n",
       "    </tr>\n",
       "  </thead>\n",
       "  <tbody>\n",
       "    <tr>\n",
       "      <th>BFS</th>\n",
       "      <td>68</td>\n",
       "      <td>268</td>\n",
       "      <td>67</td>\n",
       "      <td>204</td>\n",
       "      <td>8</td>\n",
       "    </tr>\n",
       "    <tr>\n",
       "      <th>DFS</th>\n",
       "      <td>cutoff</td>\n",
       "      <td>45</td>\n",
       "      <td>11</td>\n",
       "      <td>6</td>\n",
       "      <td>7</td>\n",
       "    </tr>\n",
       "    <tr>\n",
       "      <th>GBS</th>\n",
       "      <td>74</td>\n",
       "      <td>81</td>\n",
       "      <td>74</td>\n",
       "      <td>222</td>\n",
       "      <td>4</td>\n",
       "    </tr>\n",
       "    <tr>\n",
       "      <th>A*</th>\n",
       "      <td>68</td>\n",
       "      <td>228</td>\n",
       "      <td>68</td>\n",
       "      <td>204</td>\n",
       "      <td>8</td>\n",
       "    </tr>\n",
       "  </tbody>\n",
       "</table>\n",
       "</div>"
      ],
      "text/plain": [
       "    path cost # of nodes expanded max tree depth max # of nodes in memory  \\\n",
       "BFS        68                 268             67                      204   \n",
       "DFS    cutoff                  45             11                        6   \n",
       "GBS        74                  81             74                      222   \n",
       "A*         68                 228             68                      204   \n",
       "\n",
       "    max frontier size  \n",
       "BFS                 8  \n",
       "DFS                 7  \n",
       "GBS                 4  \n",
       "A*                  8  "
      ]
     },
     "metadata": {},
     "output_type": "display_data"
    },
    {
     "name": "stdout",
     "output_type": "stream",
     "text": [
      "\n",
      "large_maze.txt\n"
     ]
    },
    {
     "data": {
      "text/html": [
       "<div>\n",
       "<style scoped>\n",
       "    .dataframe tbody tr th:only-of-type {\n",
       "        vertical-align: middle;\n",
       "    }\n",
       "\n",
       "    .dataframe tbody tr th {\n",
       "        vertical-align: top;\n",
       "    }\n",
       "\n",
       "    .dataframe thead th {\n",
       "        text-align: right;\n",
       "    }\n",
       "</style>\n",
       "<table border=\"1\" class=\"dataframe\">\n",
       "  <thead>\n",
       "    <tr style=\"text-align: right;\">\n",
       "      <th></th>\n",
       "      <th>path cost</th>\n",
       "      <th># of nodes expanded</th>\n",
       "      <th>max tree depth</th>\n",
       "      <th>max # of nodes in memory</th>\n",
       "      <th>max frontier size</th>\n",
       "    </tr>\n",
       "  </thead>\n",
       "  <tbody>\n",
       "    <tr>\n",
       "      <th>BFS</th>\n",
       "      <td>210</td>\n",
       "      <td>619</td>\n",
       "      <td>209</td>\n",
       "      <td>840</td>\n",
       "      <td>8</td>\n",
       "    </tr>\n",
       "    <tr>\n",
       "      <th>DFS</th>\n",
       "      <td>cutoff</td>\n",
       "      <td>50</td>\n",
       "      <td>11</td>\n",
       "      <td>15</td>\n",
       "      <td>7</td>\n",
       "    </tr>\n",
       "    <tr>\n",
       "      <th>GBS</th>\n",
       "      <td>210</td>\n",
       "      <td>486</td>\n",
       "      <td>210</td>\n",
       "      <td>840</td>\n",
       "      <td>21</td>\n",
       "    </tr>\n",
       "    <tr>\n",
       "      <th>A*</th>\n",
       "      <td>210</td>\n",
       "      <td>556</td>\n",
       "      <td>210</td>\n",
       "      <td>840</td>\n",
       "      <td>12</td>\n",
       "    </tr>\n",
       "  </tbody>\n",
       "</table>\n",
       "</div>"
      ],
      "text/plain": [
       "    path cost # of nodes expanded max tree depth max # of nodes in memory  \\\n",
       "BFS       210                 619            209                      840   \n",
       "DFS    cutoff                  50             11                       15   \n",
       "GBS       210                 486            210                      840   \n",
       "A*        210                 556            210                      840   \n",
       "\n",
       "    max frontier size  \n",
       "BFS                 8  \n",
       "DFS                 7  \n",
       "GBS                21  \n",
       "A*                 12  "
      ]
     },
     "metadata": {},
     "output_type": "display_data"
    },
    {
     "name": "stdout",
     "output_type": "stream",
     "text": [
      "\n",
      "wall_maze.txt\n"
     ]
    },
    {
     "data": {
      "text/html": [
       "<div>\n",
       "<style scoped>\n",
       "    .dataframe tbody tr th:only-of-type {\n",
       "        vertical-align: middle;\n",
       "    }\n",
       "\n",
       "    .dataframe tbody tr th {\n",
       "        vertical-align: top;\n",
       "    }\n",
       "\n",
       "    .dataframe thead th {\n",
       "        text-align: right;\n",
       "    }\n",
       "</style>\n",
       "<table border=\"1\" class=\"dataframe\">\n",
       "  <thead>\n",
       "    <tr style=\"text-align: right;\">\n",
       "      <th></th>\n",
       "      <th>path cost</th>\n",
       "      <th># of nodes expanded</th>\n",
       "      <th>max tree depth</th>\n",
       "      <th>max # of nodes in memory</th>\n",
       "      <th>max frontier size</th>\n",
       "    </tr>\n",
       "  </thead>\n",
       "  <tbody>\n",
       "    <tr>\n",
       "      <th>BFS</th>\n",
       "      <td>14</td>\n",
       "      <td>87</td>\n",
       "      <td>13</td>\n",
       "      <td>56</td>\n",
       "      <td>11</td>\n",
       "    </tr>\n",
       "    <tr>\n",
       "      <th>DFS</th>\n",
       "      <td>cutoff</td>\n",
       "      <td>50628</td>\n",
       "      <td>11</td>\n",
       "      <td>36</td>\n",
       "      <td>30</td>\n",
       "    </tr>\n",
       "    <tr>\n",
       "      <th>GBS</th>\n",
       "      <td>14</td>\n",
       "      <td>42</td>\n",
       "      <td>14</td>\n",
       "      <td>56</td>\n",
       "      <td>29</td>\n",
       "    </tr>\n",
       "    <tr>\n",
       "      <th>A*</th>\n",
       "      <td>14</td>\n",
       "      <td>86</td>\n",
       "      <td>14</td>\n",
       "      <td>56</td>\n",
       "      <td>31</td>\n",
       "    </tr>\n",
       "  </tbody>\n",
       "</table>\n",
       "</div>"
      ],
      "text/plain": [
       "    path cost # of nodes expanded max tree depth max # of nodes in memory  \\\n",
       "BFS        14                  87             13                       56   \n",
       "DFS    cutoff               50628             11                       36   \n",
       "GBS        14                  42             14                       56   \n",
       "A*         14                  86             14                       56   \n",
       "\n",
       "    max frontier size  \n",
       "BFS                11  \n",
       "DFS                30  \n",
       "GBS                29  \n",
       "A*                 31  "
      ]
     },
     "metadata": {},
     "output_type": "display_data"
    },
    {
     "name": "stdout",
     "output_type": "stream",
     "text": [
      "\n",
      "open_maze.txt\n"
     ]
    },
    {
     "data": {
      "text/html": [
       "<div>\n",
       "<style scoped>\n",
       "    .dataframe tbody tr th:only-of-type {\n",
       "        vertical-align: middle;\n",
       "    }\n",
       "\n",
       "    .dataframe tbody tr th {\n",
       "        vertical-align: top;\n",
       "    }\n",
       "\n",
       "    .dataframe thead th {\n",
       "        text-align: right;\n",
       "    }\n",
       "</style>\n",
       "<table border=\"1\" class=\"dataframe\">\n",
       "  <thead>\n",
       "    <tr style=\"text-align: right;\">\n",
       "      <th></th>\n",
       "      <th>path cost</th>\n",
       "      <th># of nodes expanded</th>\n",
       "      <th>max tree depth</th>\n",
       "      <th>max # of nodes in memory</th>\n",
       "      <th>max frontier size</th>\n",
       "    </tr>\n",
       "  </thead>\n",
       "  <tbody>\n",
       "    <tr>\n",
       "      <th>BFS</th>\n",
       "      <td>54</td>\n",
       "      <td>681</td>\n",
       "      <td>53</td>\n",
       "      <td>216</td>\n",
       "      <td>25</td>\n",
       "    </tr>\n",
       "    <tr>\n",
       "      <th>DFS</th>\n",
       "      <td>cutoff</td>\n",
       "      <td>36828</td>\n",
       "      <td>11</td>\n",
       "      <td>8</td>\n",
       "      <td>24</td>\n",
       "    </tr>\n",
       "    <tr>\n",
       "      <th>GBS</th>\n",
       "      <td>68</td>\n",
       "      <td>154</td>\n",
       "      <td>68</td>\n",
       "      <td>272</td>\n",
       "      <td>66</td>\n",
       "    </tr>\n",
       "    <tr>\n",
       "      <th>A*</th>\n",
       "      <td>54</td>\n",
       "      <td>554</td>\n",
       "      <td>54</td>\n",
       "      <td>216</td>\n",
       "      <td>25</td>\n",
       "    </tr>\n",
       "  </tbody>\n",
       "</table>\n",
       "</div>"
      ],
      "text/plain": [
       "    path cost # of nodes expanded max tree depth max # of nodes in memory  \\\n",
       "BFS        54                 681             53                      216   \n",
       "DFS    cutoff               36828             11                        8   \n",
       "GBS        68                 154             68                      272   \n",
       "A*         54                 554             54                      216   \n",
       "\n",
       "    max frontier size  \n",
       "BFS                25  \n",
       "DFS                24  \n",
       "GBS                66  \n",
       "A*                 25  "
      ]
     },
     "metadata": {},
     "output_type": "display_data"
    },
    {
     "name": "stdout",
     "output_type": "stream",
     "text": [
      "\n",
      "loops_maze.txt\n"
     ]
    },
    {
     "data": {
      "text/html": [
       "<div>\n",
       "<style scoped>\n",
       "    .dataframe tbody tr th:only-of-type {\n",
       "        vertical-align: middle;\n",
       "    }\n",
       "\n",
       "    .dataframe tbody tr th {\n",
       "        vertical-align: top;\n",
       "    }\n",
       "\n",
       "    .dataframe thead th {\n",
       "        text-align: right;\n",
       "    }\n",
       "</style>\n",
       "<table border=\"1\" class=\"dataframe\">\n",
       "  <thead>\n",
       "    <tr style=\"text-align: right;\">\n",
       "      <th></th>\n",
       "      <th>path cost</th>\n",
       "      <th># of nodes expanded</th>\n",
       "      <th>max tree depth</th>\n",
       "      <th>max # of nodes in memory</th>\n",
       "      <th>max frontier size</th>\n",
       "    </tr>\n",
       "  </thead>\n",
       "  <tbody>\n",
       "    <tr>\n",
       "      <th>BFS</th>\n",
       "      <td>23</td>\n",
       "      <td>70</td>\n",
       "      <td>22</td>\n",
       "      <td>92</td>\n",
       "      <td>8</td>\n",
       "    </tr>\n",
       "    <tr>\n",
       "      <th>DFS</th>\n",
       "      <td>cutoff</td>\n",
       "      <td>358</td>\n",
       "      <td>11</td>\n",
       "      <td>8</td>\n",
       "      <td>14</td>\n",
       "    </tr>\n",
       "    <tr>\n",
       "      <th>GBS</th>\n",
       "      <td>23</td>\n",
       "      <td>85</td>\n",
       "      <td>23</td>\n",
       "      <td>92</td>\n",
       "      <td>10</td>\n",
       "    </tr>\n",
       "    <tr>\n",
       "      <th>A*</th>\n",
       "      <td>23</td>\n",
       "      <td>62</td>\n",
       "      <td>23</td>\n",
       "      <td>92</td>\n",
       "      <td>6</td>\n",
       "    </tr>\n",
       "  </tbody>\n",
       "</table>\n",
       "</div>"
      ],
      "text/plain": [
       "    path cost # of nodes expanded max tree depth max # of nodes in memory  \\\n",
       "BFS        23                  70             22                       92   \n",
       "DFS    cutoff                 358             11                        8   \n",
       "GBS        23                  85             23                       92   \n",
       "A*         23                  62             23                       92   \n",
       "\n",
       "    max frontier size  \n",
       "BFS                 8  \n",
       "DFS                14  \n",
       "GBS                10  \n",
       "A*                  6  "
      ]
     },
     "metadata": {},
     "output_type": "display_data"
    },
    {
     "name": "stdout",
     "output_type": "stream",
     "text": [
      "\n",
      "L_maze.txt\n"
     ]
    },
    {
     "data": {
      "text/html": [
       "<div>\n",
       "<style scoped>\n",
       "    .dataframe tbody tr th:only-of-type {\n",
       "        vertical-align: middle;\n",
       "    }\n",
       "\n",
       "    .dataframe tbody tr th {\n",
       "        vertical-align: top;\n",
       "    }\n",
       "\n",
       "    .dataframe thead th {\n",
       "        text-align: right;\n",
       "    }\n",
       "</style>\n",
       "<table border=\"1\" class=\"dataframe\">\n",
       "  <thead>\n",
       "    <tr style=\"text-align: right;\">\n",
       "      <th></th>\n",
       "      <th>path cost</th>\n",
       "      <th># of nodes expanded</th>\n",
       "      <th>max tree depth</th>\n",
       "      <th>max # of nodes in memory</th>\n",
       "      <th>max frontier size</th>\n",
       "    </tr>\n",
       "  </thead>\n",
       "  <tbody>\n",
       "    <tr>\n",
       "      <th>BFS</th>\n",
       "      <td>14</td>\n",
       "      <td>142</td>\n",
       "      <td>13</td>\n",
       "      <td>56</td>\n",
       "      <td>18</td>\n",
       "    </tr>\n",
       "    <tr>\n",
       "      <th>DFS</th>\n",
       "      <td>cutoff</td>\n",
       "      <td>157844</td>\n",
       "      <td>11</td>\n",
       "      <td>20</td>\n",
       "      <td>31</td>\n",
       "    </tr>\n",
       "    <tr>\n",
       "      <th>GBS</th>\n",
       "      <td>20</td>\n",
       "      <td>47</td>\n",
       "      <td>20</td>\n",
       "      <td>80</td>\n",
       "      <td>25</td>\n",
       "    </tr>\n",
       "    <tr>\n",
       "      <th>A*</th>\n",
       "      <td>14</td>\n",
       "      <td>65</td>\n",
       "      <td>14</td>\n",
       "      <td>56</td>\n",
       "      <td>24</td>\n",
       "    </tr>\n",
       "  </tbody>\n",
       "</table>\n",
       "</div>"
      ],
      "text/plain": [
       "    path cost # of nodes expanded max tree depth max # of nodes in memory  \\\n",
       "BFS        14                 142             13                       56   \n",
       "DFS    cutoff              157844             11                       20   \n",
       "GBS        20                  47             20                       80   \n",
       "A*         14                  65             14                       56   \n",
       "\n",
       "    max frontier size  \n",
       "BFS                18  \n",
       "DFS                31  \n",
       "GBS                25  \n",
       "A*                 24  "
      ]
     },
     "metadata": {},
     "output_type": "display_data"
    },
    {
     "name": "stdout",
     "output_type": "stream",
     "text": [
      "\n",
      "empty_maze.txt\n"
     ]
    },
    {
     "data": {
      "text/html": [
       "<div>\n",
       "<style scoped>\n",
       "    .dataframe tbody tr th:only-of-type {\n",
       "        vertical-align: middle;\n",
       "    }\n",
       "\n",
       "    .dataframe tbody tr th {\n",
       "        vertical-align: top;\n",
       "    }\n",
       "\n",
       "    .dataframe thead th {\n",
       "        text-align: right;\n",
       "    }\n",
       "</style>\n",
       "<table border=\"1\" class=\"dataframe\">\n",
       "  <thead>\n",
       "    <tr style=\"text-align: right;\">\n",
       "      <th></th>\n",
       "      <th>path cost</th>\n",
       "      <th># of nodes expanded</th>\n",
       "      <th>max tree depth</th>\n",
       "      <th>max # of nodes in memory</th>\n",
       "      <th>max frontier size</th>\n",
       "    </tr>\n",
       "  </thead>\n",
       "  <tbody>\n",
       "    <tr>\n",
       "      <th>BFS</th>\n",
       "      <td>14</td>\n",
       "      <td>94</td>\n",
       "      <td>13</td>\n",
       "      <td>56</td>\n",
       "      <td>12</td>\n",
       "    </tr>\n",
       "    <tr>\n",
       "      <th>DFS</th>\n",
       "      <td>cutoff</td>\n",
       "      <td>74224</td>\n",
       "      <td>11</td>\n",
       "      <td>36</td>\n",
       "      <td>30</td>\n",
       "    </tr>\n",
       "    <tr>\n",
       "      <th>GBS</th>\n",
       "      <td>14</td>\n",
       "      <td>42</td>\n",
       "      <td>14</td>\n",
       "      <td>56</td>\n",
       "      <td>29</td>\n",
       "    </tr>\n",
       "    <tr>\n",
       "      <th>A*</th>\n",
       "      <td>14</td>\n",
       "      <td>93</td>\n",
       "      <td>14</td>\n",
       "      <td>56</td>\n",
       "      <td>31</td>\n",
       "    </tr>\n",
       "  </tbody>\n",
       "</table>\n",
       "</div>"
      ],
      "text/plain": [
       "    path cost # of nodes expanded max tree depth max # of nodes in memory  \\\n",
       "BFS        14                  94             13                       56   \n",
       "DFS    cutoff               74224             11                       36   \n",
       "GBS        14                  42             14                       56   \n",
       "A*         14                  93             14                       56   \n",
       "\n",
       "    max frontier size  \n",
       "BFS                12  \n",
       "DFS                30  \n",
       "GBS                29  \n",
       "A*                 31  "
      ]
     },
     "metadata": {},
     "output_type": "display_data"
    },
    {
     "name": "stdout",
     "output_type": "stream",
     "text": [
      "\n",
      "empty_2_maze.txt\n"
     ]
    },
    {
     "data": {
      "text/html": [
       "<div>\n",
       "<style scoped>\n",
       "    .dataframe tbody tr th:only-of-type {\n",
       "        vertical-align: middle;\n",
       "    }\n",
       "\n",
       "    .dataframe tbody tr th {\n",
       "        vertical-align: top;\n",
       "    }\n",
       "\n",
       "    .dataframe thead th {\n",
       "        text-align: right;\n",
       "    }\n",
       "</style>\n",
       "<table border=\"1\" class=\"dataframe\">\n",
       "  <thead>\n",
       "    <tr style=\"text-align: right;\">\n",
       "      <th></th>\n",
       "      <th>path cost</th>\n",
       "      <th># of nodes expanded</th>\n",
       "      <th>max tree depth</th>\n",
       "      <th>max # of nodes in memory</th>\n",
       "      <th>max frontier size</th>\n",
       "    </tr>\n",
       "  </thead>\n",
       "  <tbody>\n",
       "    <tr>\n",
       "      <th>BFS</th>\n",
       "      <td>14</td>\n",
       "      <td>94</td>\n",
       "      <td>13</td>\n",
       "      <td>56</td>\n",
       "      <td>12</td>\n",
       "    </tr>\n",
       "    <tr>\n",
       "      <th>DFS</th>\n",
       "      <td>cutoff</td>\n",
       "      <td>74224</td>\n",
       "      <td>11</td>\n",
       "      <td>8</td>\n",
       "      <td>27</td>\n",
       "    </tr>\n",
       "    <tr>\n",
       "      <th>GBS</th>\n",
       "      <td>14</td>\n",
       "      <td>42</td>\n",
       "      <td>14</td>\n",
       "      <td>56</td>\n",
       "      <td>29</td>\n",
       "    </tr>\n",
       "    <tr>\n",
       "      <th>A*</th>\n",
       "      <td>14</td>\n",
       "      <td>93</td>\n",
       "      <td>14</td>\n",
       "      <td>56</td>\n",
       "      <td>31</td>\n",
       "    </tr>\n",
       "  </tbody>\n",
       "</table>\n",
       "</div>"
      ],
      "text/plain": [
       "    path cost # of nodes expanded max tree depth max # of nodes in memory  \\\n",
       "BFS        14                  94             13                       56   \n",
       "DFS    cutoff               74224             11                        8   \n",
       "GBS        14                  42             14                       56   \n",
       "A*         14                  93             14                       56   \n",
       "\n",
       "    max frontier size  \n",
       "BFS                12  \n",
       "DFS                27  \n",
       "GBS                29  \n",
       "A*                 31  "
      ]
     },
     "metadata": {},
     "output_type": "display_data"
    },
    {
     "name": "stdout",
     "output_type": "stream",
     "text": [
      "\n"
     ]
    }
   ],
   "source": [
    "import numpy as np  \n",
    "import pandas as pd\n",
    "\n",
    "\n",
    "for maze in maze_results:\n",
    "    print(maze)\n",
    "    df = pd.DataFrame(maze_results[maze], index=[\"path cost\",\"# of nodes expanded\",\n",
    "                                                 \"max tree depth\",\"max # of nodes in memory\",\n",
    "                                                 \"max frontier size\"])\n",
    "    display(df.transpose())\n",
    "    print()"
   ]
  },
  {
   "cell_type": "markdown",
   "metadata": {},
   "source": [
    "Present the results as using charts (see [Python Code Examples/charts and tables](../Python_Code_Examples/charts_and_tables.ipynb)). "
   ]
  },
  {
   "cell_type": "code",
   "execution_count": null,
   "metadata": {},
   "outputs": [],
   "source": [
    "# Your code/answer goes here"
   ]
  },
  {
   "cell_type": "markdown",
   "metadata": {},
   "source": [
    "Discuss the most important lessons you have learned from implementing the different search strategies. "
   ]
  },
  {
   "cell_type": "code",
   "execution_count": null,
   "metadata": {},
   "outputs": [],
   "source": [
    "# Add discussion"
   ]
  },
  {
   "cell_type": "markdown",
   "metadata": {},
   "source": [
    "## Graduate student advanced task: IDS and Multiple goals [10 Points]\n",
    "\n",
    "__Undergraduate students:__ This is a bonus task you can attempt if you like [+5 Bonus Points].\n",
    "\n",
    "Create a few mazes with multiple goals by adding one or two more goals to the medium size maze.\n",
    "Solve the maze with your implementations for DFS, BFS, and implement in addition IDS (iterative deepening search using DFS). \n",
    "\n",
    "Run experiments to show which implementations find the optimal solution and which do not. Discuss why that is the case."
   ]
  },
  {
   "cell_type": "code",
   "execution_count": null,
   "metadata": {},
   "outputs": [],
   "source": [
    "# Your code/answer goes here"
   ]
  },
  {
   "cell_type": "markdown",
   "metadata": {},
   "source": [
    "## More advanced tasks to think about\n",
    "\n",
    "Instead of defining each square as a state, use only intersections as states. Now the storage requirement is reduced, but the path length between two intersections can be different. If we use total path length measured as the number of squares as path cost, how can we make sure that BFS and iterative deepening search is optimal? Change the code to do so."
   ]
  },
  {
   "cell_type": "code",
   "execution_count": null,
   "metadata": {},
   "outputs": [],
   "source": [
    "# Your code/answer goes here"
   ]
  },
  {
   "cell_type": "markdown",
   "metadata": {},
   "source": [
    "Modify your A* search to add weights (see text book) and explore how different weights influence the result."
   ]
  },
  {
   "cell_type": "code",
   "execution_count": null,
   "metadata": {},
   "outputs": [],
   "source": [
    "# Your code/answer goes here"
   ]
  },
  {
   "cell_type": "markdown",
   "metadata": {},
   "source": [
    "What happens if the agent does not know the layout of the maze in advance (i.e., faces an unkown, only partially observable environment)? How does the environment look then (PEAS description)? How would you implement a rational agent to solve the maze? What if the agent still has a GPS device to tell the distance to the goal?"
   ]
  },
  {
   "cell_type": "code",
   "execution_count": null,
   "metadata": {},
   "outputs": [],
   "source": [
    "# Your code/answer goes here"
   ]
  }
 ],
 "metadata": {
  "kernelspec": {
   "display_name": "Python 3 (ipykernel)",
   "language": "python",
   "name": "python3"
  },
  "language_info": {
   "codemirror_mode": {
    "name": "ipython",
    "version": 3
   },
   "file_extension": ".py",
   "mimetype": "text/x-python",
   "name": "python",
   "nbconvert_exporter": "python",
   "pygments_lexer": "ipython3",
   "version": "3.9.12"
  }
 },
 "nbformat": 4,
 "nbformat_minor": 4
}
